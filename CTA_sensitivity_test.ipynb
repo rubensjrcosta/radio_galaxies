{
 "cells": [
  {
   "cell_type": "code",
   "execution_count": null,
   "metadata": {},
   "outputs": [],
   "source": []
  },
  {
   "cell_type": "code",
   "execution_count": null,
   "metadata": {
    "id": "d9EeBjCBmtDI",
    "jupyter": {
     "outputs_hidden": false
    }
   },
   "outputs": [],
   "source": [
    "from regions import CircleSkyRegion\n",
    "import operator"
   ]
  },
  {
   "cell_type": "markdown",
   "metadata": {
    "id": "6C0R7VP2mtDI"
   },
   "source": [
    "And more imports from `gammapy`:"
   ]
  },
  {
   "cell_type": "code",
   "execution_count": null,
   "metadata": {
    "id": "Xp4Rx6VEmtDI",
    "jupyter": {
     "outputs_hidden": false
    }
   },
   "outputs": [],
   "source": [
    "from gammapy.data import Observation, observatory_locations\n",
    "from gammapy.datasets import SpectrumDataset, SpectrumDatasetOnOff\n",
    "from gammapy.irf import load_cta_irfs\n",
    "from gammapy.makers import SpectrumDatasetMaker\n",
    "from gammapy.maps import MapAxis, RegionGeom\n",
    "from gammapy.modeling import Fit\n",
    "from gammapy.modeling import models \n",
    "from gammapy.estimators import FluxPointsEstimator"
   ]
  },
  {
   "cell_type": "code",
   "execution_count": null,
   "metadata": {},
   "outputs": [],
   "source": []
  },
  {
   "cell_type": "code",
   "execution_count": null,
   "metadata": {},
   "outputs": [],
   "source": []
  },
  {
   "cell_type": "markdown",
   "metadata": {},
   "source": [
    "## CTA sensitivity for a point-like IRF \n",
    "\n",
    "[gammapy-tutorial](https://docs.gammapy.org/1.2/tutorials/analysis-1d/cta_sensitivity.html)</br>"
   ]
  },
  {
   "cell_type": "markdown",
   "metadata": {},
   "source": [
    "[CTAO's expected \"Alpha Configuration\" performance](https://www.cta-observatory.org/science/ctao-performance/)"
   ]
  },
  {
   "cell_type": "markdown",
   "metadata": {},
   "source": [
    "[CTAO Instrument Response Functions - prod5 version v0.1](https://zenodo.org/records/5499840#.YUya5WYzbUI)"
   ]
  },
  {
   "cell_type": "markdown",
   "metadata": {},
   "source": [
    "[IRFs - gamma-astro-data-formats](https://gamma-astro-data-formats.readthedocs.io/en/v0.3/irfs/index.html)"
   ]
  },
  {
   "cell_type": "code",
   "execution_count": null,
   "metadata": {},
   "outputs": [],
   "source": []
  },
  {
   "cell_type": "code",
   "execution_count": 1,
   "metadata": {
    "id": "eAe8JT-6mtC6",
    "tags": []
   },
   "outputs": [],
   "source": [
    "%matplotlib inline"
   ]
  },
  {
   "cell_type": "code",
   "execution_count": 19,
   "metadata": {
    "id": "HUgeuuQxmtC9",
    "scrolled": true
   },
   "outputs": [],
   "source": [
    "import matplotlib.pyplot as plt\n",
    "\n",
    "import numpy as np\n",
    "import astropy.units as u\n",
    "\n",
    "from astropy.coordinates import Angle, SkyCoord\n",
    "\n",
    "from feupy.utils.string_handling import name_to_txt\n",
    "from feupy.utils.io import mkdir_sub_directory\n",
    "from feupy.utils.table import write_tables_fits\n",
    "from feupy.utils.table import write_tables_csv\n",
    "\n",
    "from feupy.utils.geometry import (\n",
    "    create_energy_axis, \n",
    "    create_pointing, \n",
    "    create_pointing_position, \n",
    "    create_region_geometry,\n",
    "    define_on_region,\n",
    ")\n",
    "\n",
    "from feupy.analysis.config import AnalysisConfig\n",
    "from feupy.analysis.core import Analysis\n",
    "from feupy.utils.observation import get_obs_label\n",
    "from feupy.cta.irfs import Irfs\n",
    "\n",
    "from gammapy.maps import MapAxis\n",
    "\n",
    "from gammapy.datasets import SpectrumDataset, SpectrumDatasetOnOff, Datasets\n",
    "from gammapy.makers import SpectrumDatasetMaker, SafeMaskMaker\n",
    "from gammapy.estimators import FluxPoints, SensitivityEstimator\n",
    "\n",
    "from gammapy.data import Observation"
   ]
  },
  {
   "cell_type": "code",
   "execution_count": 3,
   "metadata": {},
   "outputs": [],
   "source": [
    "from config import irfs_label_txt"
   ]
  },
  {
   "cell_type": "code",
   "execution_count": null,
   "metadata": {},
   "outputs": [],
   "source": [
    "from astropy.visualization import quantity_support\n",
    "import matplotlib.pyplot as plt\n",
    "from gammapy.irf import (\n",
    "    Background3D,\n",
    "    EffectiveAreaTable2D,\n",
    "    EnergyDependentMultiGaussPSF,\n",
    "    EnergyDispersion2D,\n",
    ")\n",
    "from gammapy.irf.io import COMMON_IRF_HEADERS, IRF_DL3_HDU_SPECIFICATION\n",
    "from gammapy.makers.utils import (\n",
    "    make_edisp_kernel_map,\n",
    "    make_map_exposure_true_energy,\n",
    "    make_psf_map,\n",
    ")\n",
    "from gammapy.maps import MapAxis, WcsGeom"
   ]
  },
  {
   "cell_type": "code",
   "execution_count": null,
   "metadata": {},
   "outputs": [],
   "source": []
  },
  {
   "cell_type": "code",
   "execution_count": null,
   "metadata": {},
   "outputs": [],
   "source": [
    "irfs_groups =[\n",
    "    ['South', 'South-SSTSubArray','South-MSTSubArray','North','North-MSTSubArray', 'North-LSTSubArray'], \n",
    "    ['AverageAz', 'SouthAz', 'NorthAz'], \n",
    "    ['20deg','40deg','60deg'], \n",
    "    ['0.5h', '5h', '50h']\n",
    "]\n",
    "IRFS_OPTS, IRFS, IRFS_LABELS, LOCATION = Irfs.get_irf_groups(irfs_groups)"
   ]
  },
  {
   "cell_type": "code",
   "execution_count": 4,
   "metadata": {},
   "outputs": [],
   "source": [
    "config = AnalysisConfig()"
   ]
  },
  {
   "cell_type": "code",
   "execution_count": 5,
   "metadata": {},
   "outputs": [
    {
     "name": "stdout",
     "output_type": "stream",
     "text": [
      "49.95, 41.51\n",
      "150.58, -13.26\n"
     ]
    }
   ],
   "source": [
    "source_name = 'NGC 1275'\n",
    "\n",
    "position = SkyCoord.from_name(source_name)\n",
    "print(f'{position.ra.deg:.2f}, {position.dec.deg:.2f}')\n",
    "print(f'{position.galactic.l.deg:.2f}, {position.galactic.b.deg:.2f}')"
   ]
  },
  {
   "cell_type": "code",
   "execution_count": 6,
   "metadata": {},
   "outputs": [
    {
     "name": "stdout",
     "output_type": "stream",
     "text": [
      "Directory 'NGC_1275' created\n",
      "Directory 'NGC_1275/datasets' created\n",
      "Directory 'NGC_1275/figures' created\n",
      "Directory 'NGC_1275/sensitivity' created\n",
      "Directory 'NGC_1275/data' created\n"
     ]
    }
   ],
   "source": [
    "outdir = f\"./{name_to_txt(source_name)}\"\n",
    "outdir_path = mkdir_sub_directory(outdir)\n",
    "datasets_path = mkdir_sub_directory(outdir, 'datasets')[1]\n",
    "figures_path = mkdir_sub_directory(outdir, 'figures')[1]\n",
    "sensitivity_path = mkdir_sub_directory(outdir, 'sensitivity')[1]\n",
    "data_path = mkdir_sub_directory(outdir, 'data')[1]\n",
    "\n",
    "config.general.outdir = outdir\n",
    "config.general.datasets_file = f'{datasets_path}/datasets.yaml'\n",
    "config.general.models_file = f'{datasets_path}/models.yaml'"
   ]
  },
  {
   "cell_type": "code",
   "execution_count": 7,
   "metadata": {},
   "outputs": [
    {
     "name": "stderr",
     "output_type": "stream",
     "text": [
      "Setting logging config: {'level': 'INFO', 'filename': None, 'filemode': None, 'format': None, 'datefmt': None}\n"
     ]
    }
   ],
   "source": [
    "analysis = Analysis(config)"
   ]
  },
  {
   "cell_type": "code",
   "execution_count": 8,
   "metadata": {},
   "outputs": [],
   "source": [
    "# analysis.read_datasets()\n",
    "analysis.datasets =Datasets()"
   ]
  },
  {
   "cell_type": "code",
   "execution_count": null,
   "metadata": {},
   "outputs": [],
   "source": []
  },
  {
   "cell_type": "code",
   "execution_count": 9,
   "metadata": {},
   "outputs": [],
   "source": [
    "# Define simulation parameters parameters\n",
    "livetime = 5. * u.h\n",
    "\n",
    "pointing_angle = 0*u.deg\n",
    "offset = 0.5*u.deg\n",
    "\n",
    "on_region_radius = Angle(\"0.11 deg\")\n",
    "\n",
    "gamma_min = 10\n",
    "n_sigma = 3 \n",
    "bkg_syst_fraction = 0.10\n",
    "\n",
    "selection = [\"edisp\", \"background\", \"exposure\"]\n",
    "\n",
    "containment = 0.68\n",
    "\n",
    "acceptance = 1\n",
    "acceptance_off = 20"
   ]
  },
  {
   "cell_type": "code",
   "execution_count": null,
   "metadata": {},
   "outputs": [],
   "source": []
  },
  {
   "cell_type": "code",
   "execution_count": 10,
   "metadata": {},
   "outputs": [
    {
     "name": "stdout",
     "output_type": "stream",
     "text": [
      "FixedPointingInfo:\n",
      "\n",
      "mode:        PointingMode.POINTING\n",
      "coordinates: <SkyCoord (ICRS): (ra, dec) in deg\n",
      "    (49.95066663, 42.0116969)>\n",
      "\n",
      "Region: CircleSkyRegion\n",
      "center: <SkyCoord (ICRS): (ra, dec) in deg\n",
      "    (49.95066663, 41.5116969)>\n",
      "radius: 0.11 deg\n",
      "\n",
      "RegionGeom\n",
      "\n",
      "\tregion     : CircleSkyRegion\n",
      "\taxes       : ['lon', 'lat', 'energy']\n",
      "\tshape      : (1, 1, 31)\n",
      "\tndim       : 3\n",
      "\tframe      : icrs\n",
      "\tcenter     : 50.0 deg, 41.5 deg\n",
      "\n",
      "MapAxis\n",
      "\n",
      "\tname       : energy    \n",
      "\tunit       : 'TeV'     \n",
      "\tnbins      : 31        \n",
      "\tnode type  : edges     \n",
      "\tedges min  : 1.0e-01 TeV\n",
      "\tedges max  : 3.2e+01 TeV\n",
      "\tinterp     : log       \n",
      "\n",
      "SpectrumDataset\n",
      "---------------\n",
      "\n",
      "  Name                            : empty_dataset \n",
      "\n",
      "  Total counts                    : 0 \n",
      "  Total background counts         : 0.00\n",
      "  Total excess counts             : 0.00\n",
      "\n",
      "  Predicted counts                : 0.00\n",
      "  Predicted background counts     : 0.00\n",
      "  Predicted excess counts         : nan\n",
      "\n",
      "  Exposure min                    : 0.00e+00 m2 s\n",
      "  Exposure max                    : 0.00e+00 m2 s\n",
      "\n",
      "  Number of total bins            : 31 \n",
      "  Number of fit bins              : 0 \n",
      "\n",
      "  Fit statistic type              : cash\n",
      "  Fit statistic value (-2 log(L)) : nan\n",
      "\n",
      "  Number of models                : 0 \n",
      "  Number of parameters            : 0\n",
      "  Number of free parameters       : 0\n",
      "\n",
      "\n"
     ]
    }
   ],
   "source": [
    "pointing_position = create_pointing_position(position, pointing_angle, offset)\n",
    "pointing = create_pointing(pointing_position)\n",
    "print(f\"{pointing}\\n\")\n",
    "\n",
    "\n",
    "on_region = define_on_region(center=position, radius=on_region_radius)\n",
    "print(f\"{on_region}\\n\")\n",
    "\n",
    "e_edges_min = 1.0e-01*u.TeV\n",
    "e_edges_max = 3.2e+01*u.TeV\n",
    "nbin_edges = 12\n",
    "config.datasets.geom.axes.energy.min = e_edges_min\n",
    "config.datasets.geom.axes.energy.max = e_edges_max\n",
    "config.datasets.geom.axes.energy.nbins = nbin_edges\n",
    "config.datasets.geom.axes.energy.name = 'energy'\n",
    "energy_settings = config.datasets.geom.axes.energy\n",
    "\n",
    "e_edges_min = 3.2e-02*u.TeV\n",
    "e_edges_max = 1.0e+02*u.TeV\n",
    "nbin_edges = 15\n",
    "config.datasets.geom.axes.energy_true.min =  e_edges_min\n",
    "config.datasets.geom.axes.energy_true.max = e_edges_max\n",
    "config.datasets.geom.axes.energy_true.nbins = nbin_edges\n",
    "config.datasets.geom.axes.energy_true.name = 'energy_true'\n",
    "energy_true_settings = config.datasets.geom.axes.energy_true\n",
    "\n",
    "energy_axis = create_energy_axis(\n",
    "    energy_settings.min, \n",
    "    energy_settings.max, \n",
    "    energy_settings.nbins, \n",
    "    per_decade=True, \n",
    "    name=energy_settings.name\n",
    ")\n",
    "\n",
    "geom = create_region_geometry(on_region, axes=[energy_axis])\n",
    "print(geom)\n",
    "print(energy_axis)\n",
    "\n",
    "energy_axis_true = create_energy_axis(\n",
    "    energy_true_settings.min, \n",
    "    energy_true_settings.max, \n",
    "    energy_true_settings.nbins, \n",
    "    per_decade=True, \n",
    "    name=energy_true_settings.name\n",
    ")\n",
    "\n",
    "\n",
    "empty_dataset = SpectrumDataset.create(geom=geom, energy_axis_true=energy_axis_true, name='empty_dataset')\n",
    "# analysis.datasets = Datasets(empty_dataset)\n",
    "print(empty_dataset)"
   ]
  },
  {
   "cell_type": "code",
   "execution_count": 11,
   "metadata": {},
   "outputs": [],
   "source": [
    "spectrum_maker = SpectrumDatasetMaker(selection=selection)\n",
    "sensitivity_estimator = SensitivityEstimator(\n",
    "    gamma_min=gamma_min, n_sigma=n_sigma, bkg_syst_fraction=bkg_syst_fraction\n",
    ")\n",
    "sensitivity_estimator1 = SensitivityEstimator(\n",
    "    gamma_min=gamma_min, n_sigma=n_sigma, bkg_syst_fraction=bkg_syst_fraction\n",
    ")"
   ]
  },
  {
   "cell_type": "code",
   "execution_count": null,
   "metadata": {},
   "outputs": [],
   "source": []
  },
  {
   "cell_type": "code",
   "execution_count": 12,
   "metadata": {},
   "outputs": [],
   "source": [
    "livetime = 25 * u.h"
   ]
  },
  {
   "cell_type": "code",
   "execution_count": null,
   "metadata": {},
   "outputs": [],
   "source": []
  },
  {
   "cell_type": "code",
   "execution_count": null,
   "metadata": {},
   "outputs": [],
   "source": [
    "IRFS_OPTS"
   ]
  },
  {
   "cell_type": "code",
   "execution_count": null,
   "metadata": {},
   "outputs": [],
   "source": [
    "idx=0\n",
    "irfs_opts, irfs, irfs_label, location = IRFS_OPTS[idx], IRFS[idx], IRFS_LABELS[idx], LOCATION[idx]"
   ]
  },
  {
   "cell_type": "code",
   "execution_count": 13,
   "metadata": {},
   "outputs": [],
   "source": [
    "irfs_config =[\n",
    "    ['South', 'South-SSTSubArray','South-MSTSubArray','North','North-MSTSubArray', 'North-LSTSubArray'], \n",
    "    ['AverageAz'], \n",
    "    ['20deg','40deg','60deg'], \n",
    "    ['50h']\n",
    "]\n",
    "irfs_opt, irfs, irfs_label, location = Irfs.get_irf_groups(irfs_config)"
   ]
  },
  {
   "cell_type": "code",
   "execution_count": 15,
   "metadata": {},
   "outputs": [],
   "source": [
    "irfs_opt = ['North', 'AverageAz', '20deg', '50h']\n",
    "irfs = Irfs.get_irfs(irfs_opt)\n",
    "irfs_label = Irfs.get_irfs_label(irfs_opt)\n",
    "location = Irfs.get_obs_loc(irfs_opt)"
   ]
  },
  {
   "cell_type": "code",
   "execution_count": null,
   "metadata": {},
   "outputs": [],
   "source": [
    "aeff = irfs['aeff']\n",
    "psf = irfs['psf']\n",
    "edisp = irfs['edisp']\n",
    "bkg = irfs['bkg']"
   ]
  },
  {
   "cell_type": "code",
   "execution_count": null,
   "metadata": {},
   "outputs": [],
   "source": [
    "aeff = irfs['aeff']\n",
    "print(aeff)"
   ]
  },
  {
   "cell_type": "code",
   "execution_count": null,
   "metadata": {},
   "outputs": [],
   "source": []
  },
  {
   "cell_type": "code",
   "execution_count": null,
   "metadata": {
    "scrolled": false
   },
   "outputs": [],
   "source": [
    "# To see the IRF axes binning, eg, offset\n",
    "print(aeff.axes[\"offset\"])\n",
    "\n",
    "# To get the IRF data\n",
    "print(aeff.data)\n",
    "\n",
    "# the aeff is evaluated at a given energy and offset\n",
    "print(aeff.evaluate(energy_true=energy_axis_true.bounds, offset=[0.2, 2.5] * u.deg))\n",
    "\n",
    "\n",
    "# The peek method gives a quick look into the IRF\n",
    "aeff.peek()"
   ]
  },
  {
   "cell_type": "code",
   "execution_count": null,
   "metadata": {},
   "outputs": [],
   "source": [
    "print(bkg)"
   ]
  },
  {
   "cell_type": "code",
   "execution_count": null,
   "metadata": {},
   "outputs": [],
   "source": [
    "print(bkg.fov_alignment)"
   ]
  },
  {
   "cell_type": "code",
   "execution_count": null,
   "metadata": {},
   "outputs": [],
   "source": [
    "print(bkg.interp_kwargs)"
   ]
  },
  {
   "cell_type": "code",
   "execution_count": null,
   "metadata": {},
   "outputs": [],
   "source": [
    "# Evaluate background\n",
    "# Note that evaluate functions support  numpy-style broadcasting\n",
    "energy = energy_axis_true.edges\n",
    "fov_lon = [1, 2] * u.deg\n",
    "fov_lat = [1, 2] * u.deg\n",
    "ev = bkg.evaluate(\n",
    "    energy=energy.reshape(-1, 1, 1),\n",
    "    fov_lat=fov_lat.reshape(1, -1, 1),\n",
    "    fov_lon=fov_lon.reshape(1, 1, -1),\n",
    ")\n",
    "print(ev)\n"
   ]
  },
  {
   "cell_type": "code",
   "execution_count": null,
   "metadata": {},
   "outputs": [],
   "source": [
    "print(\n",
    "    \"Interpolation scheme for energy axis is: \",\n",
    "    bkg.axes[\"energy\"].interp,\n",
    "    \"and for the fov_lon axis is: \",\n",
    "    bkg.axes[\"fov_lon\"].interp,\n",
    ")"
   ]
  },
  {
   "cell_type": "code",
   "execution_count": null,
   "metadata": {},
   "outputs": [],
   "source": []
  },
  {
   "cell_type": "code",
   "execution_count": null,
   "metadata": {},
   "outputs": [],
   "source": [
    "bkg.plot_at_energy(energy=energy_axis_true.bounds)"
   ]
  },
  {
   "cell_type": "code",
   "execution_count": null,
   "metadata": {
    "scrolled": true
   },
   "outputs": [],
   "source": [
    "# Evaluate energy dispersion\n",
    "ev = edisp.evaluate(energy_true=1 * u.TeV, offset=[0, 1] * u.deg, migra=[1, 1.2])\n",
    "print(ev)\n",
    "\n",
    "edisp.peek()\n",
    "\n",
    "print(psf)"
   ]
  },
  {
   "cell_type": "code",
   "execution_count": null,
   "metadata": {},
   "outputs": [],
   "source": [
    "edisp.plot_migration()"
   ]
  },
  {
   "cell_type": "code",
   "execution_count": null,
   "metadata": {},
   "outputs": [],
   "source": []
  },
  {
   "cell_type": "code",
   "execution_count": null,
   "metadata": {},
   "outputs": [],
   "source": []
  },
  {
   "cell_type": "code",
   "execution_count": null,
   "metadata": {},
   "outputs": [],
   "source": [
    "print(psf.axes.names)\n",
    "\n",
    "# To get the containment radius for a fixed fraction at a given position\n",
    "print(\n",
    "    psf.containment_radius(\n",
    "        fraction=0.68, energy_true=1.0 * u.TeV, offset=[0.2, 4.0] * u.deg\n",
    "    )\n",
    ")\n",
    "\n",
    "# Alternatively, to get the containment fraction for at a given position\n",
    "print(\n",
    "    psf.containment(\n",
    "        rad=0.05 * u.deg, energy_true=1.0 * u.TeV, offset=[0.2, 4.0] * u.deg\n",
    "    )\n",
    ")"
   ]
  },
  {
   "cell_type": "code",
   "execution_count": null,
   "metadata": {},
   "outputs": [],
   "source": [
    "psf.plot_containment_radius_vs_energy()"
   ]
  },
  {
   "cell_type": "code",
   "execution_count": null,
   "metadata": {},
   "outputs": [],
   "source": []
  },
  {
   "cell_type": "code",
   "execution_count": null,
   "metadata": {},
   "outputs": [],
   "source": [
    "psf.plot_psf_vs_rad()"
   ]
  },
  {
   "cell_type": "code",
   "execution_count": null,
   "metadata": {},
   "outputs": [],
   "source": [
    "psf.plot_containment_radius()"
   ]
  },
  {
   "cell_type": "code",
   "execution_count": 29,
   "metadata": {},
   "outputs": [
    {
     "data": {
      "text/plain": [
       "0.11"
      ]
     },
     "execution_count": 29,
     "metadata": {},
     "output_type": "execute_result"
    }
   ],
   "source": []
  },
  {
   "cell_type": "code",
   "execution_count": 32,
   "metadata": {},
   "outputs": [
    {
     "name": "stdout",
     "output_type": "stream",
     "text": [
      "Observation\n",
      "\n",
      "\tobs id            : 0 \n",
      " \ttstart            : 51544.00\n",
      "\ttstop             : 51545.04\n",
      "\tduration          : 90000.00 s\n",
      "\tpointing (icrs)   : 50.0 deg, 42.0 deg\n",
      "\n",
      "\tdeadtime fraction : 0.0%\n",
      "\n"
     ]
    },
    {
     "name": "stderr",
     "output_type": "stream",
     "text": [
      "Table column name energy will be deprecated by e_ref since v1.2\n"
     ]
    },
    {
     "name": "stdout",
     "output_type": "stream",
     "text": [
      "SpectrumDataset\n",
      "---------------\n",
      "\n",
      "  Name                            : empty_dataset \n",
      "\n",
      "  Total counts                    : 0 \n",
      "  Total background counts         : 2287.07\n",
      "  Total excess counts             : -2287.07\n",
      "\n",
      "  Predicted counts                : 2287.07\n",
      "  Predicted background counts     : 2287.07\n",
      "  Predicted excess counts         : nan\n",
      "\n",
      "  Exposure min                    : 1.73e+09 m2 s\n",
      "  Exposure max                    : 8.88e+10 m2 s\n",
      "\n",
      "  Number of total bins            : 31 \n",
      "  Number of fit bins              : 31 \n",
      "\n",
      "  Fit statistic type              : cash\n",
      "  Fit statistic value (-2 log(L)) : nan\n",
      "\n",
      "  Number of models                : 0 \n",
      "  Number of parameters            : 0\n",
      "  Number of free parameters       : 0\n",
      "\n",
      "\n",
      "correct exposure\n",
      "SpectrumDataset\n",
      "---------------\n",
      "\n",
      "  Name                            : empty_dataset \n",
      "\n",
      "  Total counts                    : 0 \n",
      "  Total background counts         : 2287.07\n",
      "  Total excess counts             : -2287.07\n",
      "\n",
      "  Predicted counts                : 2287.07\n",
      "  Predicted background counts     : 2287.07\n",
      "  Predicted excess counts         : nan\n",
      "\n",
      "  Exposure min                    : 1.17e+09 m2 s\n",
      "  Exposure max                    : 6.04e+10 m2 s\n",
      "\n",
      "  Number of total bins            : 31 \n",
      "  Number of fit bins              : 31 \n",
      "\n",
      "  Fit statistic type              : cash\n",
      "  Fit statistic value (-2 log(L)) : nan\n",
      "\n",
      "  Number of models                : 0 \n",
      "  Number of parameters            : 0\n",
      "  Number of free parameters       : 0\n",
      "\n",
      "\n",
      "correct background estimation\n",
      "SpectrumDataset\n",
      "---------------\n",
      "\n",
      "  Name                            : empty_dataset \n",
      "\n",
      "  Total counts                    : 0 \n",
      "  Total background counts         : 2189.50\n",
      "  Total excess counts             : -2189.50\n",
      "\n",
      "  Predicted counts                : 2189.50\n",
      "  Predicted background counts     : 2189.50\n",
      "  Predicted excess counts         : nan\n",
      "\n",
      "  Exposure min                    : 1.17e+09 m2 s\n",
      "  Exposure max                    : 6.04e+10 m2 s\n",
      "\n",
      "  Number of total bins            : 31 \n",
      "  Number of fit bins              : 31 \n",
      "\n",
      "  Fit statistic type              : cash\n",
      "  Fit statistic value (-2 log(L)) : nan\n",
      "\n",
      "  Number of models                : 0 \n",
      "  Number of parameters            : 0\n",
      "  Number of free parameters       : 0\n",
      "\n",
      "\n",
      "SpectrumDatasetOnOff\n",
      "--------------------\n",
      "\n",
      "  Name                            : F8f1Q2oG \n",
      "\n",
      "  Total counts                    : 0 \n",
      "  Total background counts         : 2189.50\n",
      "  Total excess counts             : -2189.50\n",
      "\n",
      "  Predicted counts                : 2085.23\n",
      "  Predicted background counts     : 2085.23\n",
      "  Predicted excess counts         : nan\n",
      "\n",
      "  Exposure min                    : 1.17e+09 m2 s\n",
      "  Exposure max                    : 6.04e+10 m2 s\n",
      "\n",
      "  Number of total bins            : 31 \n",
      "  Number of fit bins              : 31 \n",
      "\n",
      "  Fit statistic type              : wstat\n",
      "  Fit statistic value (-2 log(L)) : 4273.04\n",
      "\n",
      "  Number of models                : 0 \n",
      "  Number of parameters            : 0\n",
      "  Number of free parameters       : 0\n",
      "\n",
      "  Total counts_off                : 43790 \n",
      "  Acceptance                      : 31 \n",
      "  Acceptance off                  : 620 \n",
      "\n",
      " energy   e_ref    e_min    e_max   ... background  criterion    on_radii\n",
      "  TeV      TeV      TeV      TeV    ...                            deg   \n",
      "-------- -------- -------- -------- ... ---------- ------------ ---------\n",
      " 0.10975  0.10975      0.1 0.120451 ...    868.525 significance 1.278e-01\n",
      "0.132196 0.132196 0.120451 0.145085 ...     509.57 significance 1.173e-01\n",
      "0.159231 0.159231 0.145085 0.174757 ...    299.322 significance 1.068e-01\n",
      "0.191796 0.191796 0.174757 0.210497 ...    187.995 significance 9.875e-02\n",
      "0.231021 0.231021 0.210497 0.253546 ...    117.166 significance 9.025e-02\n",
      "0.278267 0.278267 0.253546 0.305399 ...     73.016 significance 8.325e-02\n",
      "     ...      ...      ...      ... ...        ...          ...       ...\n",
      " 9.54721  9.54721  8.69903  10.4781 ...   0.080761        gamma 4.125e-02\n",
      " 11.4997  11.4997  10.4781   12.621 ...  0.0585244        gamma 3.925e-02\n",
      " 13.8516  13.8516   12.621  15.2021 ...  0.0424618        gamma 3.675e-02\n",
      " 16.6844  16.6844  15.2021  18.3112 ...  0.0338815        gamma 3.525e-02\n",
      " 20.0966  20.0966  18.3112   22.056 ...   0.028681        gamma 3.375e-02\n",
      " 24.2066  24.2066   22.056  26.5668 ...  0.0249653        gamma 3.225e-02\n",
      " 29.1571  29.1571  26.5668       32 ...  0.0229723        gamma 3.075e-02\n",
      "Length = 31 rows\n",
      "SpectrumDatasetOnOff\n",
      "--------------------\n",
      "\n",
      "  Name                            : F8f1Q2oG \n",
      "\n",
      "  Total counts                    : 0 \n",
      "  Total background counts         : 2189.50\n",
      "  Total excess counts             : -2189.50\n",
      "\n",
      "  Predicted counts                : 1406231605015715.75\n",
      "  Predicted background counts     : 2085.24\n",
      "  Predicted excess counts         : 1406231605013630.50\n",
      "\n",
      "  Exposure min                    : 1.17e+09 m2 s\n",
      "  Exposure max                    : 6.04e+10 m2 s\n",
      "\n",
      "  Number of total bins            : 31 \n",
      "  Number of fit bins              : 31 \n",
      "\n",
      "  Fit statistic type              : wstat\n",
      "  Fit statistic value (-2 log(L)) : 2812463210031534.50\n",
      "\n",
      "  Number of models                : 1 \n",
      "  Number of parameters            : 3\n",
      "  Number of free parameters       : 2\n",
      "\n",
      "  Component 0: SkyModel\n",
      "  \n",
      "    Name                      : XijtEeLU\n",
      "    Datasets names            : None\n",
      "    Spectral model type       : PowerLawSpectralModel\n",
      "    Spatial  model type       : \n",
      "    Temporal model type       : \n",
      "    Parameters:\n",
      "      index                         :      2.000   +/-    0.00             \n",
      "      amplitude                     :   1.00e+00   +/- 0.0e+00 1 / (TeV s cm2)\n",
      "      reference             (frozen):      1.000       TeV         \n",
      "  \n",
      "    Total counts_off                : 43790 \n",
      "  Acceptance                      : 31 \n",
      "  Acceptance off                  : 620 \n",
      "\n"
     ]
    },
    {
     "name": "stderr",
     "output_type": "stream",
     "text": [
      "Table column name energy will be deprecated by e_ref since v1.2\n"
     ]
    },
    {
     "name": "stdout",
     "output_type": "stream",
     "text": [
      " energy  e_ref  e_min e_max     e2dnde    excess background criterion\n",
      "  TeV     TeV    TeV   TeV  erg / (s cm2)                            \n",
      "------- ------- ----- ----- ------------- ------ ---------- ---------\n",
      "1.78885 1.78885   0.1    32   2.49458e-13 218.95     2189.5       bkg\n",
      "Integral sensitivity in 25.00 h above 3.20e-02 TeV is 1.55e-12 1 / (s cm2)\n"
     ]
    }
   ],
   "source": [
    "obs = Observation.create(\n",
    "    pointing=pointing, irfs=irfs, livetime=livetime, location=location\n",
    ")\n",
    "print(obs)\n",
    "\n",
    "dataset = spectrum_maker.run(empty_dataset, obs)\n",
    "print(dataset)\n",
    "\n",
    "# correct exposure\n",
    "print('correct exposure')\n",
    "dataset.exposure *= containment\n",
    "print(dataset)\n",
    "\n",
    "# correct background estimation\n",
    "print('correct background estimation')\n",
    "on_radii = obs.psf.containment_radius(\n",
    "    energy_true=energy_axis.center, \n",
    "    offset=offset, \n",
    "    fraction=containment\n",
    ")\n",
    "factor = (1 - np.cos(on_radii)) / (1 - np.cos(geom.region.radius))\n",
    "dataset.background *= factor.value.reshape((-1, 1, 1))\n",
    "print(dataset)\n",
    "\n",
    "print('create SpectrumDatasetOnOff')\n",
    "dataset_on_off = SpectrumDatasetOnOff.from_spectrum_dataset(\n",
    "    dataset=dataset, acceptance=acceptance, acceptance_off=acceptance_off\n",
    ")\n",
    "print(dataset_on_off)\n",
    "\n",
    "sensitivity_table = sensitivity_estimator.run(dataset_on_off)\n",
    "sensitivity_table.meta['source'] = source_name\n",
    "sensitivity_table.meta[\"offset\"] = offset.to_string()\n",
    "sensitivity_table.meta[\"on_region_radius\"] = f'{on_region_radius.deg}deg'\n",
    "sensitivity_table.meta[\"livetime\"] = livetime.to_string()    \n",
    "sensitivity_table.meta[\"site\"] = irfs_opt[0]\n",
    "sensitivity_table.meta[\"azimuth-averaged \"] = irfs_opt[1]\n",
    "sensitivity_table.meta[\"zenith-angle\"] = u.Quantity(irfs_opt[2]).to_string()\n",
    "sensitivity_table.meta[\"obs_time\"] = u.Quantity(irfs_opt[3]).to_string()\n",
    "sensitivity_table.meta['irfs_label'] = irfs_label\n",
    "sensitivity_table.meta['irfs_config'] = irfs_opt\n",
    "sensitivity_table[\"on_radii\"] = on_radii\n",
    "sensitivity_table[\"on_radii\"].format = '.3e'\n",
    "write_tables_csv(\n",
    "    sensitivity_table, sensitivity_path, f'sens-{irfs_label_txt(irfs_opt)}')\n",
    "print(sensitivity_table)\n",
    "print(dataset_on_off)\n",
    "\n",
    "\n",
    "dataset_on_off1 = dataset_on_off.to_image()\n",
    "\n",
    "sensitivity_table1 = sensitivity_estimator1.run(dataset_on_off1)\n",
    "print(sensitivity_table1)\n",
    "\n",
    "# To get the integral flux, we convert to a `FluxPoints` object that does the conversion\n",
    "# internally\n",
    "flux_points = FluxPoints.from_table(\n",
    "    sensitivity_table1, sed_type=\"e2dnde\", reference_model=sensitivity_estimator1.spectrum\n",
    ")\n",
    "int_sens = np.squeeze(flux_points.flux.quantity)\n",
    "print(\n",
    "    f\"Integral sensitivity in {livetime:.2f} above {e_edges_min:.2e} \"\n",
    "    f\"is {int_sens:.2e}\"\n",
    ")"
   ]
  },
  {
   "cell_type": "code",
   "execution_count": null,
   "metadata": {},
   "outputs": [],
   "source": []
  },
  {
   "cell_type": "code",
   "execution_count": null,
   "metadata": {},
   "outputs": [],
   "source": []
  },
  {
   "cell_type": "code",
   "execution_count": null,
   "metadata": {},
   "outputs": [],
   "source": [
    "idx=0\n",
    "\n",
    "for idx_irfs, irfs in enumerate(irfs_opts[0:1]):\n",
    "    obs_location = obs_locations[idx_irfs]\n",
    "    irfs_label = f\"{irfs_labels[idx_irfs]}\"\n",
    "        \n",
    "    print(f\"Simulation: obs-{idx_irfs}, irfs = {irfs_label}, livetime: {livetime}\\n\")\n",
    "    \n",
    "    obs_label_full = get_obs_label(irfs_groups[idx_irfs], offset, on_region_radius, livetime, txt=True)\n",
    "    obs_label = get_obs_label(irfs_groups[idx_irfs], offset, on_region_radius, livetime)\n",
    "\n",
    "\n",
    "    obs = Observation.create(\n",
    "        pointing=pointing, irfs=irfs, livetime=livetime, location=obs_location\n",
    "    )\n",
    "    print(obs)\n",
    "\n",
    "    dataset = spectrum_maker.run(empty_dataset, obs)\n",
    "    print(dataset)\n",
    "\n",
    "    # correct exposure\n",
    "    dataset.exposure *= containment\n",
    "\n",
    "    # correct background estimation\n",
    "    on_radii = obs.psf.containment_radius(\n",
    "        energy_true=energy_axis.center, \n",
    "        offset=offset, \n",
    "        fraction=containment\n",
    "    )\n",
    "    \n",
    "    factor = (1 - np.cos(on_radii)) / (1 - np.cos(geom.region.radius))\n",
    "    dataset.background *= factor.value.reshape((-1, 1, 1))\n",
    "    print(dataset)\n",
    "\n",
    "    dataset_on_off = SpectrumDatasetOnOff.from_spectrum_dataset(\n",
    "        dataset=dataset, acceptance=acceptance, acceptance_off=acceptance_off\n",
    "    )\n",
    "    analysis.datasets.append(dataset_on_off.copy(name=f'onoff {irfs_label}'))\n",
    "    print(dataset_on_off)\n",
    "\n",
    "    sensitivity_table = sensitivity_estimator.run(dataset_on_off)\n",
    "    \n",
    "    sensitivity_table.meta['source'] = source_name\n",
    "    sensitivity_table.meta[\"obs_id\"] = f\"obs-{idx}\"\n",
    "    sensitivity_table.meta[\"offset\"] = offset.to_string()\n",
    "    sensitivity_table.meta[\"on_region_radius\"] = on_region_radius.to_string()\n",
    "    sensitivity_table.meta[\"livetime\"] = livetime.to_string()\n",
    "    sensitivity_table.meta[\"irf_id\"] = f\"irf-{idx_irfs}\"\n",
    "    \n",
    "    sensitivity_table.meta[\"site\"] = irfs_groups[idx_irfs][0]\n",
    "    sensitivity_table.meta[\"azimuth-averaged \"] = irfs_groups[idx_irfs][1]\n",
    "    sensitivity_table.meta[\"zenith-angle\"] = u.Quantity(irfs_groups[idx_irfs][2]).to_string()\n",
    "    sensitivity_table.meta[\"obs_time\"] = u.Quantity(irfs_groups[idx_irfs][3]).to_string()\n",
    "    sensitivity_table.meta['irfs_label'] = irfs_label\n",
    "    sensitivity_table.meta['irfs_config'] = irfs_groups[idx_irfs]\n",
    "    sensitivity_table.meta['obs_label_full'] = obs_label_full\n",
    "    sensitivity_table[\"on_radii\"] = on_radii\n",
    "    print(sensitivity_table)    \n",
    "    file_path = f'{sensitivity_path}/sensitivity-{irfs_label_txt(irfs_groups[idx_irfs])}'\n",
    "    sensitivity_table.write(f'{file_path}.ecsv', format='ascii.ecsv', overwrite=True)\n",
    "    dataset_sens = flux_points_dataset_from_table(sensitivity_table, name = f\"sens {obs_label}\" )\n",
    "    analysis.datasets.append(dataset_sens)\n",
    "        \n",
    "    print(dataset_on_off)\n",
    "\n",
    "    dataset_on_off1 = analysis.datasets[f'onoff {irfs_label}'].copy(name=f'onoff1 {irfs_label}').to_image()\n",
    "\n",
    "    sensitivity_table1 = sensitivity_estimator1.run(dataset_on_off1)\n",
    "    print(sensitivity_table1)\n",
    "\n",
    "    # To get the integral flux, we convert to a `FluxPoints` object that does the conversion\n",
    "    # internally\n",
    "    flux_points = FluxPoints.from_table(\n",
    "        sensitivity_table1, sed_type=\"e2dnde\", reference_model=sensitivity_estimator1.spectrum\n",
    "    )\n",
    "    int_sens = np.squeeze(flux_points.flux.quantity)\n",
    "    print(\n",
    "        f\"Integral sensitivity in {livetime:.2f} above {e_edges_min:.2e} \"\n",
    "        f\"is {int_sens:.2e}\"\n",
    "    )\n",
    "\n",
    "    sensitivity_table.meta[\"int_sens\"] = int_sens.to_string()\n",
    "    idx+=1"
   ]
  },
  {
   "cell_type": "code",
   "execution_count": null,
   "metadata": {},
   "outputs": [],
   "source": []
  },
  {
   "cell_type": "code",
   "execution_count": null,
   "metadata": {},
   "outputs": [],
   "source": []
  },
  {
   "cell_type": "code",
   "execution_count": null,
   "metadata": {},
   "outputs": [],
   "source": []
  },
  {
   "cell_type": "code",
   "execution_count": null,
   "metadata": {},
   "outputs": [],
   "source": [
    "from feupy.cta.irfs import Irfs\n",
    "from feupy.utils.geometry import *"
   ]
  },
  {
   "cell_type": "code",
   "execution_count": null,
   "metadata": {},
   "outputs": [],
   "source": [
    "# irfs = load_cta_irfs(\n",
    "#     \"./Prod5-North-20deg-AverageAz-4LSTs09MSTs.18000s-v0.1.fits.gz\"\n",
    "# )\n",
    "\n",
    "# Loading IRFs\n",
    "irfs_opts =['South', 'AverageAz', '40deg', '50h']\n",
    "irfs = Irfs.get_irfs(irfs_opts)\n",
    "obs_location = Irfs.get_obs_loc(irfs_opts)\n",
    "irfs_label = Irfs.get_irfs_label(irfs_opts)"
   ]
  },
  {
   "cell_type": "code",
   "execution_count": null,
   "metadata": {
    "id": "U0mgLPA0mtDJ",
    "jupyter": {
     "outputs_hidden": false
    }
   },
   "outputs": [],
   "source": [
    "obs = Observation.create(\n",
    "    pointing=pointing,\n",
    "    livetime=livetime,\n",
    "    irfs=irfs,\n",
    "    location=obs_location,\n",
    ")\n",
    "print(obs)"
   ]
  },
  {
   "cell_type": "markdown",
   "metadata": {
    "id": "u02hNLxlmtDJ"
   },
   "source": [
    "#### Peek at the IRFs\n",
    "\n",
    "We check the effective area, PSF, and energy dispersion matrix."
   ]
  },
  {
   "cell_type": "code",
   "execution_count": null,
   "metadata": {
    "id": "kirqv8bGmtDJ"
   },
   "outputs": [],
   "source": [
    "irfs[\"aeff\"].peek()"
   ]
  },
  {
   "cell_type": "code",
   "execution_count": null,
   "metadata": {
    "id": "ZP3NleYimtDJ"
   },
   "outputs": [],
   "source": [
    "irfs[\"edisp\"].peek()"
   ]
  },
  {
   "cell_type": "code",
   "execution_count": null,
   "metadata": {
    "id": "J4uejvNqmtDJ"
   },
   "outputs": [],
   "source": [
    "irfs[\"psf\"].peek()"
   ]
  },
  {
   "cell_type": "markdown",
   "metadata": {
    "id": "DrSJSoVZmtDJ"
   },
   "source": [
    "### Simulate a spectra\n",
    "\n",
    "Now we have to follow some steps to simulate the On/Off data set.\n"
   ]
  },
  {
   "cell_type": "code",
   "execution_count": null,
   "metadata": {
    "id": "U7t_yrnXmtDJ",
    "jupyter": {
     "outputs_hidden": false
    }
   },
   "outputs": [],
   "source": [
    "# Make the SpectrumDataset\n",
    "geom = RegionGeom.create(region=on_region, axes=[energy_axis])\n",
    "\n",
    "dataset_empty = SpectrumDataset.create(\n",
    "    geom=geom, energy_axis_true=energy_axis_true, name=\"obs-0\"\n",
    ")\n",
    "maker = SpectrumDatasetMaker(selection=[\"exposure\", \"edisp\", \"background\"])\n",
    "\n",
    "dataset = maker.run(dataset_empty, obs)\n",
    "\n",
    "# Set the model on the dataset, and fake\n",
    "dataset.models = model_no_alps\n",
    "dataset.fake(random_state=42)\n",
    "print(dataset)"
   ]
  },
  {
   "cell_type": "code",
   "execution_count": null,
   "metadata": {
    "id": "k8UDe1KJmtDK"
   },
   "outputs": [],
   "source": [
    "dataset.peek()"
   ]
  },
  {
   "cell_type": "markdown",
   "metadata": {
    "id": "JoOJj6YvmtDK"
   },
   "source": [
    "You can see that background counts are now simulated."
   ]
  },
  {
   "cell_type": "markdown",
   "metadata": {
    "id": "j0C2O153mtDK"
   },
   "source": [
    "### On-Off analysis\n",
    "\n",
    "To do an on off spectral analysis, which is the usual science case, the\n",
    "standard would be to use `SpectrumDatasetOnOff`, which uses the\n",
    "acceptance to fake off-counts.\n",
    "The `acceptance_off` is essentially the parameter $\\alpha^{-1}$. "
   ]
  },
  {
   "cell_type": "code",
   "execution_count": null,
   "metadata": {
    "id": "L7dK1JTNmtDK",
    "jupyter": {
     "outputs_hidden": false
    }
   },
   "outputs": [],
   "source": [
    "dataset_on_off = SpectrumDatasetOnOff.from_spectrum_dataset(\n",
    "    dataset=dataset, acceptance=1, acceptance_off=5\n",
    ")\n",
    "dataset_on_off.fake(npred_background=dataset.npred_background(), random_state=42)\n",
    "print(dataset_on_off)"
   ]
  },
  {
   "cell_type": "code",
   "execution_count": null,
   "metadata": {
    "id": "5S3jsLtkmtDK"
   },
   "outputs": [],
   "source": [
    "dataset_on_off.peek()"
   ]
  },
  {
   "cell_type": "markdown",
   "metadata": {
    "id": "wHrsvL10mtDK"
   },
   "source": [
    "### Look at the statistics of the dataset\n",
    "\n",
    "Basic statistics of the dataset like On, Off, excess counds, and the source significance are available from the `info_dict`."
   ]
  },
  {
   "cell_type": "code",
   "execution_count": null,
   "metadata": {
    "id": "O5fhqZspmtDK"
   },
   "outputs": [],
   "source": [
    "dataset_on_off.info_dict()"
   ]
  },
  {
   "cell_type": "markdown",
   "metadata": {
    "id": "b6SE8dq5mtDK"
   },
   "source": [
    "### Perform the fit\n",
    "\n",
    "For our baseline model, without ALPs, we fit the observation with the same model that we used to simulate the data set, i.e., our intrinsic model with EBL absorption. "
   ]
  },
  {
   "cell_type": "code",
   "execution_count": null,
   "metadata": {},
   "outputs": [],
   "source": [
    "help(Fit)"
   ]
  },
  {
   "cell_type": "code",
   "execution_count": null,
   "metadata": {
    "id": "n4Oj8DdsmtDK"
   },
   "outputs": [],
   "source": [
    "# init the fit\n",
    "fit = Fit(optimize_opts={\"print_level\":2})"
   ]
  },
  {
   "cell_type": "code",
   "execution_count": null,
   "metadata": {
    "id": "7NBjF1WhmtDK"
   },
   "outputs": [],
   "source": [
    "%%time\n",
    "result_no_alps = fit.run(dataset_on_off)"
   ]
  },
  {
   "cell_type": "code",
   "execution_count": null,
   "metadata": {
    "id": "F27a7rNJmtDK",
    "scrolled": true
   },
   "outputs": [],
   "source": [
    "# check the best-fit parameters\n",
    "result_no_alps.models[0].spectral_model.parameters.to_table()"
   ]
  },
  {
   "cell_type": "markdown",
   "metadata": {
    "id": "gs2miYhvmtDK"
   },
   "source": [
    "The Cash statistic, $C = -2\\ln\\mathcal{L}$, is stored in `results_no_alps.total_stat`:"
   ]
  },
  {
   "cell_type": "code",
   "execution_count": null,
   "metadata": {
    "id": "jSD4JEK5mtDK"
   },
   "outputs": [],
   "source": [
    "result_no_alps.total_stat"
   ]
  },
  {
   "cell_type": "markdown",
   "metadata": {
    "id": "L0e_e2qamtDL"
   },
   "source": [
    "One can easily plot the excess counts and the predicted signal counts:"
   ]
  },
  {
   "cell_type": "code",
   "execution_count": null,
   "metadata": {
    "id": "GNgSjJZQmtDL"
   },
   "outputs": [],
   "source": [
    "plt.figure()\n",
    "ax_spectrum, ax_residuals = dataset_on_off.plot_fit()\n",
    "dataset_on_off.plot_masks(ax=ax_spectrum)"
   ]
  },
  {
   "cell_type": "markdown",
   "metadata": {
    "id": "lG1gXH2PmtDL"
   },
   "source": [
    "Before performing the fit with ALPs, we generate flux points, so that we can plot the SED."
   ]
  },
  {
   "cell_type": "code",
   "execution_count": null,
   "metadata": {
    "id": "b0lfgrTBmtDL"
   },
   "outputs": [],
   "source": [
    "fpe = FluxPointsEstimator(\n",
    "    energy_edges=energy_axis.edges, reoptimize=False, selection_optional=[\"errn-errp\", \"ul\"], source=\"ngc1275\"\n",
    ")\n",
    "flux_points = fpe.run(datasets=dataset_on_off)"
   ]
  },
  {
   "cell_type": "markdown",
   "metadata": {
    "id": "ewN0MEMLmtDL"
   },
   "source": [
    "Plot the flux points, define the energy range to flux points with a $\\mathrm{TS}$ values larger than 1"
   ]
  },
  {
   "cell_type": "code",
   "execution_count": null,
   "metadata": {
    "id": "PJJzCEYumtDL"
   },
   "outputs": [],
   "source": [
    "# TS values of flux points\n",
    "ts_values = np.squeeze(flux_points.ts.data)\n",
    "\n",
    "# mask \n",
    "mask_ts = ts_values > 1.\n",
    "\n",
    "# energy range for plotting\n",
    "plot_range = flux_points.energy_axis.edges[:-1][mask_ts][0] * 0.9, flux_points.energy_axis.edges[1:][mask_ts][-1]\n",
    "print(plot_range)\n",
    "\n",
    "# plot the model\n",
    "ax = result_no_alps.models[0].spectral_model.plot(energy_bounds=plot_range, energy_power=2, ls=\"-\")\n",
    "\n",
    "# plot the butterfly, i.e., the model error\n",
    "result_no_alps.models[0].spectral_model.plot_error(energy_bounds=plot_range, energy_power=2, ax=ax)\n",
    "\n",
    "# plot the flux points\n",
    "flux_points.plot(ax=ax, sed_type=\"e2dnde\", color=\"darkorange\")\n",
    "\n",
    "# limit the energy range\n",
    "plt.xlim(plot_range)"
   ]
  },
  {
   "cell_type": "markdown",
   "metadata": {
    "id": "6qlDoPhHmtDL"
   },
   "source": [
    "## Fit with Axion-like particles \n",
    "\n",
    "As a last step, we perform a fit with axion-like particles. For that, we loop through the \n",
    "$B$ field realizations. We first fit and plot one example. Then we perform the loop.\n",
    "\n",
    "First we define a new compound model that includes the ALP effect. "
   ]
  },
  {
   "cell_type": "code",
   "execution_count": null,
   "metadata": {
    "id": "VIfkmecjmtDL"
   },
   "outputs": [],
   "source": [
    "# use the first B field realization\n",
    "alps = models.TemplateSpectralModel(ml.EGeV * u.GeV, pgg[0])\n",
    "\n",
    "# and define the compound model\n",
    "model_obs_with_alps = models.CompoundSpectralModel(model_intrinsic, alps, operator=operator.mul)\n",
    "\n",
    "model_w_alps = models.SkyModel(spectral_model=model_obs_with_alps, name=\"ngc1275\")"
   ]
  },
  {
   "cell_type": "markdown",
   "metadata": {
    "id": "c4hzZgjKmtDL"
   },
   "source": [
    "Let's plot the different models"
   ]
  },
  {
   "cell_type": "code",
   "execution_count": null,
   "metadata": {
    "id": "2v8Xxa3hmtDL"
   },
   "outputs": [],
   "source": [
    "ax = model_intrinsic.plot(energy_bounds=[0.1, 3.] * u.TeV, energy_power=2, ls='--')\n",
    "_ = model_input.plot(energy_bounds=[0.1, 3.] * u.TeV, energy_power=2)\n",
    "_ = model_obs_with_alps.plot(energy_bounds=[0.1, 3.] * u.TeV, energy_power=2)"
   ]
  },
  {
   "cell_type": "markdown",
   "metadata": {
    "id": "2LjEPRvZmtDL"
   },
   "source": [
    "Then we set the model and fit it to data"
   ]
  },
  {
   "cell_type": "code",
   "execution_count": null,
   "metadata": {
    "id": "K-JqP0MdmtDL"
   },
   "outputs": [],
   "source": [
    "dataset_on_off.models = model_w_alps"
   ]
  },
  {
   "cell_type": "code",
   "execution_count": null,
   "metadata": {
    "id": "XUv-O7drmtDL"
   },
   "outputs": [],
   "source": [
    "result_w_alps = fit.run(dataset_on_off)"
   ]
  },
  {
   "cell_type": "code",
   "execution_count": null,
   "metadata": {
    "id": "982tI1JnmtDL"
   },
   "outputs": [],
   "source": [
    "# check the best-fit parameters\n",
    "result_w_alps.models[0].spectral_model.parameters.to_table()"
   ]
  },
  {
   "cell_type": "code",
   "execution_count": null,
   "metadata": {
    "id": "T00Dc45EmtDL"
   },
   "outputs": [],
   "source": [
    "result_w_alps.total_stat"
   ]
  },
  {
   "cell_type": "markdown",
   "metadata": {
    "id": "SdpxauKWmtDM"
   },
   "source": [
    "#### Questions:\n",
    "- What do you notice for the best-fit parameters?\n",
    "- Can you plot the flux points, the best fit without ALPs and the best-fit models with ALPs?"
   ]
  },
  {
   "cell_type": "code",
   "execution_count": null,
   "metadata": {
    "id": "HyRHcjWFmtDM"
   },
   "outputs": [],
   "source": [
    "# plot the model w/o ALPs\n",
    "ax = result_no_alps.models[0].spectral_model.plot(energy_bounds=plot_range, energy_power=2, ls=\"-\")\n",
    "result_no_alps.models[0].spectral_model.plot_error(energy_bounds=plot_range, energy_power=2, ax=ax)\n",
    "\n",
    "# plot the model w/ ALPs\n",
    "ax = result_w_alps.models[0].spectral_model.plot(energy_bounds=plot_range, energy_power=2, ls=\"-\")\n",
    "result_w_alps.models[0].spectral_model.plot_error(energy_bounds=plot_range, energy_power=2, ax=ax)\n",
    "\n",
    "# plot the flux points\n",
    "flux_points.plot(ax=ax, sed_type=\"e2dnde\", color=\"k\")\n",
    "\n",
    "# limit the energy range\n",
    "plt.xlim(plot_range)"
   ]
  },
  {
   "cell_type": "markdown",
   "metadata": {
    "id": "1jpnLntAmtDM"
   },
   "source": [
    "Lastly, we loop through the magnetic field realizations and perform the fit in each step. \n",
    "We save the $C$ stat value and plot the difference, $\\Delta C = C_\\mathrm{w/~ALP} - C_\\mathrm{no~ALP}$."
   ]
  },
  {
   "cell_type": "code",
   "execution_count": null,
   "metadata": {
    "id": "GPEZaLSCmtDM"
   },
   "outputs": [],
   "source": [
    "%%time\n",
    "\n",
    "tot_stat = []\n",
    "\n",
    "fit = Fit(optimize_opts={\"print_level\":1})  # reduce print level\n",
    "\n",
    "for i, p in enumerate(pgg):\n",
    "    \n",
    "    # model\n",
    "    alps = models.TemplateSpectralModel(ml.EGeV * u.GeV, pgg[i])\n",
    "    model_obs_with_alps = models.CompoundSpectralModel(model_intrinsic, alps, operator=operator.mul)\n",
    "    model_w_alps = models.SkyModel(spectral_model=model_obs_with_alps, name=\"ngc1275\")\n",
    "    \n",
    "    # set the model of the dataset\n",
    "    dataset_on_off.models = model_w_alps\n",
    "    \n",
    "    # fit \n",
    "    result_w_alps = fit.run(dataset_on_off)\n",
    "    \n",
    "    # save the total stat value\n",
    "    tot_stat.append(result_w_alps.total_stat)"
   ]
  },
  {
   "cell_type": "code",
   "execution_count": null,
   "metadata": {
    "id": "I7jtzcb9mtDM"
   },
   "outputs": [],
   "source": [
    "# convert to np.array\n",
    "tot_stat = np.array(tot_stat)"
   ]
  },
  {
   "cell_type": "code",
   "execution_count": null,
   "metadata": {
    "id": "2oBNHT9RmtDM"
   },
   "outputs": [],
   "source": [
    "# plot the histogram\n",
    "llr = tot_stat - result_no_alps.total_stat  # the log likelihood ratio values\n",
    "bins = np.linspace(0, llr.max(), 20)  # bin edges for histogram\n",
    "plt.hist(llr, bins=bins)\n",
    "plt.xlabel(\"$\\Delta C = C_\\mathrm{w/~ALP} - C_\\mathrm{no~ALP}$\")\n",
    "\n",
    "# and the fifth quantile\n",
    "print(int(len(tot_stat) * 0.05))\n",
    "tot_stat_q5 = np.sort(tot_stat)[int(len(tot_stat) * 0.05)]\n",
    "\n",
    "plt.axvline(tot_stat_q5 - result_no_alps.total_stat, ls='--', color='r')\n",
    "print(tot_stat_q5 - result_no_alps.total_stat)"
   ]
  },
  {
   "cell_type": "markdown",
   "metadata": {
    "id": "eR0voi92mtDM"
   },
   "source": [
    "### Questions:\n",
    "- How do interpret this histogram?\n",
    "- Which B field realization should we use to decide if the ALP hypothesis is preferred or not?\n",
    "- How do the results change when you change the observation live time?\n",
    "- How do the results change when you change the intrinsic model to a power law?\n",
    "- How do the results change when you change the ALP mass or photon-ALP coupling?"
   ]
  },
  {
   "cell_type": "code",
   "execution_count": null,
   "metadata": {},
   "outputs": [],
   "source": []
  }
 ],
 "metadata": {
  "colab": {
   "provenance": []
  },
  "kernelspec": {
   "display_name": "Python 3 (ipykernel)",
   "language": "python",
   "name": "python3"
  },
  "language_info": {
   "codemirror_mode": {
    "name": "ipython",
    "version": 3
   },
   "file_extension": ".py",
   "mimetype": "text/x-python",
   "name": "python",
   "nbconvert_exporter": "python",
   "pygments_lexer": "ipython3",
   "version": "3.9.18"
  }
 },
 "nbformat": 4,
 "nbformat_minor": 1
}
