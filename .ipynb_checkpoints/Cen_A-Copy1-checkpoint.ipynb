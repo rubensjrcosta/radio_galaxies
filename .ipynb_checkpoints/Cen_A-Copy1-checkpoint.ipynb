{
 "cells": [
  {
   "cell_type": "markdown",
   "id": "a71e54a0",
   "metadata": {},
   "source": []
  },
  {
   "cell_type": "markdown",
   "id": "482e702a",
   "metadata": {},
   "source": [
    "### Centaurus A\n",
    "[TeVCat Gamma-Ray Source Summary](http://tevcat.uchicago.edu/?mode=1;id=122)</br>\n",
    "\n",
    "[NASA/IPAC Extragalactic Database](https://ned.ipac.caltech.edu/byname?objname=Centaurus+A&hconst=67.8&omegam=0.308&omegav=0.692&wmap=4&corr_z=1)"
   ]
  },
  {
   "cell_type": "code",
   "execution_count": null,
   "id": "9196dff4",
   "metadata": {},
   "outputs": [],
   "source": []
  },
  {
   "cell_type": "markdown",
   "id": "3e61cca3",
   "metadata": {},
   "source": [
    "### NGC 1275\n",
    "http://tevcat.uchicago.edu/?mode=1;id=212</br>\n",
    "\n",
    "https://ned.ipac.caltech.edu/byname?objname=NGC+1275&hconst=67.8&omegam=0.308&omegav=0.692&wmap=4&corr_z=1"
   ]
  },
  {
   "cell_type": "code",
   "execution_count": null,
   "id": "459247b6",
   "metadata": {},
   "outputs": [],
   "source": [
    "# from .core import \n",
    "\n",
    "import matplotlib.pyplot as plt # A collection of command style functions\n",
    "\n",
    "import numpy as np\n",
    "\n",
    "from astropy import units as u\n",
    "from astropy.units import  Quantity\n",
    "from astropy.table import Table, Column\n",
    "from astropy.coordinates import SkyCoord\n",
    "\n",
    "from feupy.utils.string_handling import name_to_txt\n",
    "from feupy.utils.units import Jy_to_erg_by_cm2_s\n",
    "from feupy.catalog import CATALOG_REGISTRY\n",
    "from feupy.analysis.config_cntr import CounterpartsConfig\n",
    "from feupy.analysis.core_cntr import Counterparts\n",
    "\n",
    "from feupy.plotters import generate_marker_set\n",
    "from feupy.target import Target\n",
    "from feupy.roi import ROI\n",
    "from feupy.utils.table import write_tables_csv\n",
    "\n",
    "from gammapy.utils.scripts import make_path\n",
    "\n",
    "from gammapy.modeling.models import Models, LogParabolaSpectralModel, SkyModel\n",
    "from gammapy.modeling import Fit"
   ]
  },
  {
   "cell_type": "code",
   "execution_count": null,
   "id": "2a3984c4",
   "metadata": {},
   "outputs": [],
   "source": [
    "from feupy.scripts.ipynb_to_gallery import convert_ipynb_to_gallery "
   ]
  },
  {
   "cell_type": "code",
   "execution_count": null,
   "id": "9d405003",
   "metadata": {},
   "outputs": [],
   "source": [
    "%matplotlib inline"
   ]
  },
  {
   "cell_type": "code",
   "execution_count": null,
   "id": "18795b04",
   "metadata": {},
   "outputs": [],
   "source": [
    "import matplotlib.pyplot as plt # A collection of command style functions"
   ]
  },
  {
   "cell_type": "code",
   "execution_count": null,
   "id": "5358c887",
   "metadata": {},
   "outputs": [],
   "source": [
    "from astropy import units as u\n",
    "from astropy.units import  Quantity\n",
    "from astropy.coordinates import SkyCoord\n",
    "from astropy.table import Table\n",
    "\n",
    "from gammapy.utils.scripts import make_path\n",
    "from gammapy.datasets import Datasets, FluxPointsDataset\n",
    "\n",
    "from gammapy.estimators import FluxPoints\n",
    "from gammapy.modeling.models import Models, LogParabolaSpectralModel, SkyModel\n",
    "from gammapy.modeling import Fit\n",
    "\n",
    "from feupy.utils.string_handling import name_to_txt\n",
    "from feupy.catalog import CATALOG_REGISTRY\n",
    "from feupy.analysis.config_cntr import CounterpartsConfig\n",
    "from feupy.analysis.core_cntr import Counterparts\n",
    "from feupy.plotters import generate_marker_set\n",
    "from feupy.target import Target\n",
    "from feupy.roi import ROI\n",
    "\n",
    "from core import get_data_VizieR_byname"
   ]
  },
  {
   "cell_type": "code",
   "execution_count": null,
   "id": "2eaa22c9",
   "metadata": {},
   "outputs": [],
   "source": []
  },
  {
   "cell_type": "code",
   "execution_count": null,
   "id": "3c2debe1",
   "metadata": {},
   "outputs": [],
   "source": []
  },
  {
   "cell_type": "code",
   "execution_count": null,
   "id": "66126bad",
   "metadata": {},
   "outputs": [],
   "source": [
    "source_name = 'NGC 1275'\n",
    "name_file = name_to_txt(source_name)\n",
    "position = SkyCoord.from_name(source_name)"
   ]
  },
  {
   "cell_type": "code",
   "execution_count": null,
   "id": "59d13bb0",
   "metadata": {},
   "outputs": [],
   "source": [
    "outdir = f\"./{name_file}\"\n",
    "outdir_path = make_path(outdir)\n",
    "outdir_path.mkdir(parents=True, exist_ok=True)\n",
    "\n",
    "datasets_path = make_path(f\"{outdir_path}/datasets/\")\n",
    "datasets_path.mkdir(parents=True, exist_ok=True)\n",
    "\n",
    "figures_path = make_path(f\"{outdir_path}/figures/\")\n",
    "figures_path.mkdir(parents=True, exist_ok=True)\n",
    "\n",
    "data_path = make_path(f\"./data/{outdir}\")\n",
    "data_path.mkdir(parents=True, exist_ok=True)"
   ]
  },
  {
   "cell_type": "code",
   "execution_count": null,
   "id": "c25f64dc",
   "metadata": {},
   "outputs": [],
   "source": [
    "config = CounterpartsConfig()\n",
    "\n",
    "config.general.outdir = outdir\n",
    "config.general.datasets_file = f\"{datasets_path}/datasets.yaml\"\n",
    "config.general.models_file = f\"{datasets_path}/models.yaml\""
   ]
  },
  {
   "cell_type": "code",
   "execution_count": null,
   "id": "a61dd308",
   "metadata": {},
   "outputs": [],
   "source": [
    "# catalog = CATALOG_REGISTRY.get_cls(\"gamma-cat\")()\n",
    "# source = catalog[source_name]\n",
    "# print(source.info())"
   ]
  },
  {
   "cell_type": "code",
   "execution_count": null,
   "id": "68376c86",
   "metadata": {
    "scrolled": true
   },
   "outputs": [],
   "source": [
    "file = f'{data_path}/table_photandseds.csv'\n",
    "table = Table.read(file)\n",
    "table"
   ]
  },
  {
   "cell_type": "code",
   "execution_count": null,
   "id": "fb99bfdb",
   "metadata": {},
   "outputs": [],
   "source": []
  },
  {
   "cell_type": "code",
   "execution_count": null,
   "id": "ab5018ea",
   "metadata": {},
   "outputs": [],
   "source": [
    "file = f'{data_path}/table_qlphot.csv'\n",
    "table = Table.read(file)\n",
    "table"
   ]
  },
  {
   "cell_type": "code",
   "execution_count": null,
   "id": "f96579f2",
   "metadata": {},
   "outputs": [],
   "source": [
    "columns = ['Spectral Region',\n",
    " 'Band',\n",
    " 'Apparent Mag or Flux',\n",
    " 'Reference code',\n",
    " 'Absolute Mag or νLν [W]',\n",
    " 'νLν [L☉(Bolometric)]']"
   ]
  },
  {
   "cell_type": "code",
   "execution_count": null,
   "id": "cc7d8603",
   "metadata": {},
   "outputs": [],
   "source": [
    "table_ =  table[columns]\n",
    "table_"
   ]
  },
  {
   "cell_type": "code",
   "execution_count": null,
   "id": "835f2269",
   "metadata": {},
   "outputs": [],
   "source": [
    "write_tables_csv(table_, path_file=data_path, file_name= 'table_qlphot_')"
   ]
  },
  {
   "cell_type": "code",
   "execution_count": null,
   "id": "7d8f02f1",
   "metadata": {},
   "outputs": [],
   "source": [
    "file = f'{data_path}/table_qlphot_.csv'\n",
    "table_ = Table.read(file)\n",
    "table_"
   ]
  },
  {
   "cell_type": "code",
   "execution_count": null,
   "id": "35478a6e",
   "metadata": {},
   "outputs": [],
   "source": [
    "!pip install pylatex"
   ]
  },
  {
   "cell_type": "code",
   "execution_count": null,
   "id": "4935de9e",
   "metadata": {},
   "outputs": [],
   "source": [
    "\n",
    "\n",
    "import csv\n",
    "def csv_to_latex(csv_file):\n",
    "    with open(csv_file, 'r') as file:\n",
    "        reader = csv.reader(file)\n",
    "        headers = next(reader)\n",
    "        latex_table = \"\\\\begin{tabular}{lcr}\\n\" + \" & \".join(headers) + \" \\\\\\\\\\n\\\\hline\\n\"\n",
    "        for row in reader:\n",
    "            latex_table += \" & \".join(row) + \" \\\\\\\\\\n\"\n",
    "        latex_table += \"\\\\end{tabular}\"\n",
    "    return latex_table\n",
    "\n",
    "table = \n",
    "print(csv_to_latex(f'{data_path}/table_qlphot.csv'))"
   ]
  },
  {
   "cell_type": "code",
   "execution_count": null,
   "id": "4572e8e3",
   "metadata": {},
   "outputs": [],
   "source": []
  },
  {
   "cell_type": "code",
   "execution_count": null,
   "id": "358dc6f9",
   "metadata": {},
   "outputs": [],
   "source": [
    "datasets_VizieR = get_data_VizieR_byname(table)"
   ]
  },
  {
   "cell_type": "code",
   "execution_count": null,
   "id": "a96feaad",
   "metadata": {},
   "outputs": [],
   "source": [
    "datasets = Datasets(datasets_VizieR)"
   ]
  },
  {
   "cell_type": "code",
   "execution_count": null,
   "id": "476b0f37",
   "metadata": {},
   "outputs": [],
   "source": []
  },
  {
   "cell_type": "code",
   "execution_count": null,
   "id": "7afda0c9",
   "metadata": {},
   "outputs": [],
   "source": [
    "xaxis_label = r'$\\rm{E\\ [TeV] }$'\n",
    "xaxis_units = u.Unit('TeV')\n",
    "\n",
    "yaxis_label = r'$\\rm{E^2\\ J(E)\\ [erg\\ cm^{-2}\\ s^{-1}] }$'\n",
    "yaxis_units = u.Unit('erg cm-2 s-1')\n",
    "\n",
    "energy_bounds = [1e-22, 1e3] * u.TeV\n",
    "ylim = [1e-16, 1e-8]\n",
    "\n",
    "leg_place = dict(\n",
    "    bbox_to_anchor = (1, 0.5), # Set legend outside plot\n",
    "    ncol=1, \n",
    "#     loc='upper left', \n",
    ")\n",
    "markers = generate_marker_set(datasets.names, 5)"
   ]
  },
  {
   "cell_type": "code",
   "execution_count": null,
   "id": "7157fd3d",
   "metadata": {},
   "outputs": [],
   "source": [
    "markers"
   ]
  },
  {
   "cell_type": "code",
   "execution_count": null,
   "id": "0da38f53",
   "metadata": {},
   "outputs": [],
   "source": [
    "markers"
   ]
  },
  {
   "cell_type": "code",
   "execution_count": null,
   "id": "bed93c3b",
   "metadata": {},
   "outputs": [],
   "source": [
    "fig, ax = plt.subplots(1, 1, figsize=(8, 5))\n",
    "\n",
    "kwargs = {\"ax\": ax, \"sed_type\": \"e2dnde\"}\n",
    "\n",
    "for index, d in enumerate(datasets):\n",
    "    marker=markers['marker'][index] \n",
    "    label=markers['label'][index] \n",
    "    markersize=markers['markersize'][index] \n",
    "    color=markers['color'][index] \n",
    "\n",
    "    d.data.plot(\n",
    "        label=d.name, \n",
    "        c=color,\n",
    "        marker=marker,\n",
    "        markersize=markersize,\n",
    "        ls='None',\n",
    "        mec='k',\n",
    "        mew=0.5,\n",
    "        elinewidth=0.7,\n",
    "        capsize=1.5,\n",
    "        **kwargs\n",
    "    )\n",
    "    \n",
    "ax.yaxis.set_units(yaxis_units)\n",
    "ax.xaxis.set_units(xaxis_units)\n",
    "\n",
    "ax.set_xlabel(xaxis_label)\n",
    "ax.set_ylabel(yaxis_label)\n",
    "\n",
    "ax.set_xlim(energy_bounds)\n",
    "ax.set_ylim(ylim)\n",
    "\n",
    "ax.legend(loc='upper left', ncol=1, fontsize=5, bbox_to_anchor=(1,1))\n",
    "\n",
    "plt.title(f\"{source_name}\")\n",
    "\n",
    "plt.savefig(f\"{figures_path}/flux_points_VizieR_{name_file}\")\n",
    "plt.show()\n"
   ]
  },
  {
   "cell_type": "code",
   "execution_count": null,
   "id": "14d1f731",
   "metadata": {},
   "outputs": [],
   "source": []
  },
  {
   "cell_type": "code",
   "execution_count": null,
   "id": "2f2dd029",
   "metadata": {
    "scrolled": true
   },
   "outputs": [],
   "source": [
    "target = Target(\n",
    "    name=source_name, \n",
    "    pos_ra=position.ra, \n",
    "    pos_dec=position.dec,\n",
    ")\n",
    "\n",
    "radius_roi = 0.25 * u.Unit(\"deg\")\n",
    "\n",
    "roi = ROI(target=target, radius=radius_roi)\n",
    "\n",
    "config.roi = roi.dict\n",
    "config.roi.catalogs = \"all\"\n",
    "\n",
    "analysis = Counterparts(config)\n",
    "analysis.run()\n"
   ]
  },
  {
   "cell_type": "code",
   "execution_count": null,
   "id": "ff044cbe",
   "metadata": {},
   "outputs": [],
   "source": [
    "analysis.df_sep"
   ]
  },
  {
   "cell_type": "code",
   "execution_count": null,
   "id": "a4642166",
   "metadata": {},
   "outputs": [],
   "source": [
    "# analysis.datasets.names"
   ]
  },
  {
   "cell_type": "code",
   "execution_count": null,
   "id": "47c08889",
   "metadata": {},
   "outputs": [],
   "source": [
    "# analysis.write_datasets()\n",
    "# analysis.write_models()"
   ]
  },
  {
   "cell_type": "code",
   "execution_count": null,
   "id": "0b0c2245",
   "metadata": {},
   "outputs": [],
   "source": [
    "models = Models()\n",
    "datasets = Datasets()"
   ]
  },
  {
   "cell_type": "code",
   "execution_count": null,
   "id": "ec9d00d8",
   "metadata": {},
   "outputs": [],
   "source": [
    "# path_dir = datasets_dir\n",
    "# datasets_HE = Datasets.read(filename=f'{path_dir}/datasets.yaml', filename_models=f'{path_dir}/models.yaml')\n",
    "\n",
    "datasets_HE = analysis.datasets.copy()\n",
    "models.extend(datasets_HE.models)\n",
    "datasets.extend(datasets_HE.copy())"
   ]
  },
  {
   "cell_type": "code",
   "execution_count": null,
   "id": "b19af570",
   "metadata": {},
   "outputs": [],
   "source": []
  },
  {
   "cell_type": "code",
   "execution_count": null,
   "id": "1911d7f2",
   "metadata": {},
   "outputs": [],
   "source": [
    "xaxis_label = r'$\\rm{E\\ [MeV] }$'\n",
    "xaxis_units = u.Unit('MeV')\n",
    "\n",
    "yaxis_label = r'$\\rm{E^2\\ J(E)\\ [erg\\ cm^{-2}\\ s^{-1}] }$'\n",
    "yaxis_units = u.Unit('erg cm-2 s-1')\n",
    "\n",
    "energy_bounds = [1e1, 1e7] * u.MeV\n",
    "ylim = [1e-15, 1e-8]\n",
    "\n",
    "leg_place = dict(\n",
    "    bbox_to_anchor = (1, 0.5), # Set legend outside plot\n",
    "    ncol=1, \n",
    "#     loc='upper left', \n",
    ")\n",
    "markers = generate_marker_set(datasets.names, 5)"
   ]
  },
  {
   "cell_type": "code",
   "execution_count": null,
   "id": "b5f5a732",
   "metadata": {},
   "outputs": [],
   "source": [
    "spectral_model = datasets_HE.models[1].spectral_model\n",
    "\n",
    "model_fit = SkyModel(\n",
    "#     spatial_model=spatial_model,\n",
    "    spectral_model=spectral_model,\n",
    "    name=\"model-fit\",\n",
    ")\n",
    "models.append(model_fit)\n",
    "display(model_fit.parameters.to_table())"
   ]
  },
  {
   "cell_type": "code",
   "execution_count": null,
   "id": "69cb7069",
   "metadata": {},
   "outputs": [],
   "source": [
    "display(model_fit.parameters.to_table())"
   ]
  },
  {
   "cell_type": "code",
   "execution_count": null,
   "id": "b8f76403",
   "metadata": {},
   "outputs": [],
   "source": [
    "datasets.models = model_fit\n",
    "fitter = Fit()\n",
    "result_fit = fitter.run(datasets=datasets)\n",
    "display(model_fit.parameters.to_table())"
   ]
  },
  {
   "cell_type": "code",
   "execution_count": null,
   "id": "0c603744",
   "metadata": {},
   "outputs": [],
   "source": [
    "result_fit.success"
   ]
  },
  {
   "cell_type": "code",
   "execution_count": null,
   "id": "2b3d7c4b",
   "metadata": {},
   "outputs": [],
   "source": [
    "datasets.names"
   ]
  },
  {
   "cell_type": "code",
   "execution_count": null,
   "id": "00e74760",
   "metadata": {},
   "outputs": [],
   "source": [
    "energy_bounds = [1e1, 1e7] * u.MeV\n",
    "ylim = [1e-15, 1e-8]"
   ]
  },
  {
   "cell_type": "code",
   "execution_count": null,
   "id": "510e0a21",
   "metadata": {},
   "outputs": [],
   "source": [
    "fig, ax = plt.subplots(1, 1, figsize=(8, 5))\n",
    "\n",
    "kwargs = {\"ax\": ax, \"sed_type\": \"e2dnde\"}\n",
    "\n",
    "for index, d in enumerate(datasets):\n",
    "    marker=markers['marker'][index] \n",
    "    label=markers['label'][index] \n",
    "    markersize=markers['markersize'][index] \n",
    "    color=markers['color'][index] \n",
    "\n",
    "    d.data.plot(\n",
    "        label=d.name, \n",
    "        c=color,\n",
    "        marker=marker,\n",
    "        markersize=markersize,\n",
    "        ls='None',\n",
    "        mec='k',\n",
    "        mew=0.5,\n",
    "        elinewidth=0.7,\n",
    "        capsize=1.5,\n",
    "        **kwargs\n",
    "    )\n",
    "    \n",
    "model_fit.spectral_model.plot(energy_bounds=energy_bounds, label=model_fit.name, color=\"k\", **kwargs)\n",
    "model_fit.spectral_model.plot_error(energy_bounds=energy_bounds, **kwargs)\n",
    "ax.yaxis.set_units(yaxis_units)\n",
    "ax.xaxis.set_units(xaxis_units)\n",
    "\n",
    "ax.set_xlabel(xaxis_label)\n",
    "ax.set_ylabel(yaxis_label)\n",
    "\n",
    "ax.set_xlim(energy_bounds)\n",
    "ax.set_ylim(ylim)\n",
    "\n",
    "ax.legend(loc='upper left', ncol=1, fontsize=5, bbox_to_anchor=(1,1))\n",
    "\n",
    "plt.title(f\"{source_name}\")\n",
    "\n",
    "plt.savefig(f\"{figures_path}/SED_HE_{name_file}\")\n",
    "plt.show()\n"
   ]
  },
  {
   "cell_type": "code",
   "execution_count": null,
   "id": "fd493906",
   "metadata": {},
   "outputs": [],
   "source": [
    "analysis.datasets.models = models"
   ]
  },
  {
   "cell_type": "code",
   "execution_count": null,
   "id": "66fb7d92",
   "metadata": {},
   "outputs": [],
   "source": [
    "datasets.models = models"
   ]
  },
  {
   "cell_type": "code",
   "execution_count": null,
   "id": "c62ee3cf",
   "metadata": {},
   "outputs": [],
   "source": [
    "datasets.extend(datasets_VizieR)\n",
    "analysis.datasets = datasets"
   ]
  },
  {
   "cell_type": "code",
   "execution_count": null,
   "id": "7f285670",
   "metadata": {},
   "outputs": [],
   "source": [
    "display(models['model-fit'].parameters.to_table())"
   ]
  },
  {
   "cell_type": "code",
   "execution_count": null,
   "id": "2984b42f",
   "metadata": {},
   "outputs": [],
   "source": [
    "display(datasets.models['model-fit'].parameters.to_table())"
   ]
  },
  {
   "cell_type": "code",
   "execution_count": null,
   "id": "8b0c7de9",
   "metadata": {},
   "outputs": [],
   "source": [
    "datasets.models[0]"
   ]
  },
  {
   "cell_type": "code",
   "execution_count": null,
   "id": "807715b1",
   "metadata": {},
   "outputs": [],
   "source": [
    "datasets.write()"
   ]
  },
  {
   "cell_type": "code",
   "execution_count": null,
   "id": "cc2260df",
   "metadata": {},
   "outputs": [],
   "source": [
    "config.write(path=f'{outdir}/config.yaml', overwrite=True)"
   ]
  },
  {
   "cell_type": "code",
   "execution_count": null,
   "id": "266429b4",
   "metadata": {},
   "outputs": [],
   "source": [
    "# config.read(config.general.config_file)"
   ]
  },
  {
   "cell_type": "code",
   "execution_count": null,
   "id": "6af8dca2",
   "metadata": {},
   "outputs": [],
   "source": [
    "datasets.write(filename=config.general.datasets_file, filename_models=config.general.models_file, overwrite=True)"
   ]
  },
  {
   "cell_type": "code",
   "execution_count": null,
   "id": "fc4eb7ca",
   "metadata": {},
   "outputs": [],
   "source": [
    "!jupyter nbconvert counterparts.ipynb  --to notebook --output 'counterparts_{source_name}' --output-dir '.'"
   ]
  },
  {
   "cell_type": "code",
   "execution_count": null,
   "id": "409754fc",
   "metadata": {},
   "outputs": [],
   "source": [
    "convert_ipynb_to_gallery('counterparts.ipynb', output_file_name=f'{outdir}/counterparts_{source_name}')"
   ]
  },
  {
   "cell_type": "code",
   "execution_count": null,
   "id": "8df21e81",
   "metadata": {},
   "outputs": [],
   "source": []
  }
 ],
 "metadata": {
  "kernelspec": {
   "display_name": "Python 3 (ipykernel)",
   "language": "python",
   "name": "python3"
  },
  "language_info": {
   "codemirror_mode": {
    "name": "ipython",
    "version": 3
   },
   "file_extension": ".py",
   "mimetype": "text/x-python",
   "name": "python",
   "nbconvert_exporter": "python",
   "pygments_lexer": "ipython3",
   "version": "3.9.18"
  }
 },
 "nbformat": 4,
 "nbformat_minor": 5
}
