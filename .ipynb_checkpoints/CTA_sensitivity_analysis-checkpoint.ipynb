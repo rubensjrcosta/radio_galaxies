{
 "cells": [
  {
   "cell_type": "code",
   "execution_count": null,
   "metadata": {},
   "outputs": [],
   "source": []
  },
  {
   "cell_type": "code",
   "execution_count": null,
   "metadata": {},
   "outputs": [],
   "source": [
    "# idx=0\n",
    "# irfs_opts, irfs, irfs_label, location = IRFS_OPTS[idx], IRFS[idx], IRFS_LABELS[idx], LOCATION[idx]\n",
    "\n",
    "# irfs_opt = ['North', 'AverageAz', '20deg', '50h']\n",
    "# irfs = Irfs.get_irfs(irfs_opt)\n",
    "# irfs_label = Irfs.get_irfs_label(irfs_opt)\n",
    "# location = Irfs.get_obs_loc(irfs_opt)"
   ]
  },
  {
   "cell_type": "markdown",
   "metadata": {},
   "source": [
    "## CTA sensitivity for a point-like IRF \n",
    "\n",
    "[gammapy-tutorial](https://docs.gammapy.org/1.2/tutorials/analysis-1d/cta_sensitivity.html)</br>"
   ]
  },
  {
   "cell_type": "markdown",
   "metadata": {},
   "source": [
    "[CTAO's expected \"Alpha Configuration\" performance](https://www.cta-observatory.org/science/ctao-performance/)"
   ]
  },
  {
   "cell_type": "markdown",
   "metadata": {},
   "source": [
    "[CTAO Instrument Response Functions - prod5 version v0.1](https://zenodo.org/records/5499840#.YUya5WYzbUI)"
   ]
  },
  {
   "cell_type": "markdown",
   "metadata": {},
   "source": [
    "[IRFs - gamma-astro-data-formats](https://gamma-astro-data-formats.readthedocs.io/en/v0.3/irfs/index.html)"
   ]
  },
  {
   "cell_type": "code",
   "execution_count": null,
   "metadata": {},
   "outputs": [],
   "source": []
  },
  {
   "cell_type": "code",
   "execution_count": 3,
   "metadata": {
    "id": "eAe8JT-6mtC6",
    "tags": []
   },
   "outputs": [],
   "source": [
    "%matplotlib inline"
   ]
  },
  {
   "cell_type": "code",
   "execution_count": 4,
   "metadata": {},
   "outputs": [
    {
     "name": "stderr",
     "output_type": "stream",
     "text": [
      "/home/born-again/anaconda3/envs/gammapy-1.1/lib/python3.9/site-packages/pydantic/_migration.py:290: UserWarning: `pydantic.utils:deep_update` has been removed. We are importing from `pydantic.v1.utils:deep_update` instead.See the migration guide for more details: https://docs.pydantic.dev/latest/migration/\n",
      "  warnings.warn(\n",
      "/home/born-again/anaconda3/envs/gammapy-1.1/lib/python3.9/site-packages/pydantic/_migration.py:290: UserWarning: `pydantic.utils:deep_update` has been removed. We are importing from `pydantic.v1.utils:deep_update` instead.See the migration guide for more details: https://docs.pydantic.dev/latest/migration/\n",
      "  warnings.warn(\n"
     ]
    }
   ],
   "source": [
    "import matplotlib.pyplot as plt\n",
    "\n",
    "import numpy as np\n",
    "import astropy.units as u\n",
    "\n",
    "from astropy.coordinates import Angle, SkyCoord\n",
    "from astropy.visualization import quantity_support\n",
    "from astropy.table import Table\n",
    "\n",
    "from feupy.analysis.config import AnalysisConfig\n",
    "from feupy.analysis.core import Analysis\n",
    "\n",
    "from feupy.cta.irfs import Irfs\n",
    "\n",
    "from feupy.utils.string_handling import name_to_txt\n",
    "from feupy.utils.io import mkdir_sub_directory\n",
    "from feupy.plotters import generate_marker_set\n",
    "\n",
    "from core import irfs_label_txt, plot_sensitivity_table, set_sens_label\n",
    "\n",
    "from gammapy.utils.scripts import make_path\n",
    "from gammapy.maps.axes import UNIT_STRING_FORMAT\n"
   ]
  },
  {
   "cell_type": "code",
   "execution_count": 5,
   "metadata": {},
   "outputs": [],
   "source": [
    "def plot_sensitivity_table(table, ax=None, wich = 'e2dnde', plot_xerr=False, **kwargs):\n",
    "    \n",
    "    ax = plt.gca() if ax is None else ax\n",
    "    \n",
    "    e_cta, ef_cta = table['e_ref'], table[wich]\n",
    "\n",
    "    \n",
    "    if plot_xerr == True:\n",
    "        w = sens_table[\"e_max\"] - sens_table[\"e_min\"]\n",
    "        xerr= w/2\n",
    "    else: xerr = None\n",
    "\n",
    "    with quantity_support():\n",
    "        ax.errorbar(e_cta, ef_cta, xerr=xerr, **kwargs)\n",
    "\n",
    "    ax.legend(loc= 'upper right', handlelength=4)\n",
    "    ax.set_xlabel(f\"Energy [{e_cta.unit.to_string(UNIT_STRING_FORMAT)}]\", size=12)\n",
    "    \n",
    "    if wich == 'excess':\n",
    "        ax.set_ylabel(f\"Excess counts\", size=12)\n",
    "    elif wich == 'background':\n",
    "        ax.set_ylabel(f\"Background counts\", size=12)\n",
    "    elif wich == 'on_radii':\n",
    "        ax.set_ylabel(f\"On region radius [{ef_cta.unit.to_string(UNIT_STRING_FORMAT)}]\", size=12)\n",
    "    elif wich == 'e2dnde':\n",
    "        ax.set_ylabel(f\"Flux Sensitivity [{ef_cta.unit.to_string(UNIT_STRING_FORMAT)}]\", size=12)\n",
    "        \n",
    "    ax.set_xscale('log')\n",
    "    ax.set_yscale('log')\n",
    "    return ax"
   ]
  },
  {
   "cell_type": "code",
   "execution_count": 6,
   "metadata": {},
   "outputs": [],
   "source": [
    "def plot_sensitivity_from_table(sens_table, wich = 'e2dnde', ax=None, plot_xerr=False, **kwargs):\n",
    "    \"\"\" \"\"\"\n",
    "\n",
    "    ax = plt.gca() if ax is None else ax\n",
    "\n",
    "    e = sens_table[\"e_ref\"]\n",
    "    s = sens_table[wich]\n",
    "    \n",
    "    xlabel = f\"Energy [{sens_table['e_ref'].unit.to_string(UNIT_STRING_FORMAT)}]\"\n",
    "    if wich == 'excess':\n",
    "        ylabel = 'Excess counts'\n",
    "    elif wich == 'background':\n",
    "        ylabel = \"Background counts\"\n",
    "    elif wich == 'on_radii':\n",
    "        ylabel = f\"On region radius [{e.unit.to_string(UNIT_STRING_FORMAT)}]\"\n",
    "    elif wich == 'e2dnde':\n",
    "         ylabel = f\"Flux Sensitivity [{e.unit.to_string(UNIT_STRING_FORMAT)}]\"\n",
    "        \n",
    "    if plot_xerr == True:\n",
    "        w = sens_table[\"e_max\"] - sens_table[\"e_min\"]\n",
    "        xerr= w/2\n",
    "    else: xerr = None\n",
    "   \n",
    "    with quantity_support():\n",
    "        ax.errorbar(\n",
    "            e,\n",
    "            s,\n",
    "            xerr=xerr,\n",
    "            **kwargs,\n",
    "        )\n",
    "\n",
    "    ax.set_xscale(\"log\")\n",
    "    ax.set_yscale(\"log\")\n",
    "    \n",
    "    # Style settings\n",
    "    ax.set_xlabel(xlabel)\n",
    "    ax.set_ylabel(ylabel)\n",
    "    ax.legend(loc=\"lower left\", scatterpoints=1, handlelength = 3, fontsize=8)\n",
    "\n",
    "    return ax"
   ]
  },
  {
   "cell_type": "code",
   "execution_count": null,
   "metadata": {},
   "outputs": [],
   "source": [
    "table = tables_south[0]"
   ]
  },
  {
   "cell_type": "code",
   "execution_count": null,
   "metadata": {},
   "outputs": [],
   "source": [
    "plot_sensitivity_from_table(table)"
   ]
  },
  {
   "cell_type": "code",
   "execution_count": null,
   "metadata": {},
   "outputs": [],
   "source": [
    "LINE_STYLES = ['solid', 'dashed', 'dashdot', 'dotted']"
   ]
  },
  {
   "cell_type": "code",
   "execution_count": null,
   "metadata": {},
   "outputs": [],
   "source": [
    "leg = ax.get_legend()\n"
   ]
  },
  {
   "cell_type": "code",
   "execution_count": null,
   "metadata": {},
   "outputs": [],
   "source": [
    "from cycler import cycler\n",
    "\n",
    "def plot_sensitivity_table(table, ax=None, **kwargs):\n",
    "    \n",
    "    ax = plt.gca() if ax is None else ax\n",
    "\n",
    "#     ax.set_prop_cycle(cycler(\"marker\", \"s*v\") + cycler(\"color\", \"rgb\"))\n",
    "    ax.set_prop_cycle(color=['red', 'green', 'blue'], marker=['>', 's', '8'], markersize=[5, 4.5, 5])\n",
    "\n",
    "    for criterion in (\"significance\", \"gamma\", \"bkg\"):\n",
    "\n",
    "        mask = table[\"criterion\"] == criterion\n",
    "        t = table[mask]\n",
    "\n",
    "        ax.errorbar(\n",
    "            t[\"e_ref\"],\n",
    "            t[\"e2dnde\"],\n",
    "            xerr=0.5 * (t[\"e_max\"] - t[\"e_min\"]),\n",
    "            label=criterion,\n",
    "            linestyle=\"\",\n",
    "        )\n",
    "\n",
    "    ax.loglog()\n",
    "\n",
    "    ax.set_xlabel(f\"Energy [{t['e_ref'].unit.to_string(UNIT_STRING_FORMAT)}]\")\n",
    "    ax.set_ylabel(f\"Sensitivity [{t['e2dnde'].unit.to_string(UNIT_STRING_FORMAT)}]\")\n",
    "    ax.legend(loc=\"lower left\", scatterpoints=1, handlelength = 3, fontsize=8)\n",
    "\n",
    "#     leg = ax.get_legend()\n",
    "#     leg.legendHandles[0]._sizes = [25]\n",
    "#     leg.legendHandles[1]._sizes = [25]\n",
    "\n",
    "    return ax"
   ]
  },
  {
   "cell_type": "code",
   "execution_count": null,
   "metadata": {},
   "outputs": [],
   "source": [
    "fig, ax = plt.subplots()\n",
    "ax.set_prop_cycle(color=['red', 'green', 'blue'], marker=['>', 's', '8'], markersize=[5, 4.5, 5])\n",
    "ax = plot_sensitivity_from_table(tables_north[0], ax=ax)\n",
    "ax = plot_sensitivity_from_table(tables_north[1], ax=ax)\n",
    "ax = plot_sensitivity_from_table(tables_north[2], ax=ax)"
   ]
  },
  {
   "cell_type": "code",
   "execution_count": null,
   "metadata": {},
   "outputs": [],
   "source": [
    "markers"
   ]
  },
  {
   "cell_type": "code",
   "execution_count": null,
   "metadata": {},
   "outputs": [],
   "source": [
    "table.meta['int_sens']"
   ]
  },
  {
   "cell_type": "code",
   "execution_count": null,
   "metadata": {},
   "outputs": [],
   "source": [
    "linestyle=['solid', (0, (5, 1)), (0, (3, 5, 1, 5))]"
   ]
  },
  {
   "cell_type": "code",
   "execution_count": null,
   "metadata": {},
   "outputs": [],
   "source": [
    "fig, ax = plt.subplots()\n",
    "ax.set_prop_cycle(color=['blue', 'blue', 'blue'], linestyle=linestyle)\n",
    "for index, (table, label) in enumerate(zip(tables_south, tables_south_names)):\n",
    "    int_sens = u.Quantity(table.meta['int_sens'])\n",
    "    unit = int_sens.unit.to_string(UNIT_STRING_FORMAT)\n",
    "    label = label.replace('-50h)', '').replace(' (', '-')\n",
    "    label = f'{label} ({int_sens.value:.2e} {unit})'\n",
    "    ax = plot_sensitivity_from_table(table, wich='background',  ax=ax, label=label)"
   ]
  },
  {
   "cell_type": "code",
   "execution_count": null,
   "metadata": {},
   "outputs": [],
   "source": [
    "fig, ax = plt.subplots()\n",
    "ax.set_prop_cycle(color=['blue', 'blue', 'blue'], linestyle=linestyle)\n",
    "for index, (table, label) in enumerate(zip(tables_south, tables_south_names)):\n",
    "    int_sens = u.Quantity(table.meta['int_sens'])\n",
    "    unit = int_sens.unit.to_string(UNIT_STRING_FORMAT)\n",
    "    label = label.replace('-50h)', '').replace(' (', '-')\n",
    "    label = f'{label} ({int_sens.value:.2e} {unit})'\n",
    "    ax = plot_sensitivity_from_table(table, wich='background',  ax=ax, label=label)\n",
    "\n",
    "ax.set_prop_cycle(color=['green', 'green', 'green'], linestyle=linestyle)\n",
    "for index, (table, label) in enumerate(zip(tables_north, tables_north_names)):\n",
    "    int_sens = u.Quantity(table.meta['int_sens'])\n",
    "    unit = int_sens.unit.to_string(UNIT_STRING_FORMAT)\n",
    "    label = label.replace('-50h)', '').replace(' (', '-')\n",
    "    label = f'{label} ({int_sens.value:.2e} {unit})'\n",
    "    \n",
    "    ax = plot_sensitivity_from_table(table,wich='background', ax=ax, label=label)\n",
    "    \n",
    "ax.legend(loc=\"best\", scatterpoints=1, handlelength = 3, fontsize=6)\n"
   ]
  },
  {
   "cell_type": "code",
   "execution_count": null,
   "metadata": {},
   "outputs": [],
   "source": [
    "plot_sensitivity_table(tables_south[0])"
   ]
  },
  {
   "cell_type": "code",
   "execution_count": null,
   "metadata": {},
   "outputs": [],
   "source": [
    "def show_sensitivity_curve(table, ax=None, **kwargs):\n",
    "    # Plot the sensitivity curve\n",
    "    \n",
    "    is_s = table[\"criterion\"] == \"significance\"\n",
    "    is_g = table[\"criterion\"] == \"gamma\"\n",
    "    is_bkg_syst = table[\"criterion\"] == \"bkg\"\n",
    "    \n",
    "    fig, ax = plt.subplots()\n",
    "    marker = markers['significance']\n",
    "    ax.plot(table[\"e_ref\"][is_s], table[\"e2dnde\"][is_s], \n",
    "             color=\"red\", label=\"significance\",  \n",
    "            marker=marker[1], markersize=marker[2]\n",
    "           )\n",
    "    marker = markers['gamma']\n",
    "    ax.plot(table[\"e_ref\"][is_g], table[\"e2dnde\"][is_g], \n",
    "            color=\"blue\", label=\"gamma\",\n",
    "            marker=marker[1], markersize=marker[2]\n",
    "           )\n",
    "    marker = markers['bkg syst']\n",
    "    ax.plot(table[\"e_ref\"][is_bkg_syst], table[\"e2dnde\"][is_bkg_syst],\n",
    "            color=\"green\", label=\"bkg syst\",\n",
    "                       marker=marker[1], markersize=marker[2]\n",
    "\n",
    ")\n",
    "\n",
    "    ax.loglog()\n",
    "#     # ax.set_xlabel(f\"Energy [{table['e_ref'].unit.to_string(UNIT_STRING_FORMAT)}]\")\n",
    "#     # ax.set_ylabel(f\"Sensitivity [{table['e2dnde'].unit.to_string(UNIT_STRING_FORMAT)}]\")\n",
    "#     ax.legend()\n",
    "\n",
    "    return ax"
   ]
  },
  {
   "cell_type": "code",
   "execution_count": null,
   "metadata": {},
   "outputs": [],
   "source": [
    "#         label=label, \n",
    "#         c=marker[0],\n",
    "#         marker=marker[1],\n",
    "#         markersize=marker[2],\n",
    "#         ls='None',\n",
    "#         mec='k',\n",
    "#         mew=0.5,\n",
    "#         elinewidth=0.7,\n",
    "#         capsize=1.5,"
   ]
  },
  {
   "cell_type": "code",
   "execution_count": null,
   "metadata": {},
   "outputs": [],
   "source": [
    "labels = ['significance', \"gamma\", 'bkg syst']\n",
    "colors = ['red', 'blue', 'green']\n"
   ]
  },
  {
   "cell_type": "code",
   "execution_count": null,
   "metadata": {},
   "outputs": [],
   "source": [
    "markers = generate_marker_set(labels, 4)\n",
    "markers"
   ]
  },
  {
   "cell_type": "code",
   "execution_count": null,
   "metadata": {},
   "outputs": [],
   "source": [
    "show_sensitivity_curve(tables_south[1])"
   ]
  },
  {
   "cell_type": "code",
   "execution_count": null,
   "metadata": {},
   "outputs": [],
   "source": [
    "\n",
    "\n",
    "from feupy.utils.table import write_tables_fits, write_tables_csv\n",
    "from feupy.utils.datasets import flux_points_dataset_from_table\n",
    "from feupy.utils.observation import get_obs_label\n",
    "\n",
    "from feupy.utils.geometry import (\n",
    "    create_energy_axis, \n",
    "    create_pointing, \n",
    "    create_pointing_position, \n",
    "    create_region_geometry,\n",
    "    define_on_region,\n",
    ")\n",
    "\n",
    "\n",
    "from gammapy.datasets import Datasets\n",
    "from gammapy.maps import MapAxis\n",
    "\n",
    "from gammapy.datasets import SpectrumDataset, SpectrumDatasetOnOff, Datasets\n",
    "from gammapy.makers import SpectrumDatasetMaker, SafeMaskMaker\n",
    "from gammapy.estimators import FluxPoints, SensitivityEstimator\n",
    "\n",
    "from gammapy.data import Observation"
   ]
  },
  {
   "cell_type": "code",
   "execution_count": null,
   "metadata": {},
   "outputs": [],
   "source": []
  },
  {
   "cell_type": "code",
   "execution_count": null,
   "metadata": {},
   "outputs": [],
   "source": []
  },
  {
   "cell_type": "code",
   "execution_count": 26,
   "metadata": {},
   "outputs": [],
   "source": [
    "config = AnalysisConfig()"
   ]
  },
  {
   "cell_type": "code",
   "execution_count": 66,
   "metadata": {},
   "outputs": [
    {
     "name": "stdout",
     "output_type": "stream",
     "text": [
      "49.95, 41.51\n",
      "150.58, -13.26\n"
     ]
    }
   ],
   "source": [
    "source_name = 'NGC 1275'\n",
    "file_name = name_to_txt(source_name)\n",
    "position = SkyCoord.from_name(source_name)\n",
    "print(f'{position.ra.deg:.2f}, {position.dec.deg:.2f}')\n",
    "print(f'{position.galactic.l.deg:.2f}, {position.galactic.b.deg:.2f}')"
   ]
  },
  {
   "cell_type": "code",
   "execution_count": 59,
   "metadata": {},
   "outputs": [
    {
     "name": "stdout",
     "output_type": "stream",
     "text": [
      "Directory 'NGC_1275' created\n",
      "Directory 'NGC_1275/datasets' created\n",
      "Directory 'NGC_1275/figures' created\n",
      "Directory 'NGC_1275/sensitivity' created\n",
      "Directory 'NGC_1275/data' created\n"
     ]
    }
   ],
   "source": [
    "outdir = f\"./{name_to_txt(source_name)}\"\n",
    "outdir_path = mkdir_sub_directory(outdir)\n",
    "datasets_path = mkdir_sub_directory(outdir, 'datasets')[1]\n",
    "figures_path = mkdir_sub_directory(outdir, 'figures')[1]\n",
    "sensitivity_path = mkdir_sub_directory(outdir, 'sensitivity')[1]\n",
    "data_path = mkdir_sub_directory(outdir, 'data')[1]"
   ]
  },
  {
   "cell_type": "code",
   "execution_count": null,
   "metadata": {},
   "outputs": [],
   "source": []
  },
  {
   "cell_type": "code",
   "execution_count": 60,
   "metadata": {},
   "outputs": [],
   "source": [
    "# datasets_sens =  Datasets.read(f'{datasets_path}/sensitivity_datasets.yaml')"
   ]
  },
  {
   "cell_type": "code",
   "execution_count": 61,
   "metadata": {},
   "outputs": [],
   "source": [
    "colors = ['blue', 'green']\n",
    "lines = ['solid', 'dotted', (0, (1, 10))]"
   ]
  },
  {
   "cell_type": "code",
   "execution_count": 65,
   "metadata": {},
   "outputs": [
    {
     "data": {
      "text/plain": [
       "PosixPath('NGC_1275/sensitivity/sens-S-Az-20deg-50h.csv')"
      ]
     },
     "execution_count": 65,
     "metadata": {},
     "output_type": "execute_result"
    }
   ],
   "source": []
  },
  {
   "cell_type": "code",
   "execution_count": 67,
   "metadata": {},
   "outputs": [],
   "source": [
    "tables_south = [] \n",
    "tables_south_names = []\n",
    "\n",
    "_irfs =[\n",
    "    ['South'], \n",
    "    ['AverageAz'], \n",
    "    ['20deg','40deg','60deg'], \n",
    "    ['50h']\n",
    "]\n",
    "irfs_opts, irfss, irfs_labels, locations = Irfs.get_irf_groups(_irfs)\n",
    "IRFS_OPTS_SOUTH = irfs_opts\n",
    "\n",
    "for i, irfs_opt in enumerate(IRFS_OPTS_SOUTH):\n",
    "    path = f\"/home/born-again/Documents/GitHub/radio_galaxies/{file_name}/tables/sens-{irfs_label_txt(irfs_opt)}.csv\"\n",
    "    table = Table.read(path, format='ascii')\n",
    "    tables_south_names.append(table.meta['irfs_label'])\n",
    "    tables_south.append(table)"
   ]
  },
  {
   "cell_type": "code",
   "execution_count": null,
   "metadata": {},
   "outputs": [],
   "source": [
    "markers_south = generate_marker_set(tables_south_names, 2.5)"
   ]
  },
  {
   "cell_type": "code",
   "execution_count": null,
   "metadata": {},
   "outputs": [],
   "source": [
    "    ax.set_title(\"Minimal Flux Needed for 5σ Detection in 50 hours\")\n"
   ]
  },
  {
   "cell_type": "code",
   "execution_count": null,
   "metadata": {},
   "outputs": [],
   "source": [
    "table, label = tables_south[0], tables_south_names[0]"
   ]
  },
  {
   "cell_type": "code",
   "execution_count": null,
   "metadata": {},
   "outputs": [],
   "source": [
    "label"
   ]
  },
  {
   "cell_type": "code",
   "execution_count": null,
   "metadata": {},
   "outputs": [],
   "source": [
    "fig, ax = plt.subplots()\n",
    "\n",
    "marker, label = markers[label], set_sens_label(tables_north_names[0], livetime_out='50h')\n",
    "ax = plot_sensitivity_table(tables[0], ax=ax, wich='background', **kwargs)\n",
    "ax = plot_sensitivity_table(tables[1], ax=ax, wich='background')\n",
    "ax = plot_sensitivity_table(tables[1], ax=ax, wich='background')\n",
    "\n",
    "\n",
    "ax.set_xlim(plot_kwargs[\"energy_bounds\"])\n",
    "# ax.set_xlabel(sed_x_label)\n",
    "# ax.set_ylabel(sed_y_label)\n",
    "ax.legend(loc=\"lower left\")"
   ]
  },
  {
   "cell_type": "code",
   "execution_count": null,
   "metadata": {},
   "outputs": [],
   "source": [
    "tables_north = [] \n",
    "tables_north_names = []\n",
    "\n",
    "_irfs =[\n",
    "    ['North'], \n",
    "    ['AverageAz'], \n",
    "    ['20deg','40deg','60deg'], \n",
    "    ['50h']\n",
    "]\n",
    "irfs_opts, irfss, irfs_labels, locations = Irfs.get_irf_groups(_irfs)\n",
    "IRFS_OPTS_NORTH = irfs_opts\n",
    "\n",
    "for i, irfs_opt in enumerate(IRFS_OPTS_NORTH):\n",
    "    path = f'{sensitivity_path}/sens-{irfs_label_txt(irfs_opt)}.csv'\n",
    "    table = Table.read(path, format='ascii')\n",
    "    tables_north_names.append(table.meta['irfs_label'])\n",
    "    tables_north.append(table)"
   ]
  },
  {
   "cell_type": "code",
   "execution_count": null,
   "metadata": {},
   "outputs": [],
   "source": [
    "datasets = Datasets()\n",
    "for dataset in datasets_sens:\n",
    "    name = dataset.name\n",
    "    if name.find('sens') != -1 and name.find('40deg') != -1 and name.find('Az') != -1:             \n",
    "        datasets.append(dataset)"
   ]
  },
  {
   "cell_type": "code",
   "execution_count": null,
   "metadata": {},
   "outputs": [],
   "source": [
    "fig, ax = plt.subplots()\n",
    "kwargs = {}\n",
    "for index, dataset in enumerate(datasets):\n",
    "    if index in [0, 1, 2]:\n",
    "        kwargs['color'] = 'green'\n",
    "    else: kwargs['color'] = 'blue'\n",
    "    label = set_sens_label(dataset.name, livetime_out='25h', zenith_out='40deg')\n",
    "    kwargs['label'] = label\n",
    "    kwargs['ls'] = lines[index]\n",
    "    kwargs['mec'] = 'k'                \n",
    "    \n",
    "    ax = plot_sensitivity_cta(dataset=dataset, **kwargs)"
   ]
  },
  {
   "cell_type": "code",
   "execution_count": null,
   "metadata": {},
   "outputs": [],
   "source": []
  },
  {
   "cell_type": "code",
   "execution_count": null,
   "metadata": {},
   "outputs": [],
   "source": [
    "fig, ax = plt.subplots()\n",
    "kwargs = {}\n",
    "for index, dataset in enumerate(datasets):\n",
    "#     if index in [0, 1, 2]:\n",
    "    name = dataset.name\n",
    "    marker = markers[name]\n",
    "    label = set_sens_label(dataset, livetime_out='25h', zenith_out='40deg')\n",
    "    if label.find('South') != -1:\n",
    "        ls = '--'\n",
    "    else:  ls = 'None'\n",
    "        \n",
    "    kwargs = {\n",
    "            'c':marker[0],\n",
    "        'marker':marker[1],\n",
    "        'markersize':marker[2],\n",
    "        'ls':ls,\n",
    "        'mec':'k',\n",
    "        'mew':0.5,\n",
    "        'elinewidth':0.7,\n",
    "        'capsize':1.5\n",
    "        }\n",
    "\n",
    "\n",
    "    kwargs['label'] = label\n",
    "#     kwargs['ls'] = lines[index]\n",
    "#     kwargs['mec'] = 'k'                \n",
    "    \n",
    "    ax = plot_sensitivity_cta(dataset=dataset, **kwargs)"
   ]
  },
  {
   "cell_type": "code",
   "execution_count": null,
   "metadata": {},
   "outputs": [],
   "source": [
    "dataset.name"
   ]
  },
  {
   "cell_type": "code",
   "execution_count": null,
   "metadata": {},
   "outputs": [],
   "source": [
    "irfs_config =[\n",
    "    ['South', 'South-SSTSubArray','South-MSTSubArray','North','North-MSTSubArray', 'North-LSTSubArray'], \n",
    "    ['AverageAz'], \n",
    "    ['20deg','40deg','60deg'], \n",
    "    ['50h']\n",
    "]\n",
    "irfs_opts, irfss, irfs_labels, locations = Irfs.get_irf_groups(irfs_config)"
   ]
  },
  {
   "cell_type": "code",
   "execution_count": null,
   "metadata": {},
   "outputs": [],
   "source": [
    "from config import irfs_label_txt"
   ]
  },
  {
   "cell_type": "code",
   "execution_count": null,
   "metadata": {},
   "outputs": [],
   "source": [
    "tables_north_z40 = [] \n",
    "table_north_z40_names = []\n",
    "\n",
    "_irfs =[\n",
    "    ['North','North-MSTSubArray', 'North-LSTSubArray'], \n",
    "    ['AverageAz'], \n",
    "    ['40deg'], \n",
    "    ['50h']\n",
    "]\n",
    "irfs_opts, irfss, irfs_labels, locations = Irfs.get_irf_groups(_irfs)\n",
    "IRFS_OPTS_NORTH_z40 = irfs_opts\n",
    "\n",
    "for i, irfs_opt in enumerate(IRFS_OPTS_NORTH_z40):\n",
    "    path = f'{sensitivity_path}/sens-{irfs_label_txt(irfs_opt)}.csv'\n",
    "    table = Table.read(path, format='ascii')\n",
    "    table_north_z40_names.append(table.meta['irfs_label'])\n",
    "    tables_north_z40.append(table)"
   ]
  },
  {
   "cell_type": "code",
   "execution_count": null,
   "metadata": {},
   "outputs": [],
   "source": []
  },
  {
   "cell_type": "code",
   "execution_count": null,
   "metadata": {},
   "outputs": [],
   "source": []
  },
  {
   "cell_type": "code",
   "execution_count": null,
   "metadata": {},
   "outputs": [],
   "source": [
    "tables_south = [] \n",
    "table_names = []\n",
    "for i, (irfs_opt, irfs, irfs_label, location) in enumerate(zip(irfs_opts, irfss, irfs_labels, locations)):\n",
    "    path = f'{sensitivity_path}/sens-{irfs_label_txt(irfs_opt)}.csv'\n",
    "    table = Table.read(path, format='ascii')\n",
    "    table_names.append(table.meta['irfs_label'])\n",
    "    tables.append(table)\n",
    "    "
   ]
  },
  {
   "cell_type": "code",
   "execution_count": null,
   "metadata": {},
   "outputs": [],
   "source": []
  },
  {
   "cell_type": "code",
   "execution_count": null,
   "metadata": {},
   "outputs": [],
   "source": [
    "markers"
   ]
  },
  {
   "cell_type": "code",
   "execution_count": null,
   "metadata": {},
   "outputs": [],
   "source": [
    "datasets = Datasets()\n",
    "for dataset in datasets_sens:\n",
    "    name = table.meta['irfs_label']\n",
    "    if name.find('sens') != -1 and name.find('40deg') != -1 and name.find('Az') != -1:             \n",
    "        datasets.append(dataset)"
   ]
  },
  {
   "cell_type": "code",
   "execution_count": null,
   "metadata": {},
   "outputs": [],
   "source": [
    "sed_x_label = \"Energy / TeV\"\n",
    "sed_y_label = (\n",
    "    r\"$E^2\\,{\\rm d}\\phi/{\\rm d}E\\,/\\,({\\rm erg}\\,{\\rm cm}^{-2}\\,{\\rm s}^{-1})$\"\n",
    ")"
   ]
  },
  {
   "cell_type": "code",
   "execution_count": null,
   "metadata": {},
   "outputs": [],
   "source": [
    "plot_kwargs = {\n",
    "    \"energy_bounds\": [0.01, 300] * u.TeV,\n",
    "    \"sed_type\": \"e2dnde\",\n",
    "    \"yunits\": u.Unit(\"erg cm-2 s-1\"),\n",
    "    \"xunits\": u.TeV,\n",
    "}"
   ]
  },
  {
   "cell_type": "code",
   "execution_count": null,
   "metadata": {},
   "outputs": [],
   "source": [
    "ax.set_xlim(plot_kwargs[\"energy_bounds\"])\n",
    "ax.set_xlabel(sed_x_label)\n",
    "ax.set_ylabel(sed_y_label)\n",
    "ax.legend(loc=\"lower left\")\n",
    "fig.savefig(\"multi_instrument_analysis.pdf\")"
   ]
  },
  {
   "cell_type": "code",
   "execution_count": null,
   "metadata": {},
   "outputs": [],
   "source": [
    "    label = set_sens_label(dataset, livetime_out='50h', zenith_out='40deg')\n",
    "    kwargs['label'] = label\n",
    "    kwargs['ls'] = lines[index]\n",
    "    kwargs['mec'] = 'k'"
   ]
  },
  {
   "cell_type": "code",
   "execution_count": null,
   "metadata": {},
   "outputs": [],
   "source": [
    "markers = generate_marker_set(tables_north_names, 5)"
   ]
  },
  {
   "cell_type": "code",
   "execution_count": null,
   "metadata": {},
   "outputs": [],
   "source": [
    "from feupy.plotters.config import PATHMYSTYLE\n",
    "\n",
    "plt.style.use(make_path(PATHMYSTYLE))"
   ]
  },
  {
   "cell_type": "code",
   "execution_count": null,
   "metadata": {},
   "outputs": [],
   "source": [
    "tables_north_names"
   ]
  },
  {
   "cell_type": "code",
   "execution_count": null,
   "metadata": {},
   "outputs": [],
   "source": [
    "fig, ax = plt.subplots()\n",
    "\n",
    "table, label = tables_north[0], tables_north_names[0]\n",
    "marker, label = markers[label], set_sens_label(tables_north_names[0], livetime_out='50h')\n",
    "ax = plot_sensitivity_table(tables[0], ax=ax, wich='background', **kwargs)\n",
    "ax = plot_sensitivity_table(tables[1], ax=ax, wich='background')\n",
    "ax = plot_sensitivity_table(tables[1], ax=ax, wich='background')\n",
    "\n",
    "\n",
    "ax.set_xlim(plot_kwargs[\"energy_bounds\"])\n",
    "# ax.set_xlabel(sed_x_label)\n",
    "# ax.set_ylabel(sed_y_label)\n",
    "ax.legend(loc=\"lower left\")"
   ]
  },
  {
   "cell_type": "code",
   "execution_count": null,
   "metadata": {},
   "outputs": [],
   "source": []
  },
  {
   "cell_type": "code",
   "execution_count": null,
   "metadata": {},
   "outputs": [],
   "source": [
    "fig, ax = plt.subplots()\n",
    "kwargs = {}\n",
    "site_name = 'South'\n",
    "for index, (table, name) in enumerate(zip(tables_south, tables_south_names)):\n",
    "    marker = markers[name]\n",
    "    label = table.meta['irfs_label']\n",
    "    if label.find('20deg') != -1:\n",
    "        ls = lines[0]\n",
    "    elif label.find('40deg') != -1:\n",
    "        ls =  lines[1]\n",
    "    else: ls =  lines[2]       \n",
    "        \n",
    "    kwargs = {\n",
    "            'c':marker[0],\n",
    "        'marker':marker[1],\n",
    "        'markersize':marker[2],\n",
    "        'ls':ls,\n",
    "        'mec':'k',\n",
    "        'mew':0.5,\n",
    "        'elinewidth':0.7,\n",
    "        'capsize':1.5\n",
    "        }\n",
    "\n",
    "\n",
    "    kwargs['label'] = label\n",
    "#     kwargs['ls'] = lines[index]\n",
    "#     kwargs['mec'] = 'k'                \n",
    "    \n",
    "    ax = plot_sensitivity_table(table, wich='background', **kwargs)\n",
    "\n",
    "site_name = 'North'\n",
    "for index, (table, name) in enumerate(zip(tables_north, tables_north_names)):\n",
    "    marker = markers[name]\n",
    "    label = table.meta['irfs_label']\n",
    "    if label.find('20deg') != -1:\n",
    "        ls = lines[0]\n",
    "    elif label.find('40deg') != -1:\n",
    "        ls =  lines[1]\n",
    "    else: ls =  lines[2]       \n",
    "        \n",
    "    kwargs = {\n",
    "        'c':marker[0],\n",
    "        'marker':marker[1],\n",
    "        'markersize':marker[2],\n",
    "        'ls':ls,\n",
    "        'mec':'k',\n",
    "        'mew':0.5,\n",
    "        'elinewidth':0.7,\n",
    "        'capsize':1.5\n",
    "        }\n",
    "\n",
    "\n",
    "    kwargs['label'] = label\n",
    "#     kwargs['ls'] = lines[index]\n",
    "#     kwargs['mec'] = 'k'                \n",
    "    \n",
    "    ax = plot_sensitivity_table(table, wich='background', **kwargs)\n"
   ]
  },
  {
   "cell_type": "code",
   "execution_count": null,
   "metadata": {},
   "outputs": [],
   "source": [
    "table.meta"
   ]
  },
  {
   "cell_type": "code",
   "execution_count": null,
   "metadata": {},
   "outputs": [],
   "source": [
    "fig, ax = plt.subplots()\n",
    "kwargs = {}\n",
    "site_name = 'South'\n",
    "for index, (table, name) in enumerate(zip(tables_south, tables_south_names)):\n",
    "    marker = markers[site_name]\n",
    "    label = table.meta['irfs_label']\n",
    "    if label.find('20deg') != -1:\n",
    "        ls = lines[0]\n",
    "    elif label.find('40deg') != -1:\n",
    "        ls =  lines[1]\n",
    "    else: ls =  lines[2]       \n",
    "        \n",
    "    kwargs = {\n",
    "            'c':marker[0],\n",
    "        'marker':marker[1],\n",
    "        'markersize':marker[2],\n",
    "        'ls':ls,\n",
    "        'mec':'k',\n",
    "        'mew':0.5,\n",
    "        'elinewidth':0.7,\n",
    "        'capsize':1.5\n",
    "        }\n",
    "\n",
    "\n",
    "    kwargs['label'] = label\n",
    "#     kwargs['ls'] = lines[index]\n",
    "#     kwargs['mec'] = 'k'                \n",
    "    \n",
    "    ax = plot_sensitivity_table(table, wich='background', **kwargs)\n"
   ]
  },
  {
   "cell_type": "code",
   "execution_count": null,
   "metadata": {},
   "outputs": [],
   "source": []
  },
  {
   "cell_type": "code",
   "execution_count": null,
   "metadata": {},
   "outputs": [],
   "source": []
  },
  {
   "cell_type": "code",
   "execution_count": null,
   "metadata": {},
   "outputs": [],
   "source": [
    "def plot_sensitivity_ON_radius(table, witch = 'excess', ax=None, file_path=None, **kwargs):\n",
    "    on_radii = table['on_radii']\n",
    "    \n",
    "    # Plot expected number of counts for signal and background\n",
    "    fig, ax1 = plt.subplots()\n",
    "    kwargs.setdefault('ms', 3.5)\n",
    "    if witch == 'excess':\n",
    "        t_ = table[\"excess\"]\n",
    "        yax_title = \"Expected excess counts\"\n",
    "    else: \n",
    "        t_ = table[\"background\"]\n",
    "        yax_title = \"Expected bkg counts\"\n",
    "        \n",
    "    ax1.plot( table[\"e_ref\"],t_,\"o\", color=\"black\", label=\"signal\", **kwargs)\n",
    "\n",
    "    ax1.loglog()\n",
    "    ax1.set_xlabel(f\"Energy [{table['e_ref'].unit.to_string(UNIT_STRING_FORMAT)}]\")\n",
    "    ax1.set_ylabel(yax_title)\n",
    "\n",
    "    ax2 = ax1.twinx()\n",
    "    ax2.set_ylabel(\n",
    "        f\"ON region radius [{on_radii.unit.to_string(UNIT_STRING_FORMAT)}]\", color=\"red\"\n",
    "    )\n",
    "    ax2.semilogy(table[\"e_ref\"], on_radii,\"o\", color=\"red\", label=\"PSF68\", **kwargs)\n",
    "    ax2.tick_params(axis=\"y\", labelcolor=\"red\")\n",
    "    ax2.set_ylim(0.01, 0.5)\n",
    "\n",
    "    source = table.meta['source']\n",
    "    irfs_label = table.meta['irfs_label']\n",
    "    print(f'{source} - {irfs_label}')\n",
    "    ax1.text(.5, .9, f'{source} - {irfs_label}', fontsize=8, transform=ax1.transAxes)\n",
    "    # sed_type = \"e2dnde\"    \n",
    "    # source.flux_points.plot(ax=ax, sed_type=\"e2dnde\")\n",
    "\n",
    "    # sky_model.spectral_model.plot(ax=ax, energy_bounds=energy_bounds, sed_type=sed_type, label=\"Model\")\n",
    "    # ax.legend()\n",
    "    ax1.set_xlim(energy_bounds)\n",
    "\n",
    "    if file_path:\n",
    "        plt.savefig(file_path, bbox_inches='tight')\n",
    "#     plt.grid(which=\"both\")\n",
    "    plt.show()\n"
   ]
  },
  {
   "cell_type": "code",
   "execution_count": null,
   "metadata": {},
   "outputs": [],
   "source": [
    " energy_bounds = [4e-2, 3e2]\n",
    "plot_sensitivity_ON_radius(table, table['on_radii'])"
   ]
  },
  {
   "cell_type": "code",
   "execution_count": null,
   "metadata": {},
   "outputs": [],
   "source": [
    "\n",
    "\n",
    "config.general.outdir = outdir\n",
    "config.general.datasets_file = f'{datasets_path}/datasets.yaml'\n",
    "config.general.models_file = f'{datasets_path}/models.yaml'"
   ]
  },
  {
   "cell_type": "code",
   "execution_count": null,
   "metadata": {},
   "outputs": [],
   "source": [
    "analysis = Analysis(config)\n",
    "analysis.read_datasets()"
   ]
  },
  {
   "cell_type": "code",
   "execution_count": null,
   "metadata": {},
   "outputs": [],
   "source": []
  },
  {
   "cell_type": "code",
   "execution_count": null,
   "metadata": {},
   "outputs": [],
   "source": []
  },
  {
   "cell_type": "code",
   "execution_count": null,
   "metadata": {},
   "outputs": [],
   "source": []
  }
 ],
 "metadata": {
  "colab": {
   "provenance": []
  },
  "kernelspec": {
   "display_name": "Python 3 (ipykernel)",
   "language": "python",
   "name": "python3"
  },
  "language_info": {
   "codemirror_mode": {
    "name": "ipython",
    "version": 3
   },
   "file_extension": ".py",
   "mimetype": "text/x-python",
   "name": "python",
   "nbconvert_exporter": "python",
   "pygments_lexer": "ipython3",
   "version": "3.9.18"
  }
 },
 "nbformat": 4,
 "nbformat_minor": 1
}
