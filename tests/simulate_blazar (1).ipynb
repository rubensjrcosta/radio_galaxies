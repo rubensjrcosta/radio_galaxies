{
 "cells": [
  {
   "cell_type": "markdown",
   "metadata": {},
   "source": [
    "# Simulation using CTA IRFs\n",
    "\n",
    "- Intrinsic spectrum assumed to be extrapolation of the Fermi-LAT spectrum (showing example of `gammapy.catalog`)\n",
    "- Add EBL absorpsion\n",
    "- Simulated CTA DL4 data"
   ]
  },
  {
   "cell_type": "code",
   "execution_count": 30,
   "metadata": {},
   "outputs": [],
   "source": [
    "%matplotlib inline"
   ]
  },
  {
   "cell_type": "code",
   "execution_count": 31,
   "metadata": {},
   "outputs": [],
   "source": [
    "import numpy as np\n",
    "import astropy.units as u\n",
    "from astropy.coordinates import SkyCoord\n",
    "from gammapy.irf import load_cta_irfs\n",
    "from gammapy.maps import WcsGeom, MapAxis\n",
    "from gammapy.modeling.models import (\n",
    "    PowerLawSpectralModel,\n",
    "    PointSpatialModel,\n",
    "    SkyModel,\n",
    "    Models,\n",
    "    FoVBackgroundModel,\n",
    "    EBLAbsorptionNormSpectralModel\n",
    ")\n",
    "from gammapy.makers import MapDatasetMaker, SafeMaskMaker\n",
    "from gammapy.modeling import Fit\n",
    "from gammapy.data import Observation\n",
    "from gammapy.datasets import MapDataset\n",
    "\n",
    "from gammapy.catalog import SourceCatalog4FGL"
   ]
  },
  {
   "cell_type": "markdown",
   "metadata": {},
   "source": [
    "## Use gammapy.catalog to find the Fermi spectrum\n",
    "- see https://docs.gammapy.org/0.19/tutorials/api/catalog.html for details"
   ]
  },
  {
   "cell_type": "code",
   "execution_count": 32,
   "metadata": {},
   "outputs": [
    {
     "data": {
      "text/plain": [
       "'LAT 8-year point source catalog'"
      ]
     },
     "execution_count": 32,
     "metadata": {},
     "output_type": "execute_result"
    }
   ],
   "source": [
    "catalog = SourceCatalog4FGL()\n",
    "catalog.description"
   ]
  },
  {
   "cell_type": "code",
   "execution_count": 33,
   "metadata": {},
   "outputs": [],
   "source": [
    "## explore some other catalogs"
   ]
  },
  {
   "cell_type": "code",
   "execution_count": 34,
   "metadata": {},
   "outputs": [],
   "source": [
    "#catalog.table"
   ]
  },
  {
   "cell_type": "code",
   "execution_count": 35,
   "metadata": {},
   "outputs": [],
   "source": [
    "source = catalog[\"PKS 2155-304\"]"
   ]
  },
  {
   "cell_type": "code",
   "execution_count": 36,
   "metadata": {},
   "outputs": [
    {
     "name": "stdout",
     "output_type": "stream",
     "text": [
      "\n",
      "*** Basic info ***\n",
      "\n",
      "Catalog row index (zero-based) : 6206\n",
      "Source name          : 4FGL J2158.8-3013\n",
      "Extended name        :                   \n",
      "Associations     : PKS 2155-304, PKS 2155-304, 3FGL J2158.8-3013, 3FHL J2158.8-3013, 2AGL J2157-3015, 3EG J2158-3023, EGR J2200-3015\n",
      "ASSOC_PROB_BAY   : 1.000\n",
      "ASSOC_PROB_LR    : 1.000\n",
      "Class1           : bll  \n",
      "Class2           :           \n",
      "TeVCat flag      : P\n",
      "\n",
      "*** Other info ***\n",
      "\n",
      "Significance (100 MeV - 1 TeV)   : 238.600\n",
      "Npred                            : 17766.5\n",
      "\n",
      "Other flags          : 0\n",
      "\n",
      "*** Position info ***\n",
      "\n",
      "RA                   : 329.714 deg\n",
      "DEC                  : -30.225 deg\n",
      "GLON                 : 17.731 deg\n",
      "GLAT                 : -52.243 deg\n",
      "\n",
      "Semimajor (68%)      : 0.0049 deg\n",
      "Semiminor (68%)      : 0.0049 deg\n",
      "Position angle (68%) : -22.82 deg\n",
      "Semimajor (95%)      : 0.0079 deg\n",
      "Semiminor (95%)      : 0.0079 deg\n",
      "Position angle (95%) : -22.82 deg\n",
      "ROI number           : 932\n",
      "\n",
      "*** Spectral info ***\n",
      "\n",
      "Spectrum type                                 : LogParabola      \n",
      "Detection significance (100 MeV - 1 TeV)      : 238.600\n",
      "beta                                          : 0.0406 +- 0.00384\n",
      "Significance curvature                        : 7.8\n",
      "Pivot energy                                  : 1147 MeV\n",
      "Spectral index                                : 1.767 +- 0.009\n",
      "Flux Density at pivot energy                  : 1.34e-11 +- 1.46e-13 cm-2 MeV-1 s-1\n",
      "Integral flux (1 - 100 GeV)                   : 2e-08 +- 2.19e-10 cm-2 s-1\n",
      "Energy flux (100 MeV - 100 GeV)               : 2.12e-10 +- 3.01e-12 erg cm-2 s-1\n",
      "\n",
      "*** Spectral points ***\n",
      "\n",
      "  e_min       e_max        flux     flux_errn   flux_errp      e2dnde     e2dnde_errn   e2dnde_errp  is_ul   flux_ul     e2dnde_ul   sqrt_ts\n",
      "   MeV         MeV     1 / (s cm2) 1 / (s cm2) 1 / (s cm2) erg / (s cm2) erg / (s cm2) erg / (s cm2)       1 / (s cm2) erg / (s cm2)        \n",
      "---------- ----------- ----------- ----------- ----------- ------------- ------------- ------------- ----- ----------- ------------- -------\n",
      "    50.000     100.000   9.776e-08   3.201e-08   2.102e-08     1.595e-11     5.223e-12     3.430e-12 False         nan           nan   2.962\n",
      "   100.000     300.000   6.507e-08   2.761e-09   2.761e-09     1.625e-11     6.894e-13     6.894e-13 False         nan           nan  25.350\n",
      "   300.000    1000.000   3.269e-08   5.760e-10   5.760e-10     2.324e-11     4.095e-13     4.095e-13 False         nan           nan  93.123\n",
      "  1000.000    3000.000   1.237e-08   2.014e-10   2.014e-10     3.031e-11     4.936e-13     4.936e-13 False         nan           nan 134.435\n",
      "  3000.000   10000.000   5.297e-09   1.145e-10   1.145e-10     3.683e-11     7.957e-13     7.957e-13 False         nan           nan 129.334\n",
      " 10000.000   30000.000   1.740e-09   6.192e-11   6.192e-11     4.187e-11     1.490e-12     1.490e-12 False         nan           nan  91.407\n",
      " 30000.000  100000.000   5.774e-10   3.455e-11   3.455e-11     3.927e-11     2.350e-12     2.350e-12 False         nan           nan  59.852\n",
      "100000.000 1000000.000   1.352e-10   1.621e-11   1.759e-11     2.204e-11     2.642e-12     2.866e-12 False         nan           nan  29.674\n",
      "*** Lightcurve info ***\n",
      "\n",
      "Lightcurve measured in the energy band: 100 MeV - 100 GeV\n",
      "\n",
      "Variability index : 745.367\n",
      "Significance peak (100 MeV - 100 GeV)    : 99.613\n",
      "Integral flux peak (100 MeV - 100 GeV)   : 1.71e-07 +- 3.97e-09 cm^-2 s^-1\n",
      "Time peak                                : 2.55e+08 s (Mission elapsed time)\n",
      "Peak interval                            : 3.63e+02 day\n",
      "\n"
     ]
    }
   ],
   "source": [
    "print(source)"
   ]
  },
  {
   "cell_type": "code",
   "execution_count": 37,
   "metadata": {},
   "outputs": [
    {
     "data": {
      "text/plain": [
       "6206"
      ]
     },
     "execution_count": 37,
     "metadata": {},
     "output_type": "execute_result"
    }
   ],
   "source": [
    "source.row_index"
   ]
  },
  {
   "cell_type": "code",
   "execution_count": 38,
   "metadata": {},
   "outputs": [
    {
     "data": {
      "text/html": [
       "<i>Row index=6206</i>\n",
       "<table id=\"table139443070106352\">\n",
       "<thead><tr><th>Source_Name</th><th>DataRelease</th><th>RAJ2000</th><th>DEJ2000</th><th>GLON</th><th>GLAT</th><th>Conf_68_SemiMajor</th><th>Conf_68_SemiMinor</th><th>Conf_68_PosAng</th><th>Conf_95_SemiMajor</th><th>Conf_95_SemiMinor</th><th>Conf_95_PosAng</th><th>ROI_num</th><th>Extended_Source_Name</th><th>Signif_Avg</th><th>Pivot_Energy</th><th>Flux1000</th><th>Unc_Flux1000</th><th>Energy_Flux100</th><th>Unc_Energy_Flux100</th><th>SpectrumType</th><th>PL_Flux_Density</th><th>Unc_PL_Flux_Density</th><th>PL_Index</th><th>Unc_PL_Index</th><th>LP_Flux_Density</th><th>Unc_LP_Flux_Density</th><th>LP_Index</th><th>Unc_LP_Index</th><th>LP_beta</th><th>Unc_LP_beta</th><th>LP_SigCurv</th><th>LP_EPeak</th><th>Unc_LP_EPeak</th><th>PLEC_Flux_Density</th><th>Unc_PLEC_Flux_Density</th><th>PLEC_IndexS</th><th>Unc_PLEC_IndexS</th><th>PLEC_ExpfactorS</th><th>Unc_PLEC_ExpfactorS</th><th>PLEC_Exp_Index</th><th>Unc_PLEC_Exp_Index</th><th>PLEC_SigCurv</th><th>PLEC_EPeak</th><th>Unc_PLEC_EPeak</th><th>Npred</th><th>Flux_Band</th><th>Unc_Flux_Band</th><th>nuFnu_Band</th><th>Sqrt_TS_Band</th><th>Variability_Index</th><th>Frac_Variability</th><th>Unc_Frac_Variability</th><th>Signif_Peak</th><th>Flux_Peak</th><th>Unc_Flux_Peak</th><th>Time_Peak</th><th>Peak_Interval</th><th>Flux_History</th><th>Unc_Flux_History</th><th>Sqrt_TS_History</th><th>ASSOC_4FGL</th><th>ASSOC_FGL</th><th>ASSOC_FHL</th><th>ASSOC_GAM1</th><th>ASSOC_GAM2</th><th>ASSOC_GAM3</th><th>TEVCAT_FLAG</th><th>ASSOC_TEV</th><th>CLASS1</th><th>CLASS2</th><th>ASSOC1</th><th>ASSOC2</th><th>ASSOC_PROB_BAY</th><th>ASSOC_PROB_LR</th><th>RA_Counterpart</th><th>DEC_Counterpart</th><th>Unc_Counterpart</th><th>Flags</th></tr></thead>\n",
       "<thead><tr><th></th><th></th><th>deg</th><th>deg</th><th>deg</th><th>deg</th><th>deg</th><th>deg</th><th>deg</th><th>deg</th><th>deg</th><th>deg</th><th></th><th></th><th></th><th>MeV</th><th>1 / (s cm2)</th><th>1 / (s cm2)</th><th>erg / (s cm2)</th><th>erg / (s cm2)</th><th></th><th>1 / (MeV s cm2)</th><th>1 / (MeV s cm2)</th><th></th><th></th><th>1 / (MeV s cm2)</th><th>1 / (MeV s cm2)</th><th></th><th></th><th></th><th></th><th></th><th>MeV</th><th>MeV</th><th>1 / (MeV s cm2)</th><th>1 / (MeV s cm2)</th><th></th><th></th><th></th><th></th><th></th><th></th><th></th><th>MeV</th><th>MeV</th><th></th><th>1 / (s cm2)</th><th>1 / (s cm2)</th><th>erg / (s cm2)</th><th></th><th></th><th></th><th></th><th></th><th>1 / (s cm2)</th><th>1 / (s cm2)</th><th>s</th><th>s</th><th>1 / (s cm2)</th><th>1 / (s cm2)</th><th></th><th></th><th></th><th></th><th></th><th></th><th></th><th></th><th></th><th></th><th></th><th></th><th></th><th></th><th></th><th>deg</th><th>deg</th><th>deg</th><th></th></tr></thead>\n",
       "<thead><tr><th>bytes18</th><th>int16</th><th>float32</th><th>float32</th><th>float32</th><th>float32</th><th>float32</th><th>float32</th><th>float32</th><th>float32</th><th>float32</th><th>float32</th><th>int16</th><th>bytes18</th><th>float32</th><th>float32</th><th>float32</th><th>float32</th><th>float32</th><th>float32</th><th>bytes17</th><th>float32</th><th>float32</th><th>float32</th><th>float32</th><th>float32</th><th>float32</th><th>float32</th><th>float32</th><th>float32</th><th>float32</th><th>float32</th><th>float32</th><th>float32</th><th>float32</th><th>float32</th><th>float32</th><th>float32</th><th>float32</th><th>float32</th><th>float32</th><th>float32</th><th>float32</th><th>float32</th><th>float32</th><th>float32</th><th>float32[8]</th><th>float32[8,2]</th><th>float32[8]</th><th>float32[8]</th><th>float32</th><th>float32</th><th>float32</th><th>float32</th><th>float32</th><th>float32</th><th>float64</th><th>float32</th><th>float32[12]</th><th>float32[12,2]</th><th>float32[12]</th><th>bytes18</th><th>bytes18</th><th>bytes18</th><th>bytes18</th><th>bytes18</th><th>bytes18</th><th>bytes1</th><th>bytes30</th><th>bytes5</th><th>bytes10</th><th>bytes28</th><th>bytes28</th><th>float32</th><th>float32</th><th>float64</th><th>float64</th><th>float32</th><th>int16</th></tr></thead>\n",
       "<tr><td>4FGL J2158.8-3013</td><td>1</td><td>329.7141</td><td>-30.2251</td><td>17.7308</td><td>-52.2434</td><td>0.0049</td><td>0.0049</td><td>-22.820</td><td>0.0079</td><td>0.0079</td><td>-22.820</td><td>932</td><td></td><td>238.600</td><td>1146.89</td><td>2.0042e-08</td><td>2.1901e-10</td><td>2.1198e-10</td><td>3.0064e-12</td><td>LogParabola</td><td>1.2817e-11</td><td>1.2711e-13</td><td>1.8496</td><td>0.0067</td><td>1.3413e-11</td><td>1.4609e-13</td><td>1.7672</td><td>0.0088</td><td>0.0406</td><td>0.0038</td><td>7.781</td><td>20188.0</td><td>4064.4</td><td>1.3032e-11</td><td>1.3417e-13</td><td>1.7755</td><td>0.0095</td><td>0.02278</td><td>0.00228</td><td>0.6667</td><td>--</td><td>8.477</td><td>23880.7</td><td>2501.1</td><td>17766.49</td><td>9.7760186e-08 .. 1.3523291e-10</td><td>-3.2013567e-08 .. 1.75857e-11</td><td>1.5950439e-11 .. 2.203654e-11</td><td>2.961729 .. 29.674353</td><td>745.3666</td><td>0.2522</td><td>0.0546</td><td>99.613</td><td>1.7118121e-07</td><td>3.9726333e-09</td><td>255223712.0</td><td>31332582.0</td><td>1.7118121e-07 .. 8.565562e-08</td><td>-3.9726333e-09 .. 3.2098462e-09</td><td>99.61309 .. 59.28383</td><td>4FGL J2158.8-3013</td><td>3FGL J2158.8-3013</td><td>3FHL J2158.8-3013</td><td>2AGL J2157-3015</td><td>3EG J2158-3023</td><td>EGR J2200-3015</td><td>P</td><td>PKS 2155-304</td><td>bll</td><td></td><td>PKS 2155-304</td><td></td><td>1.0000</td><td>0.9997</td><td>329.7169</td><td>-30.2256</td><td>0.00000</td><td>0</td></tr>\n",
       "</table>"
      ],
      "text/plain": [
       "<Row index=6206>\n",
       "   Source_Name     DataRelease RAJ2000  DEJ2000    GLON     GLAT   Conf_68_SemiMajor Conf_68_SemiMinor Conf_68_PosAng Conf_95_SemiMajor Conf_95_SemiMinor Conf_95_PosAng ROI_num Extended_Source_Name Signif_Avg Pivot_Energy   Flux1000  Unc_Flux1000 Energy_Flux100 Unc_Energy_Flux100    SpectrumType   PL_Flux_Density Unc_PL_Flux_Density PL_Index Unc_PL_Index LP_Flux_Density Unc_LP_Flux_Density LP_Index Unc_LP_Index LP_beta  Unc_LP_beta LP_SigCurv  LP_EPeak  Unc_LP_EPeak PLEC_Flux_Density Unc_PLEC_Flux_Density PLEC_IndexS Unc_PLEC_IndexS PLEC_ExpfactorS Unc_PLEC_ExpfactorS PLEC_Exp_Index Unc_PLEC_Exp_Index PLEC_SigCurv PLEC_EPeak Unc_PLEC_EPeak   Npred              Flux_Band                    Unc_Flux_Band                   nuFnu_Band               Sqrt_TS_Band     Variability_Index Frac_Variability Unc_Frac_Variability Signif_Peak   Flux_Peak   Unc_Flux_Peak  Time_Peak  Peak_Interval          Flux_History                 Unc_Flux_History          Sqrt_TS_History        ASSOC_4FGL         ASSOC_FGL          ASSOC_FHL          ASSOC_GAM1         ASSOC_GAM2         ASSOC_GAM3     TEVCAT_FLAG           ASSOC_TEV            CLASS1   CLASS2              ASSOC1                       ASSOC2            ASSOC_PROB_BAY ASSOC_PROB_LR RA_Counterpart DEC_Counterpart Unc_Counterpart Flags\n",
       "                                 deg      deg      deg      deg           deg               deg             deg              deg               deg             deg                                                   MeV      1 / (s cm2) 1 / (s cm2)  erg / (s cm2)    erg / (s cm2)                      1 / (MeV s cm2)   1 / (MeV s cm2)                         1 / (MeV s cm2)   1 / (MeV s cm2)                                                            MeV         MeV       1 / (MeV s cm2)     1 / (MeV s cm2)                                                                                                                      MeV          MeV                           1 / (s cm2)                    1 / (s cm2)                  erg / (s cm2)                                                                                                    1 / (s cm2)   1 / (s cm2)       s            s                1 / (s cm2)                    1 / (s cm2)                                                                                                                                                                                                                                                                                                           deg             deg             deg            \n",
       "     bytes18          int16    float32  float32  float32  float32       float32           float32         float32          float32           float32         float32      int16        bytes18         float32     float32      float32     float32       float32          float32            bytes17          float32           float32       float32    float32        float32           float32       float32    float32    float32    float32    float32    float32     float32         float32             float32          float32       float32         float32           float32          float32          float32         float32     float32      float32      float32             float32[8]                    float32[8,2]                   float32[8]                float32[8]           float32          float32            float32          float32      float32       float32      float64      float32             float32[12]                   float32[12,2]              float32[12]           bytes18            bytes18            bytes18            bytes18            bytes18            bytes18          bytes1              bytes30             bytes5  bytes10             bytes28                      bytes28               float32        float32       float64         float64         float32     int16\n",
       "------------------ ----------- -------- -------- -------- -------- ----------------- ----------------- -------------- ----------------- ----------------- -------------- ------- -------------------- ---------- ------------ ----------- ------------ -------------- ------------------ ----------------- --------------- ------------------- -------- ------------ --------------- ------------------- -------- ------------ -------- ----------- ---------- ---------- ------------ ----------------- --------------------- ----------- --------------- --------------- ------------------- -------------- ------------------ ------------ ---------- -------------- ---------- ------------------------------ ----------------------------- ----------------------------- --------------------- ----------------- ---------------- -------------------- ----------- ------------- ------------- ----------- ------------- ----------------------------- ------------------------------- -------------------- ------------------ ------------------ ------------------ ------------------ ------------------ ------------------ ----------- ------------------------------ ------ ---------- ---------------------------- ---------------------------- -------------- ------------- -------------- --------------- --------------- -----\n",
       "4FGL J2158.8-3013            1 329.7141 -30.2251  17.7308 -52.2434            0.0049            0.0049        -22.820            0.0079            0.0079        -22.820     932                         238.600      1146.89  2.0042e-08   2.1901e-10     2.1198e-10         3.0064e-12 LogParabola            1.2817e-11          1.2711e-13   1.8496       0.0067      1.3413e-11          1.4609e-13   1.7672       0.0088   0.0406      0.0038      7.781    20188.0       4064.4        1.3032e-11            1.3417e-13      1.7755          0.0095         0.02278             0.00228         0.6667                 --        8.477    23880.7         2501.1   17766.49 9.7760186e-08 .. 1.3523291e-10 -3.2013567e-08 .. 1.75857e-11 1.5950439e-11 .. 2.203654e-11 2.961729 .. 29.674353          745.3666           0.2522               0.0546      99.613 1.7118121e-07 3.9726333e-09 255223712.0    31332582.0 1.7118121e-07 .. 8.565562e-08 -3.9726333e-09 .. 3.2098462e-09 99.61309 .. 59.28383 4FGL J2158.8-3013  3FGL J2158.8-3013  3FHL J2158.8-3013  2AGL J2157-3015    3EG J2158-3023     EGR J2200-3015               P PKS 2155-304                    bll              PKS 2155-304                                                      1.0000        0.9997       329.7169        -30.2256         0.00000     0"
      ]
     },
     "execution_count": 38,
     "metadata": {},
     "output_type": "execute_result"
    }
   ],
   "source": [
    "catalog.table[6206]"
   ]
  },
  {
   "cell_type": "code",
   "execution_count": 39,
   "metadata": {},
   "outputs": [
    {
     "data": {
      "text/plain": [
       "<SkyCoord (ICRS): (ra, dec) in deg\n",
       "    (329.71411133, -30.22509956)>"
      ]
     },
     "execution_count": 39,
     "metadata": {},
     "output_type": "execute_result"
    }
   ],
   "source": [
    "source.position"
   ]
  },
  {
   "cell_type": "code",
   "execution_count": 40,
   "metadata": {},
   "outputs": [],
   "source": [
    "sky_model = source.sky_model()"
   ]
  },
  {
   "cell_type": "code",
   "execution_count": 41,
   "metadata": {},
   "outputs": [
    {
     "name": "stdout",
     "output_type": "stream",
     "text": [
      "SkyModel\n",
      "\n",
      "  Name                      : 4FGL J2158.8-3013\n",
      "  Datasets names            : None\n",
      "  Spectral model type       : LogParabolaSpectralModel\n",
      "  Spatial  model type       : PointSpatialModel\n",
      "  Temporal model type       : \n",
      "  Parameters:\n",
      "    amplitude                     :   1.34e-11   +/- 1.5e-13 1 / (MeV s cm2)\n",
      "    reference             (frozen):   1146.894       MeV         \n",
      "    alpha                         :      1.767   +/-    0.01             \n",
      "    beta                          :      0.041   +/-    0.00             \n",
      "    lon_0                         :    329.714   +/-    0.00 deg         \n",
      "    lat_0                         :    -30.225   +/-    0.00 deg         \n",
      "\n",
      "\n"
     ]
    }
   ],
   "source": [
    "print(sky_model)"
   ]
  },
  {
   "cell_type": "code",
   "execution_count": 42,
   "metadata": {},
   "outputs": [
    {
     "data": {
      "text/plain": [
       "<Axes: xlabel='Energy [$\\\\mathrm{MeV}$]', ylabel='e2dnde [$\\\\mathrm{erg\\\\,s^{-1}\\\\,cm^{-2}}$]'>"
      ]
     },
     "execution_count": 42,
     "metadata": {},
     "output_type": "execute_result"
    },
    {
     "data": {
      "image/png": "[encoded data removed]",
      "text/plain": [
       "<Figure size 640x480 with 1 Axes>"
      ]
     },
     "metadata": {},
     "output_type": "display_data"
    }
   ],
   "source": [
    "source.flux_points.plot(sed_type=\"e2dnde\")"
   ]
  },
  {
   "cell_type": "markdown",
   "metadata": {},
   "source": [
    "## Now, simulate for CTA using the above model"
   ]
  },
  {
   "cell_type": "markdown",
   "metadata": {},
   "source": [
    "### Create a fake observation defining observation conditions"
   ]
  },
  {
   "cell_type": "code",
   "execution_count": 59,
   "metadata": {},
   "outputs": [
    {
     "name": "stderr",
     "output_type": "stream",
     "text": [
      "/tmp/ipykernel_136641/2226499357.py:2: GammapyDeprecationWarning: The load_cta_irfs function is deprecated and may be removed in a future version.\n",
      "        Use load_irf_dict_from_file instead.\n",
      "  irfs = load_cta_irfs(\n"
     ]
    },
    {
     "ename": "FileNotFoundError",
     "evalue": "[Errno 2] No such file or directory: '/home/born-again/Documents/GitHub/gammapy/gammapy-datasets/1.1/cta-1dc/caldb/data/cta/1dc/bcf/North_z20_50h/irf_file.fits'",
     "output_type": "error",
     "traceback": [
      "\u001b[0;31m---------------------------------------------------------------------------\u001b[0m",
      "\u001b[0;31mFileNotFoundError\u001b[0m                         Traceback (most recent call last)",
      "Cell \u001b[0;32mIn[59], line 2\u001b[0m\n\u001b[1;32m      1\u001b[0m \u001b[38;5;66;03m# Loading IRFs\u001b[39;00m\n\u001b[0;32m----> 2\u001b[0m irfs \u001b[38;5;241m=\u001b[39m \u001b[43mload_cta_irfs\u001b[49m\u001b[43m(\u001b[49m\n\u001b[1;32m      3\u001b[0m \u001b[43m    \u001b[49m\u001b[38;5;124;43m\"\u001b[39;49m\u001b[38;5;124;43m$GAMMAPY_DATA/cta-1dc/caldb/data/cta/1dc/bcf/North_z20_50h/irf_file.fits\u001b[39;49m\u001b[38;5;124;43m\"\u001b[39;49m\n\u001b[1;32m      4\u001b[0m \u001b[43m)\u001b[49m\n",
      "File \u001b[0;32m~/anaconda3/envs/gammapy-1.1/lib/python3.9/site-packages/astropy/utils/decorators.py:134\u001b[0m, in \u001b[0;36mdeprecated.<locals>.deprecate_function.<locals>.deprecated_func\u001b[0;34m(*args, **kwargs)\u001b[0m\n\u001b[1;32m    130\u001b[0m     category \u001b[38;5;241m=\u001b[39m warning_type\n\u001b[1;32m    132\u001b[0m warnings\u001b[38;5;241m.\u001b[39mwarn(message, category, stacklevel\u001b[38;5;241m=\u001b[39m\u001b[38;5;241m2\u001b[39m)\n\u001b[0;32m--> 134\u001b[0m \u001b[38;5;28;01mreturn\u001b[39;00m \u001b[43mfunc\u001b[49m\u001b[43m(\u001b[49m\u001b[38;5;241;43m*\u001b[39;49m\u001b[43margs\u001b[49m\u001b[43m,\u001b[49m\u001b[43m \u001b[49m\u001b[38;5;241;43m*\u001b[39;49m\u001b[38;5;241;43m*\u001b[39;49m\u001b[43mkwargs\u001b[49m\u001b[43m)\u001b[49m\n",
      "File \u001b[0;32m~/anaconda3/envs/gammapy-1.1/lib/python3.9/site-packages/gammapy/irf/io.py:198\u001b[0m, in \u001b[0;36mload_cta_irfs\u001b[0;34m(filename)\u001b[0m\n\u001b[1;32m    195\u001b[0m \u001b[38;5;28;01mfrom\u001b[39;00m \u001b[38;5;21;01m.\u001b[39;00m\u001b[38;5;21;01meffective_area\u001b[39;00m \u001b[38;5;28;01mimport\u001b[39;00m EffectiveAreaTable2D\n\u001b[1;32m    196\u001b[0m \u001b[38;5;28;01mfrom\u001b[39;00m \u001b[38;5;21;01m.\u001b[39;00m\u001b[38;5;21;01mpsf\u001b[39;00m \u001b[38;5;28;01mimport\u001b[39;00m EnergyDependentMultiGaussPSF\n\u001b[0;32m--> 198\u001b[0m aeff \u001b[38;5;241m=\u001b[39m \u001b[43mEffectiveAreaTable2D\u001b[49m\u001b[38;5;241;43m.\u001b[39;49m\u001b[43mread\u001b[49m\u001b[43m(\u001b[49m\u001b[43mfilename\u001b[49m\u001b[43m,\u001b[49m\u001b[43m \u001b[49m\u001b[43mhdu\u001b[49m\u001b[38;5;241;43m=\u001b[39;49m\u001b[38;5;124;43m\"\u001b[39;49m\u001b[38;5;124;43mEFFECTIVE AREA\u001b[39;49m\u001b[38;5;124;43m\"\u001b[39;49m\u001b[43m)\u001b[49m\n\u001b[1;32m    199\u001b[0m bkg \u001b[38;5;241m=\u001b[39m Background3D\u001b[38;5;241m.\u001b[39mread(filename, hdu\u001b[38;5;241m=\u001b[39m\u001b[38;5;124m\"\u001b[39m\u001b[38;5;124mBACKGROUND\u001b[39m\u001b[38;5;124m\"\u001b[39m)\n\u001b[1;32m    200\u001b[0m edisp \u001b[38;5;241m=\u001b[39m EnergyDispersion2D\u001b[38;5;241m.\u001b[39mread(filename, hdu\u001b[38;5;241m=\u001b[39m\u001b[38;5;124m\"\u001b[39m\u001b[38;5;124mENERGY DISPERSION\u001b[39m\u001b[38;5;124m\"\u001b[39m)\n",
      "File \u001b[0;32m~/anaconda3/envs/gammapy-1.1/lib/python3.9/site-packages/gammapy/irf/core.py:433\u001b[0m, in \u001b[0;36mIRF.read\u001b[0;34m(cls, filename, hdu, format)\u001b[0m\n\u001b[1;32m    415\u001b[0m \u001b[38;5;129m@classmethod\u001b[39m\n\u001b[1;32m    416\u001b[0m \u001b[38;5;28;01mdef\u001b[39;00m \u001b[38;5;21mread\u001b[39m(\u001b[38;5;28mcls\u001b[39m, filename, hdu\u001b[38;5;241m=\u001b[39m\u001b[38;5;28;01mNone\u001b[39;00m, \u001b[38;5;28mformat\u001b[39m\u001b[38;5;241m=\u001b[39m\u001b[38;5;124m\"\u001b[39m\u001b[38;5;124mgadf-dl3\u001b[39m\u001b[38;5;124m\"\u001b[39m):\n\u001b[1;32m    417\u001b[0m \u001b[38;5;250m    \u001b[39m\u001b[38;5;124;03m\"\"\"Read from file.\u001b[39;00m\n\u001b[1;32m    418\u001b[0m \n\u001b[1;32m    419\u001b[0m \u001b[38;5;124;03m    Parameters\u001b[39;00m\n\u001b[0;32m   (...)\u001b[0m\n\u001b[1;32m    431\u001b[0m \u001b[38;5;124;03m        IRF class\u001b[39;00m\n\u001b[1;32m    432\u001b[0m \u001b[38;5;124;03m    \"\"\"\u001b[39;00m\n\u001b[0;32m--> 433\u001b[0m     \u001b[38;5;28;01mwith\u001b[39;00m \u001b[43mfits\u001b[49m\u001b[38;5;241;43m.\u001b[39;49m\u001b[43mopen\u001b[49m\u001b[43m(\u001b[49m\u001b[38;5;28;43mstr\u001b[39;49m\u001b[43m(\u001b[49m\u001b[43mmake_path\u001b[49m\u001b[43m(\u001b[49m\u001b[43mfilename\u001b[49m\u001b[43m)\u001b[49m\u001b[43m)\u001b[49m\u001b[43m,\u001b[49m\u001b[43m \u001b[49m\u001b[43mmemmap\u001b[49m\u001b[38;5;241;43m=\u001b[39;49m\u001b[38;5;28;43;01mFalse\u001b[39;49;00m\u001b[43m)\u001b[49m \u001b[38;5;28;01mas\u001b[39;00m hdulist:\n\u001b[1;32m    434\u001b[0m         \u001b[38;5;28;01mreturn\u001b[39;00m \u001b[38;5;28mcls\u001b[39m\u001b[38;5;241m.\u001b[39mfrom_hdulist(hdulist, hdu\u001b[38;5;241m=\u001b[39mhdu)\n",
      "File \u001b[0;32m~/anaconda3/envs/gammapy-1.1/lib/python3.9/site-packages/astropy/io/fits/hdu/hdulist.py:213\u001b[0m, in \u001b[0;36mfitsopen\u001b[0;34m(name, mode, memmap, save_backup, cache, lazy_load_hdus, ignore_missing_simple, use_fsspec, fsspec_kwargs, **kwargs)\u001b[0m\n\u001b[1;32m    210\u001b[0m \u001b[38;5;28;01mif\u001b[39;00m \u001b[38;5;129;01mnot\u001b[39;00m name:\n\u001b[1;32m    211\u001b[0m     \u001b[38;5;28;01mraise\u001b[39;00m \u001b[38;5;167;01mValueError\u001b[39;00m(\u001b[38;5;124mf\u001b[39m\u001b[38;5;124m\"\u001b[39m\u001b[38;5;124mEmpty filename: \u001b[39m\u001b[38;5;132;01m{\u001b[39;00mname\u001b[38;5;132;01m!r}\u001b[39;00m\u001b[38;5;124m\"\u001b[39m)\n\u001b[0;32m--> 213\u001b[0m \u001b[38;5;28;01mreturn\u001b[39;00m \u001b[43mHDUList\u001b[49m\u001b[38;5;241;43m.\u001b[39;49m\u001b[43mfromfile\u001b[49m\u001b[43m(\u001b[49m\n\u001b[1;32m    214\u001b[0m \u001b[43m    \u001b[49m\u001b[43mname\u001b[49m\u001b[43m,\u001b[49m\n\u001b[1;32m    215\u001b[0m \u001b[43m    \u001b[49m\u001b[43mmode\u001b[49m\u001b[43m,\u001b[49m\n\u001b[1;32m    216\u001b[0m \u001b[43m    \u001b[49m\u001b[43mmemmap\u001b[49m\u001b[43m,\u001b[49m\n\u001b[1;32m    217\u001b[0m \u001b[43m    \u001b[49m\u001b[43msave_backup\u001b[49m\u001b[43m,\u001b[49m\n\u001b[1;32m    218\u001b[0m \u001b[43m    \u001b[49m\u001b[43mcache\u001b[49m\u001b[43m,\u001b[49m\n\u001b[1;32m    219\u001b[0m \u001b[43m    \u001b[49m\u001b[43mlazy_load_hdus\u001b[49m\u001b[43m,\u001b[49m\n\u001b[1;32m    220\u001b[0m \u001b[43m    \u001b[49m\u001b[43mignore_missing_simple\u001b[49m\u001b[43m,\u001b[49m\n\u001b[1;32m    221\u001b[0m \u001b[43m    \u001b[49m\u001b[43muse_fsspec\u001b[49m\u001b[38;5;241;43m=\u001b[39;49m\u001b[43muse_fsspec\u001b[49m\u001b[43m,\u001b[49m\n\u001b[1;32m    222\u001b[0m \u001b[43m    \u001b[49m\u001b[43mfsspec_kwargs\u001b[49m\u001b[38;5;241;43m=\u001b[39;49m\u001b[43mfsspec_kwargs\u001b[49m\u001b[43m,\u001b[49m\n\u001b[1;32m    223\u001b[0m \u001b[43m    \u001b[49m\u001b[38;5;241;43m*\u001b[39;49m\u001b[38;5;241;43m*\u001b[39;49m\u001b[43mkwargs\u001b[49m\u001b[43m,\u001b[49m\n\u001b[1;32m    224\u001b[0m \u001b[43m\u001b[49m\u001b[43m)\u001b[49m\n",
      "File \u001b[0;32m~/anaconda3/envs/gammapy-1.1/lib/python3.9/site-packages/astropy/io/fits/hdu/hdulist.py:476\u001b[0m, in \u001b[0;36mHDUList.fromfile\u001b[0;34m(cls, fileobj, mode, memmap, save_backup, cache, lazy_load_hdus, ignore_missing_simple, **kwargs)\u001b[0m\n\u001b[1;32m    457\u001b[0m \u001b[38;5;129m@classmethod\u001b[39m\n\u001b[1;32m    458\u001b[0m \u001b[38;5;28;01mdef\u001b[39;00m \u001b[38;5;21mfromfile\u001b[39m(\n\u001b[1;32m    459\u001b[0m     \u001b[38;5;28mcls\u001b[39m,\n\u001b[0;32m   (...)\u001b[0m\n\u001b[1;32m    467\u001b[0m     \u001b[38;5;241m*\u001b[39m\u001b[38;5;241m*\u001b[39mkwargs,\n\u001b[1;32m    468\u001b[0m ):\n\u001b[1;32m    469\u001b[0m \u001b[38;5;250m    \u001b[39m\u001b[38;5;124;03m\"\"\"\u001b[39;00m\n\u001b[1;32m    470\u001b[0m \u001b[38;5;124;03m    Creates an `HDUList` instance from a file-like object.\u001b[39;00m\n\u001b[1;32m    471\u001b[0m \n\u001b[0;32m   (...)\u001b[0m\n\u001b[1;32m    474\u001b[0m \u001b[38;5;124;03m    documentation for details of the parameters accepted by this method).\u001b[39;00m\n\u001b[1;32m    475\u001b[0m \u001b[38;5;124;03m    \"\"\"\u001b[39;00m\n\u001b[0;32m--> 476\u001b[0m     \u001b[38;5;28;01mreturn\u001b[39;00m \u001b[38;5;28;43mcls\u001b[39;49m\u001b[38;5;241;43m.\u001b[39;49m\u001b[43m_readfrom\u001b[49m\u001b[43m(\u001b[49m\n\u001b[1;32m    477\u001b[0m \u001b[43m        \u001b[49m\u001b[43mfileobj\u001b[49m\u001b[38;5;241;43m=\u001b[39;49m\u001b[43mfileobj\u001b[49m\u001b[43m,\u001b[49m\n\u001b[1;32m    478\u001b[0m \u001b[43m        \u001b[49m\u001b[43mmode\u001b[49m\u001b[38;5;241;43m=\u001b[39;49m\u001b[43mmode\u001b[49m\u001b[43m,\u001b[49m\n\u001b[1;32m    479\u001b[0m \u001b[43m        \u001b[49m\u001b[43mmemmap\u001b[49m\u001b[38;5;241;43m=\u001b[39;49m\u001b[43mmemmap\u001b[49m\u001b[43m,\u001b[49m\n\u001b[1;32m    480\u001b[0m \u001b[43m        \u001b[49m\u001b[43msave_backup\u001b[49m\u001b[38;5;241;43m=\u001b[39;49m\u001b[43msave_backup\u001b[49m\u001b[43m,\u001b[49m\n\u001b[1;32m    481\u001b[0m \u001b[43m        \u001b[49m\u001b[43mcache\u001b[49m\u001b[38;5;241;43m=\u001b[39;49m\u001b[43mcache\u001b[49m\u001b[43m,\u001b[49m\n\u001b[1;32m    482\u001b[0m \u001b[43m        \u001b[49m\u001b[43mignore_missing_simple\u001b[49m\u001b[38;5;241;43m=\u001b[39;49m\u001b[43mignore_missing_simple\u001b[49m\u001b[43m,\u001b[49m\n\u001b[1;32m    483\u001b[0m \u001b[43m        \u001b[49m\u001b[43mlazy_load_hdus\u001b[49m\u001b[38;5;241;43m=\u001b[39;49m\u001b[43mlazy_load_hdus\u001b[49m\u001b[43m,\u001b[49m\n\u001b[1;32m    484\u001b[0m \u001b[43m        \u001b[49m\u001b[38;5;241;43m*\u001b[39;49m\u001b[38;5;241;43m*\u001b[39;49m\u001b[43mkwargs\u001b[49m\u001b[43m,\u001b[49m\n\u001b[1;32m    485\u001b[0m \u001b[43m    \u001b[49m\u001b[43m)\u001b[49m\n",
      "File \u001b[0;32m~/anaconda3/envs/gammapy-1.1/lib/python3.9/site-packages/astropy/io/fits/hdu/hdulist.py:1146\u001b[0m, in \u001b[0;36mHDUList._readfrom\u001b[0;34m(cls, fileobj, data, mode, memmap, cache, lazy_load_hdus, ignore_missing_simple, use_fsspec, fsspec_kwargs, **kwargs)\u001b[0m\n\u001b[1;32m   1143\u001b[0m \u001b[38;5;28;01mif\u001b[39;00m fileobj \u001b[38;5;129;01mis\u001b[39;00m \u001b[38;5;129;01mnot\u001b[39;00m \u001b[38;5;28;01mNone\u001b[39;00m:\n\u001b[1;32m   1144\u001b[0m     \u001b[38;5;28;01mif\u001b[39;00m \u001b[38;5;129;01mnot\u001b[39;00m \u001b[38;5;28misinstance\u001b[39m(fileobj, _File):\n\u001b[1;32m   1145\u001b[0m         \u001b[38;5;66;03m# instantiate a FITS file object (ffo)\u001b[39;00m\n\u001b[0;32m-> 1146\u001b[0m         fileobj \u001b[38;5;241m=\u001b[39m \u001b[43m_File\u001b[49m\u001b[43m(\u001b[49m\n\u001b[1;32m   1147\u001b[0m \u001b[43m            \u001b[49m\u001b[43mfileobj\u001b[49m\u001b[43m,\u001b[49m\n\u001b[1;32m   1148\u001b[0m \u001b[43m            \u001b[49m\u001b[43mmode\u001b[49m\u001b[38;5;241;43m=\u001b[39;49m\u001b[43mmode\u001b[49m\u001b[43m,\u001b[49m\n\u001b[1;32m   1149\u001b[0m \u001b[43m            \u001b[49m\u001b[43mmemmap\u001b[49m\u001b[38;5;241;43m=\u001b[39;49m\u001b[43mmemmap\u001b[49m\u001b[43m,\u001b[49m\n\u001b[1;32m   1150\u001b[0m \u001b[43m            \u001b[49m\u001b[43mcache\u001b[49m\u001b[38;5;241;43m=\u001b[39;49m\u001b[43mcache\u001b[49m\u001b[43m,\u001b[49m\n\u001b[1;32m   1151\u001b[0m \u001b[43m            \u001b[49m\u001b[43muse_fsspec\u001b[49m\u001b[38;5;241;43m=\u001b[39;49m\u001b[43muse_fsspec\u001b[49m\u001b[43m,\u001b[49m\n\u001b[1;32m   1152\u001b[0m \u001b[43m            \u001b[49m\u001b[43mfsspec_kwargs\u001b[49m\u001b[38;5;241;43m=\u001b[39;49m\u001b[43mfsspec_kwargs\u001b[49m\u001b[43m,\u001b[49m\n\u001b[1;32m   1153\u001b[0m \u001b[43m        \u001b[49m\u001b[43m)\u001b[49m\n\u001b[1;32m   1154\u001b[0m     \u001b[38;5;66;03m# The Astropy mode is determined by the _File initializer if the\u001b[39;00m\n\u001b[1;32m   1155\u001b[0m     \u001b[38;5;66;03m# supplied mode was None\u001b[39;00m\n\u001b[1;32m   1156\u001b[0m     mode \u001b[38;5;241m=\u001b[39m fileobj\u001b[38;5;241m.\u001b[39mmode\n",
      "File \u001b[0;32m~/anaconda3/envs/gammapy-1.1/lib/python3.9/site-packages/astropy/io/fits/file.py:217\u001b[0m, in \u001b[0;36m_File.__init__\u001b[0;34m(self, fileobj, mode, memmap, overwrite, cache, use_fsspec, fsspec_kwargs)\u001b[0m\n\u001b[1;32m    215\u001b[0m     \u001b[38;5;28mself\u001b[39m\u001b[38;5;241m.\u001b[39m_open_fileobj(fileobj, mode, overwrite)\n\u001b[1;32m    216\u001b[0m \u001b[38;5;28;01melif\u001b[39;00m \u001b[38;5;28misinstance\u001b[39m(fileobj, (\u001b[38;5;28mstr\u001b[39m, \u001b[38;5;28mbytes\u001b[39m)):\n\u001b[0;32m--> 217\u001b[0m     \u001b[38;5;28;43mself\u001b[39;49m\u001b[38;5;241;43m.\u001b[39;49m\u001b[43m_open_filename\u001b[49m\u001b[43m(\u001b[49m\u001b[43mfileobj\u001b[49m\u001b[43m,\u001b[49m\u001b[43m \u001b[49m\u001b[43mmode\u001b[49m\u001b[43m,\u001b[49m\u001b[43m \u001b[49m\u001b[43moverwrite\u001b[49m\u001b[43m)\u001b[49m\n\u001b[1;32m    218\u001b[0m \u001b[38;5;28;01melse\u001b[39;00m:\n\u001b[1;32m    219\u001b[0m     \u001b[38;5;28mself\u001b[39m\u001b[38;5;241m.\u001b[39m_open_filelike(fileobj, mode, overwrite)\n",
      "File \u001b[0;32m~/anaconda3/envs/gammapy-1.1/lib/python3.9/site-packages/astropy/io/fits/file.py:626\u001b[0m, in \u001b[0;36m_File._open_filename\u001b[0;34m(self, filename, mode, overwrite)\u001b[0m\n\u001b[1;32m    623\u001b[0m ext \u001b[38;5;241m=\u001b[39m os\u001b[38;5;241m.\u001b[39mpath\u001b[38;5;241m.\u001b[39msplitext(\u001b[38;5;28mself\u001b[39m\u001b[38;5;241m.\u001b[39mname)[\u001b[38;5;241m1\u001b[39m]\n\u001b[1;32m    625\u001b[0m \u001b[38;5;28;01mif\u001b[39;00m \u001b[38;5;129;01mnot\u001b[39;00m \u001b[38;5;28mself\u001b[39m\u001b[38;5;241m.\u001b[39m_try_read_compressed(\u001b[38;5;28mself\u001b[39m\u001b[38;5;241m.\u001b[39mname, magic, mode, ext\u001b[38;5;241m=\u001b[39mext):\n\u001b[0;32m--> 626\u001b[0m     \u001b[38;5;28mself\u001b[39m\u001b[38;5;241m.\u001b[39m_file \u001b[38;5;241m=\u001b[39m \u001b[38;5;28;43mopen\u001b[39;49m\u001b[43m(\u001b[49m\u001b[38;5;28;43mself\u001b[39;49m\u001b[38;5;241;43m.\u001b[39;49m\u001b[43mname\u001b[49m\u001b[43m,\u001b[49m\u001b[43m \u001b[49m\u001b[43mIO_FITS_MODES\u001b[49m\u001b[43m[\u001b[49m\u001b[43mmode\u001b[49m\u001b[43m]\u001b[49m\u001b[43m)\u001b[49m\n\u001b[1;32m    627\u001b[0m     \u001b[38;5;28mself\u001b[39m\u001b[38;5;241m.\u001b[39mclose_on_error \u001b[38;5;241m=\u001b[39m \u001b[38;5;28;01mTrue\u001b[39;00m\n\u001b[1;32m    629\u001b[0m \u001b[38;5;66;03m# Make certain we're back at the beginning of the file\u001b[39;00m\n\u001b[1;32m    630\u001b[0m \u001b[38;5;66;03m# BZ2File does not support seek when the file is open for writing, but\u001b[39;00m\n\u001b[1;32m    631\u001b[0m \u001b[38;5;66;03m# when opening a file for write, bz2.BZ2File always truncates anyway.\u001b[39;00m\n",
      "\u001b[0;31mFileNotFoundError\u001b[0m: [Errno 2] No such file or directory: '/home/born-again/Documents/GitHub/gammapy/gammapy-datasets/1.1/cta-1dc/caldb/data/cta/1dc/bcf/North_z20_50h/irf_file.fits'"
     ]
    }
   ],
   "source": [
    "# Loading IRFs\n",
    "irfs = load_cta_irfs(\n",
    "    \"$GAMMAPY_DATA/cta-1dc/caldb/data/cta/1dc/bcf/North_z20_50h/irf_file.fits\"\n",
    ")"
   ]
  },
  {
   "cell_type": "code",
   "execution_count": 44,
   "metadata": {},
   "outputs": [],
   "source": [
    "# Define the observation parameters (typically the observation duration and the pointing position):\n",
    "livetime = 2.0 * u.hr\n",
    "pointing = source.position"
   ]
  },
  {
   "cell_type": "code",
   "execution_count": 45,
   "metadata": {},
   "outputs": [],
   "source": [
    "# Define map geometry for binned simulation\n",
    "energy_reco = MapAxis.from_edges(\n",
    "    np.logspace(-1.0, 1.0, 10), unit=\"TeV\", name=\"energy\", interp=\"log\"\n",
    ")\n",
    "geom = WcsGeom.create(\n",
    "    skydir=source.position,\n",
    "    binsz=0.02,\n",
    "    width=(3, 3),\n",
    "    frame=\"icrs\",\n",
    "    axes=[energy_reco],\n",
    ")\n",
    "# It is usually useful to have a separate binning for the true energy axis\n",
    "energy_true = MapAxis.from_edges(\n",
    "    np.logspace(-1.5, 1.5, 30), unit=\"TeV\", name=\"energy_true\", interp=\"log\"\n",
    ")\n",
    "\n",
    "empty = MapDataset.create(\n",
    "    geom, name=\"dataset-simu\", energy_axis_true=energy_true\n",
    ")"
   ]
  },
  {
   "cell_type": "markdown",
   "metadata": {},
   "source": [
    "### Define model to simulate the data\n",
    "\n",
    "- intrinsic model from the 4FGL\n",
    "- EBL model (see: https://docs.gammapy.org/0.19/modeling/gallery/spectral/plot_absorbed.html?highlight=ebl)"
   ]
  },
  {
   "cell_type": "code",
   "execution_count": 46,
   "metadata": {},
   "outputs": [
    {
     "name": "stdout",
     "output_type": "stream",
     "text": [
      "LogParabolaSpectralModel\n",
      "\n",
      "  type      name     value         unit      ... max frozen is_norm link\n",
      "-------- --------- ---------- -------------- ... --- ------ ------- ----\n",
      "spectral amplitude 1.3413e-11 MeV-1 s-1 cm-2 ... nan  False    True     \n",
      "spectral reference 1.1469e+03            MeV ... nan   True   False     \n",
      "spectral     alpha 1.7672e+00                ... nan  False   False     \n",
      "spectral      beta 4.0590e-02                ... nan  False   False     \n"
     ]
    }
   ],
   "source": [
    "int_model = sky_model.spectral_model\n",
    "print(int_model)"
   ]
  },
  {
   "cell_type": "code",
   "execution_count": 47,
   "metadata": {},
   "outputs": [],
   "source": [
    "redshift = 0.116\n",
    "ebl = EBLAbsorptionNormSpectralModel.read_builtin(\"dominguez\", redshift=redshift)"
   ]
  },
  {
   "cell_type": "code",
   "execution_count": 48,
   "metadata": {},
   "outputs": [],
   "source": [
    "spectral_model = ebl * int_model\n",
    "spatial_model = sky_model.spatial_model\n",
    "model_simu = SkyModel(spectral_model=spectral_model, \n",
    "                      spatial_model=spatial_model,\n",
    "                      name=\"model-simu\")"
   ]
  },
  {
   "cell_type": "code",
   "execution_count": 49,
   "metadata": {},
   "outputs": [],
   "source": [
    "bkg_model = FoVBackgroundModel(dataset_name=\"dataset-simu\")"
   ]
  },
  {
   "cell_type": "code",
   "execution_count": 50,
   "metadata": {},
   "outputs": [
    {
     "name": "stdout",
     "output_type": "stream",
     "text": [
      "Models\n",
      "\n",
      "Component 0: SkyModel\n",
      "\n",
      "  Name                      : model-simu\n",
      "  Datasets names            : None\n",
      "  Spectral model type       : CompoundSpectralModel\n",
      "  Spatial  model type       : PointSpatialModel\n",
      "  Temporal model type       : \n",
      "  Parameters:\n",
      "    alpha_norm            (frozen):      1.000                   \n",
      "    redshift              (frozen):      0.116                   \n",
      "    amplitude                     :   1.34e-11   +/- 1.5e-13 1 / (MeV s cm2)\n",
      "    reference             (frozen):   1146.894       MeV         \n",
      "    alpha                         :      1.767   +/-    0.01             \n",
      "    beta                          :      0.041   +/-    0.00             \n",
      "    lon_0                         :    329.714   +/-    0.00 deg         \n",
      "    lat_0                         :    -30.225   +/-    0.00 deg         \n",
      "\n",
      "Component 1: FoVBackgroundModel\n",
      "\n",
      "  Name                      : dataset-simu-bkg\n",
      "  Datasets names            : ['dataset-simu']\n",
      "  Spectral model type       : PowerLawNormSpectralModel\n",
      "  Parameters:\n",
      "    norm                          :      1.000   +/-    0.00             \n",
      "    tilt                  (frozen):      0.000                   \n",
      "    reference             (frozen):      1.000       TeV         \n",
      "\n",
      "\n"
     ]
    }
   ],
   "source": [
    "models = Models([model_simu, bkg_model])\n",
    "print(models)"
   ]
  },
  {
   "cell_type": "markdown",
   "metadata": {},
   "source": [
    "### Now, perform a simulation"
   ]
  },
  {
   "cell_type": "code",
   "execution_count": 51,
   "metadata": {},
   "outputs": [
    {
     "name": "stdout",
     "output_type": "stream",
     "text": [
      "Observation\n",
      "\n",
      "\tobs id            : 0 \n",
      " \ttstart            : 51544.00\n",
      "\ttstop             : 51544.08\n",
      "\tduration          : 7200.00 s\n",
      "\tpointing (icrs)   : 329.7 deg, -30.2 deg\n",
      "\n",
      "\tdeadtime fraction : 0.0%\n",
      "\n"
     ]
    },
    {
     "name": "stderr",
     "output_type": "stream",
     "text": [
      "/home/born-again/anaconda3/envs/gammapy-1.1/lib/python3.9/site-packages/gammapy/data/observations.py:226: GammapyDeprecationWarning: Pointing will be required to be provided as FixedPointingInfo\n",
      "  warnings.warn(\n"
     ]
    }
   ],
   "source": [
    "# Create an in-memory observation\n",
    "obs = Observation.create(pointing=pointing, livetime=livetime, irfs=irfs)\n",
    "print(obs)"
   ]
  },
  {
   "cell_type": "code",
   "execution_count": 52,
   "metadata": {},
   "outputs": [
    {
     "name": "stdout",
     "output_type": "stream",
     "text": [
      "MapDataset\n",
      "----------\n",
      "\n",
      "  Name                            : dataset-simu \n",
      "\n",
      "  Total counts                    : 0 \n",
      "  Total background counts         : 52917.67\n",
      "  Total excess counts             : -52917.67\n",
      "\n",
      "  Predicted counts                : 52917.67\n",
      "  Predicted background counts     : 52917.67\n",
      "  Predicted excess counts         : nan\n",
      "\n",
      "  Exposure min                    : 4.64e+07 m2 s\n",
      "  Exposure max                    : 3.58e+10 m2 s\n",
      "\n",
      "  Number of total bins            : 202500 \n",
      "  Number of fit bins              : 202500 \n",
      "\n",
      "  Fit statistic type              : cash\n",
      "  Fit statistic value (-2 log(L)) : nan\n",
      "\n",
      "  Number of models                : 0 \n",
      "  Number of parameters            : 0\n",
      "  Number of free parameters       : 0\n",
      "\n",
      "\n"
     ]
    }
   ],
   "source": [
    "# Make the MapDataset\n",
    "maker = MapDatasetMaker(selection=[\"exposure\", \"background\", \"psf\", \"edisp\"])\n",
    "\n",
    "maker_safe_mask = SafeMaskMaker(methods=[\"offset-max\"], offset_max=4.0 * u.deg)\n",
    "\n",
    "dataset = maker.run(empty, obs)\n",
    "dataset = maker_safe_mask.run(dataset, obs)\n",
    "print(dataset)"
   ]
  },
  {
   "cell_type": "code",
   "execution_count": 53,
   "metadata": {},
   "outputs": [
    {
     "name": "stdout",
     "output_type": "stream",
     "text": [
      "MapDataset\n",
      "----------\n",
      "\n",
      "  Name                            : dataset-simu \n",
      "\n",
      "  Total counts                    : 55488 \n",
      "  Total background counts         : 52917.67\n",
      "  Total excess counts             : 2570.33\n",
      "\n",
      "  Predicted counts                : 55655.39\n",
      "  Predicted background counts     : 52917.67\n",
      "  Predicted excess counts         : 2737.72\n",
      "\n",
      "  Exposure min                    : 4.64e+07 m2 s\n",
      "  Exposure max                    : 3.58e+10 m2 s\n",
      "\n",
      "  Number of total bins            : 202500 \n",
      "  Number of fit bins              : 202500 \n",
      "\n",
      "  Fit statistic type              : cash\n",
      "  Fit statistic value (-2 log(L)) : 152646.00\n",
      "\n",
      "  Number of models                : 2 \n",
      "  Number of parameters            : 11\n",
      "  Number of free parameters       : 6\n",
      "\n",
      "  Component 0: SkyModel\n",
      "  \n",
      "    Name                      : model-simu\n",
      "    Datasets names            : None\n",
      "    Spectral model type       : CompoundSpectralModel\n",
      "    Spatial  model type       : PointSpatialModel\n",
      "    Temporal model type       : \n",
      "    Parameters:\n",
      "      alpha_norm            (frozen):      1.000                   \n",
      "      redshift              (frozen):      0.116                   \n",
      "      amplitude                     :   1.34e-11   +/- 1.5e-13 1 / (MeV s cm2)\n",
      "      reference             (frozen):   1146.894       MeV         \n",
      "      alpha                         :      1.767   +/-    0.01             \n",
      "      beta                          :      0.041   +/-    0.00             \n",
      "      lon_0                         :    329.714   +/-    0.00 deg         \n",
      "      lat_0                         :    -30.225   +/-    0.00 deg         \n",
      "  \n",
      "  Component 1: FoVBackgroundModel\n",
      "  \n",
      "    Name                      : dataset-simu-bkg\n",
      "    Datasets names            : ['dataset-simu']\n",
      "    Spectral model type       : PowerLawNormSpectralModel\n",
      "    Parameters:\n",
      "      norm                          :      1.000   +/-    0.00             \n",
      "      tilt                  (frozen):      0.000                   \n",
      "      reference             (frozen):      1.000       TeV         \n",
      "  \n",
      "  \n"
     ]
    }
   ],
   "source": [
    "#Add the model on the dataset and Poission fluctuate\n",
    "dataset.models = models\n",
    "dataset.fake()\n",
    "# Do a print on the dataset - there is now a counts maps\n",
    "print(dataset)"
   ]
  },
  {
   "cell_type": "code",
   "execution_count": 54,
   "metadata": {},
   "outputs": [
    {
     "data": {
      "application/vnd.jupyter.widget-view+json": {
       "model_id": "2bed993ceeed4586874bd8eae184cab4",
       "version_major": 2,
       "version_minor": 0
      },
      "text/plain": [
       "interactive(children=(SelectionSlider(continuous_update=False, description='Select energy:', layout=Layout(wid…"
      ]
     },
     "metadata": {},
     "output_type": "display_data"
    }
   ],
   "source": [
    "dataset.excess.smooth(0.05 * u.deg).plot_interactive(\n",
    "    add_cbar=True, stretch=\"linear\"\n",
    ")"
   ]
  },
  {
   "cell_type": "code",
   "execution_count": 55,
   "metadata": {},
   "outputs": [
    {
     "data": {
      "text/plain": [
       "WcsNDMap\n",
       "\n",
       "\tgeom  : WcsGeom \n",
       " \taxes  : ['lon', 'lat', 'energy']\n",
       "\tshape : (150, 150, 9)\n",
       "\tndim  : 3\n",
       "\tunit  : \n",
       "\tdtype : int64"
      ]
     },
     "execution_count": 55,
     "metadata": {},
     "output_type": "execute_result"
    }
   ],
   "source": [
    "dataset.counts"
   ]
  },
  {
   "cell_type": "code",
   "execution_count": 56,
   "metadata": {},
   "outputs": [
    {
     "data": {
      "text/plain": [
       "<WCSAxes: >"
      ]
     },
     "execution_count": 56,
     "metadata": {},
     "output_type": "execute_result"
    },
    {
     "data": {
      "image/png": "[encoded data removed]",
      "text/plain": [
       "<Figure size 640x480 with 2 Axes>"
      ]
     },
     "metadata": {},
     "output_type": "display_data"
    }
   ],
   "source": [
    "dataset.counts.sum_over_axes().plot(add_cbar=True)"
   ]
  },
  {
   "cell_type": "code",
   "execution_count": 57,
   "metadata": {},
   "outputs": [
    {
     "data": {
      "text/plain": [
       "WcsNDMap\n",
       "\n",
       "\tgeom  : WcsGeom \n",
       " \taxes  : ['lon', 'lat']\n",
       "\tshape : (150, 150)\n",
       "\tndim  : 2\n",
       "\tunit  : \n",
       "\tdtype : int64"
      ]
     },
     "execution_count": 57,
     "metadata": {},
     "output_type": "execute_result"
    }
   ],
   "source": [
    "dataset.counts.get_image_by_coord({\"energy\": \"5 TeV\"})"
   ]
  },
  {
   "cell_type": "code",
   "execution_count": 58,
   "metadata": {},
   "outputs": [],
   "source": [
    "dataset.write(\"pks2155-simulated.fits.gz\", overwrite=True)"
   ]
  },
  {
   "cell_type": "code",
   "execution_count": null,
   "metadata": {},
   "outputs": [],
   "source": []
  },
  {
   "cell_type": "code",
   "execution_count": null,
   "metadata": {},
   "outputs": [],
   "source": []
  },
  {
   "cell_type": "code",
   "execution_count": null,
   "metadata": {},
   "outputs": [],
   "source": []
  },
  {
   "cell_type": "code",
   "execution_count": null,
   "metadata": {},
   "outputs": [],
   "source": []
  }
 ],
 "metadata": {
  "kernelspec": {
   "display_name": "Python 3 (ipykernel)",
   "language": "python",
   "name": "python3"
  },
  "language_info": {
   "codemirror_mode": {
    "name": "ipython",
    "version": 3
   },
   "file_extension": ".py",
   "mimetype": "text/x-python",
   "name": "python",
   "nbconvert_exporter": "python",
   "pygments_lexer": "ipython3",
   "version": "3.9.18"
  }
 },
 "nbformat": 4,
 "nbformat_minor": 4
}
