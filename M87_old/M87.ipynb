{
 "cells": [
  {
   "cell_type": "markdown",
   "id": "c0b5edd3",
   "metadata": {},
   "source": [
    "<a id='intro'></a>\n",
    "## Simulation of a Single Spectrum\n",
    "\n",
    "We will simulate the energy spectrum of 3FHL J1230.8+1223 from the Fermi-LAT 3FHL source catalog considering the Dominguez EBL absorption spectral model. To do a simulation, we need to define the observational parameters like\n",
    "the livetime, the offset, the assumed integration radius, the energy\n",
    "range to perform the simulation for and the choice of spectral model. We\n",
    "then use an in-memory observation which is convolved with the IRFs to\n",
    "get the predicted number of counts. This is Poission fluctuated using\n",
    "the `fake()` to get the simulated counts for each observation."
   ]
  },
  {
   "cell_type": "markdown",
   "id": "44805999",
   "metadata": {},
   "source": [
    "<a id='indice'></a>\n",
    "### Indice\n",
    "[Step 0.0:  Setting the Engine Tools](#step0)<br>\n",
    "$\\;\\;\\;\\;\\;$[Step 0.1:  Importing the Python Necessary Tools](#step0.1)<br>\n",
    "$\\;\\;\\;\\;\\;$[Step 0.2:  Defining Functions](#step0.2)<br>\n",
    "[Step 1.0: Source Information](#step1)<br>\n",
    "[Step 2.0: Creates the Observation](#step2)<br>\n",
    "[Step 3.0: Defining the Skymodel](#step3)<br>\n",
    "[Step 4.0: Simulating the Spectrum](#step4)<br>\n",
    "$\\;\\;\\;\\;\\;$[Step 4.1: Defines the geometry](#step4.1)<br> \n",
    "$\\;\\;\\;\\;\\;$[Step 4.2: Setting the Model on the Dataset](#step4.2)<br> \n",
    "[Step 5.0: On-Off Analysis](#step5)<br>\n",
    "$\\;\\;\\;\\;\\;$[Step 5.1: Simulating the Observations](#step5.1)<br>\n",
    "$\\;\\;\\;\\;\\;$[Step 5.2: Plotting Counts, Excess and Significance](#step5.2)<br>\n",
    "$\\;\\;\\;\\;\\;$[Step 5.3: Computing the Sensitivity](#step5.3)<br>\n",
    "$\\;\\;\\;\\;\\;$[Step 5.4 Computing the Flux Points](#step5.4)<br>"
   ]
  },
  {
   "cell_type": "markdown",
   "id": "3bdb2877",
   "metadata": {},
   "source": [
    "<a id='step0'></a>\n",
    "## Step 0.0:  Setting the Engine Tools\n",
    "\n",
    "<a id='step0.1'></a>\n",
    "### Step 0.1: Importing the Python Necessary Tools"
   ]
  },
  {
   "cell_type": "code",
   "execution_count": 1,
   "id": "59ef12b1",
   "metadata": {},
   "outputs": [],
   "source": [
    "import gammapy\n",
    "from astropy import units as u\n",
    "import numpy as np\n",
    "from astropy.io import ascii\n",
    "import collections\n",
    "import sys, os\n",
    "import matplotlib.pyplot as plt\n",
    "\n",
    "from gammapy.catalog import SourceCatalog3FHL\n",
    "from gammapy.makers import SpectrumDatasetMaker, SafeMaskMaker, ReflectedRegionsBackgroundMaker\n",
    "from gammapy.modeling import Fit\n",
    "from gammapy.data import Observation, Observations, observatory_locations\n",
    "from gammapy.datasets import SpectrumDatasetOnOff, SpectrumDataset, Datasets\n",
    "from gammapy.irf import load_cta_irfs\n",
    "from gammapy.maps import MapAxis, RegionGeom\n",
    "\n",
    "from gammapy.modeling.models import (\n",
    "    EBLAbsorptionNormSpectralModel,\n",
    "    Models,\n",
    "    PowerLawSpectralModel,\n",
    "    SkyModel,\n",
    ")\n",
    "\n",
    "from gammapy.irf import EffectiveAreaTable2D\n",
    "\n",
    "from numpy.random import RandomState\n",
    "\n",
    "from scipy.stats import chi2, norm\n",
    "\n",
    "from gammapy.estimators import FluxPointsEstimator\n",
    "from gammapy.estimators import FluxPoints\n",
    "from gammapy.datasets import FluxPointsDataset\n",
    "\n",
    "# astropy imports\n",
    "from astropy.coordinates import SkyCoord, Angle\n",
    "from astropy import units as u\n",
    "from astropy.io import fits\n",
    "from astropy.table import Table, Column\n",
    "\n",
    "from gammapy.estimators import SensitivityEstimator\n",
    "\n",
    "# astropy affiliated packages imports\n",
    "from regions import CircleSkyRegion\n",
    "\n",
    "from gammapy.stats import WStatCountsStatistic\n",
    "from gammapy.stats import CashCountsStatistic\n",
    "from scipy.stats import sem\n",
    "from gammapy.maps import Map\n",
    "from regions import PointSkyRegion\n",
    "\n",
    "import math\n",
    "\n",
    "from pathlib import Path"
   ]
  },
  {
   "cell_type": "markdown",
   "id": "d6e287e3",
   "metadata": {},
   "source": [
    "<a id='step0.2'></a>\n",
    "### Step 0.2: Defining Functions"
   ]
  },
  {
   "cell_type": "code",
   "execution_count": 2,
   "id": "6e973926",
   "metadata": {},
   "outputs": [],
   "source": [
    "def mkdir_base_child(base_dir, child_dir):\n",
    "    '''Creates a directory: base_dir/child_dir and returs the path \n",
    "    mkdir_base_child(base_dir, child_dir)\n",
    "    >>> path_child\n",
    "    '''\n",
    "    path_base = Path(f\"{base_dir}\")\n",
    "    path_base.mkdir(exist_ok=True)\n",
    "\n",
    "    path_child = Path(f\"{path_base}/{child_dir}\")\n",
    "    path_child.mkdir(exist_ok=True)\n",
    "    \n",
    "    return path_child"
   ]
  },
  {
   "cell_type": "code",
   "execution_count": 3,
   "id": "486cbaac",
   "metadata": {},
   "outputs": [],
   "source": [
    "def plt_savefig(path_child, child_name):\n",
    "    ''' Saves figures (.png and .pdf) in the path_child directoty    \n",
    "    plt_savefig(path_child, child_name)\n",
    "    >>> plt.savefig(file, bbox_inches='tight')\n",
    "    '''\n",
    "    formats_file = [\".png\", \".pdf\"]\n",
    "    for format_file in formats_file: \n",
    "        file = path_child / f'{src_id}_{child_name}_{ebl_ref}{format_file}'\n",
    "        plt.savefig(file, bbox_inches='tight')\n"
   ]
  },
  {
   "cell_type": "markdown",
   "id": "19987720",
   "metadata": {},
   "source": [
    "___"
   ]
  },
  {
   "cell_type": "markdown",
   "id": "32463b2e",
   "metadata": {},
   "source": [
    "🔝 [Back to Top](#intro)<br>"
   ]
  },
  {
   "cell_type": "markdown",
   "id": "a784cfbd",
   "metadata": {},
   "source": [
    "<a id='step1'></a>\n",
    "## Step 1.0:  Source Information"
   ]
  },
  {
   "cell_type": "code",
   "execution_count": 4,
   "id": "63da27bf",
   "metadata": {},
   "outputs": [],
   "source": [
    "SourceCatalog = SourceCatalog3FHL() # Fermi-LAT 3FHL source catalog\n",
    "# display(SourceCatalog.table)"
   ]
  },
  {
   "cell_type": "code",
   "execution_count": 5,
   "id": "c02760d7",
   "metadata": {},
   "outputs": [],
   "source": [
    "src_name = \"3FHL J1230.8+1223\"  # Official source name 3FHL JHHMM.m+DDMM"
   ]
  },
  {
   "cell_type": "code",
   "execution_count": 6,
   "id": "81403bcc",
   "metadata": {},
   "outputs": [],
   "source": [
    "src_data = SourceCatalog[src_name].data\n",
    "# src_data"
   ]
  },
  {
   "cell_type": "code",
   "execution_count": 7,
   "id": "b3bf058b",
   "metadata": {},
   "outputs": [],
   "source": [
    "src_id  = src_data[\"ASSOC1\"].replace(\" \", \"\") # Name of identified or likely associated source\n",
    "\n",
    "src_ra  = src_data[\"RAJ2000\"]  # Right Ascension (deg)\n",
    "src_de  = src_data[\"DEJ2000\"]  # Declination (deg)\n",
    "\n",
    "src_red = src_data[\"Redshift\"] # Redshift of counterpart, if known"
   ]
  },
  {
   "cell_type": "code",
   "execution_count": 8,
   "id": "d068fca1",
   "metadata": {},
   "outputs": [
    {
     "data": {
      "text/plain": [
       "numpy.float32"
      ]
     },
     "execution_count": 8,
     "metadata": {},
     "output_type": "execute_result"
    }
   ],
   "source": [
    "type(src_red)"
   ]
  },
  {
   "cell_type": "code",
   "execution_count": 9,
   "id": "45e38604",
   "metadata": {},
   "outputs": [
    {
     "name": "stdout",
     "output_type": "stream",
     "text": [
      "M87 Source Information:\n",
      "(RAJ2000, DEJ2000) = (187.703 deg, 12.389 deg); Redshift = 0.004\n"
     ]
    }
   ],
   "source": [
    "print(f\"{src_id} Source Information:\")\n",
    "print(f\"(RAJ2000, DEJ2000) = ({src_ra:.3f}, {src_de:.3f}); Redshift = {src_red:.3f}\" )"
   ]
  },
  {
   "cell_type": "markdown",
   "id": "3528d87a",
   "metadata": {},
   "source": [
    "___"
   ]
  },
  {
   "cell_type": "markdown",
   "id": "dbd6b4ba",
   "metadata": {},
   "source": [
    "🔝 [Back to Top](#intro)<br>"
   ]
  },
  {
   "cell_type": "markdown",
   "id": "cb47a787",
   "metadata": {},
   "source": [
    "<a id='step2'></a>\n",
    "## Step 2.0:  Creates the Observation"
   ]
  },
  {
   "cell_type": "markdown",
   "id": "7ad701bb",
   "metadata": {},
   "source": [
    "Define the source position:"
   ]
  },
  {
   "cell_type": "code",
   "execution_count": 10,
   "id": "9e294533",
   "metadata": {},
   "outputs": [],
   "source": [
    "frame  = \"icrs\" # International Celestial Reference System (ICRS)\n",
    "unit   = \"deg\"  # Degrees units"
   ]
  },
  {
   "cell_type": "code",
   "execution_count": 11,
   "id": "c6834e14",
   "metadata": {},
   "outputs": [],
   "source": [
    "src_pos = SkyCoord(src_ra, src_de, unit=unit, frame=frame) # Source Position"
   ]
  },
  {
   "cell_type": "markdown",
   "id": "e991ac82",
   "metadata": {},
   "source": [
    "Define the observation parameters (typically the observation duration and the pointing position):\n"
   ]
  },
  {
   "cell_type": "code",
   "execution_count": 12,
   "id": "2d8151b9",
   "metadata": {},
   "outputs": [],
   "source": [
    "livetime = 50 * u.h # Livetime exposure of the simulated observation\n",
    "\n",
    "offset = 0.5 * u.deg # Pointing position  offset\n",
    "pointing = SkyCoord(src_pos.ra, src_pos.dec + offset, unit=unit, frame=frame)\n",
    "# print(pointing)"
   ]
  },
  {
   "cell_type": "markdown",
   "id": "91751de7",
   "metadata": {},
   "source": [
    "Load the IRFs:"
   ]
  },
  {
   "cell_type": "code",
   "execution_count": 15,
   "id": "b9fe17ab",
   "metadata": {},
   "outputs": [
    {
     "name": "stderr",
     "output_type": "stream",
     "text": [
      "/tmp/ipykernel_91889/4137751766.py:3: GammapyDeprecationWarning: The load_cta_irfs function is deprecated and may be removed in a future version.\n",
      "        Use load_irf_dict_from_file instead.\n",
      "  irfs = load_cta_irfs(base_name + '/North_z20_N_0.5h/irf_file.fits')\n",
      "WARNING: UnitsWarning: '1/(MeV s sr)' did not parse as fits unit: Numeric factor not supported by FITS If this is meant to be a custom unit, define it with 'u.def_unit'. To have it recognized inside a file reader or other code, enable it with 'u.add_enabled_units'. For details, see https://docs.astropy.org/en/latest/units/combining_and_defining.html [astropy.units.core]\n",
      "Invalid unit found in background table! Assuming (s-1 MeV-1 sr-1)\n"
     ]
    }
   ],
   "source": [
    "# In this simulation, we use the CTA-1DC irfs shipped with gammapy\n",
    "base_name = '/home/born-again/Documents/GitHub/gammapy/gammapy-notebooks/0.20.1/tutorials/data/caldb/data/cta/prod3b-v2/bcf'\n",
    "irfs = load_cta_irfs(base_name + '/North_z20_N_0.5h/irf_file.fits')"
   ]
  },
  {
   "cell_type": "markdown",
   "id": "1ba185c7",
   "metadata": {},
   "source": [
    "Creates a observation:"
   ]
  },
  {
   "cell_type": "code",
   "execution_count": 16,
   "id": "ae83bd1a",
   "metadata": {
    "scrolled": true
   },
   "outputs": [
    {
     "name": "stdout",
     "output_type": "stream",
     "text": [
      "Observation\n",
      "\n",
      "\tobs id            : 0 \n",
      " \ttstart            : 51544.00\n",
      "\ttstop             : 51546.08\n",
      "\tduration          : 180000.00 s\n",
      "\tpointing (icrs)   : 187.7 deg, 12.9 deg\n",
      "\n",
      "\tdeadtime fraction : 0.0%\n",
      "\n"
     ]
    },
    {
     "name": "stderr",
     "output_type": "stream",
     "text": [
      "/home/born-again/anaconda3/envs/gammapy-1.1/lib/python3.9/site-packages/gammapy/data/observations.py:226: GammapyDeprecationWarning: Pointing will be required to be provided as FixedPointingInfo\n",
      "  warnings.warn(\n"
     ]
    }
   ],
   "source": [
    "location = observatory_locations[\"cta_north\"]\n",
    "obs = Observation.create(\n",
    "    pointing=pointing,\n",
    "    livetime=livetime,\n",
    "    irfs=irfs,\n",
    "    location=location,\n",
    ")\n",
    "print(obs)"
   ]
  },
  {
   "cell_type": "code",
   "execution_count": null,
   "id": "5117afd2",
   "metadata": {},
   "outputs": [],
   "source": []
  },
  {
   "cell_type": "markdown",
   "id": "4ce16ebf",
   "metadata": {},
   "source": [
    "___"
   ]
  },
  {
   "cell_type": "markdown",
   "id": "74e31167",
   "metadata": {},
   "source": [
    "🔝 [Back to Top](#intro)<br>"
   ]
  },
  {
   "cell_type": "markdown",
   "id": "fc40f6bf",
   "metadata": {},
   "source": [
    "<a id='step3'></a>\n",
    "## Step 3.0:  Defining the Skymodel\n",
    "Define spectral model:"
   ]
  },
  {
   "cell_type": "code",
   "execution_count": 17,
   "id": "0728d768",
   "metadata": {},
   "outputs": [],
   "source": [
    "# A simple Power Law\n",
    "index=2.24\n",
    "amplitude=6.47e-13 * u.Unit(\"cm-2 s-1 TeV-1\")\n",
    "reference=0.1 * u.TeV\n",
    "    \n",
    "pwl = PowerLawSpectralModel(\n",
    "    index=index,\n",
    "    amplitude=amplitude,\n",
    "    reference=reference,\n",
    ")\n",
    "# print(pwl)"
   ]
  },
  {
   "cell_type": "markdown",
   "id": "44d70888",
   "metadata": {},
   "source": [
    "Define absorption model:"
   ]
  },
  {
   "cell_type": "code",
   "execution_count": 18,
   "id": "f04f4df6",
   "metadata": {
    "scrolled": true
   },
   "outputs": [
    {
     "name": "stdout",
     "output_type": "stream",
     "text": [
      "EBLAbsorptionNormSpectralModel\n",
      "\n",
      "  type      name      value    unit   error   min max frozen is_norm link\n",
      "-------- ---------- ---------- ---- --------- --- --- ------ ------- ----\n",
      "spectral alpha_norm 1.0000e+00      0.000e+00 nan nan   True   False     \n",
      "spectral   redshift 4.2830e-03      0.000e+00 nan nan   True   False     \n"
     ]
    }
   ],
   "source": [
    "ebl_models = ['franceschini', 'dominguez', 'finke'] # Available models in gammapy-data:{'franceschini', 'dominguez', 'finke'}\n",
    "\n",
    "ebl_ref = ebl_models[1] # dominguez\n",
    "\n",
    "absorption = EBLAbsorptionNormSpectralModel.read_builtin(\n",
    "    reference = ebl_ref, \n",
    "    redshift=src_red\n",
    ")\n",
    "print(absorption)"
   ]
  },
  {
   "cell_type": "markdown",
   "id": "5dc48eb3",
   "metadata": {},
   "source": [
    "The compound spectral model:"
   ]
  },
  {
   "cell_type": "code",
   "execution_count": 19,
   "id": "4758a3f5",
   "metadata": {},
   "outputs": [],
   "source": [
    "absspecmodel = pwl * absorption # CompoundSpectralModel\n",
    "# print(absspecmodel)"
   ]
  },
  {
   "cell_type": "markdown",
   "id": "3d21f4b0",
   "metadata": {},
   "source": [
    "Setting the sky model used in the dataset:"
   ]
  },
  {
   "cell_type": "code",
   "execution_count": 20,
   "id": "81ef12a6",
   "metadata": {},
   "outputs": [],
   "source": [
    "skymodel = SkyModel(\n",
    "    spectral_model=absspecmodel, \n",
    "    name=\"model_simu\"\n",
    ")\n",
    "# print(skymodel)"
   ]
  },
  {
   "cell_type": "markdown",
   "id": "644e3b64",
   "metadata": {},
   "source": [
    "___"
   ]
  },
  {
   "cell_type": "markdown",
   "id": "c2986b6a",
   "metadata": {},
   "source": [
    "🔝 [Back to Top](#intro)<br>"
   ]
  },
  {
   "cell_type": "markdown",
   "id": "38344d22",
   "metadata": {},
   "source": [
    "<a id='step4'></a>\n",
    "## Step 4.0:  Simulating the Spectrum\n",
    "<a id='step4.1'></a>\n",
    "### Step 4.1: Defines the geometry"
   ]
  },
  {
   "cell_type": "code",
   "execution_count": 21,
   "id": "465303cf",
   "metadata": {},
   "outputs": [],
   "source": [
    "# Defines the energy range\n",
    "emin = 25 * u.GeV   # Minimum energy\n",
    "emax = 100. * u.TeV # Maximum energy"
   ]
  },
  {
   "cell_type": "code",
   "execution_count": 22,
   "id": "2d570029",
   "metadata": {},
   "outputs": [],
   "source": [
    "# Reconstructed energy axis\n",
    "energy_reco = MapAxis.from_energy_bounds(\n",
    "    emin, \n",
    "    emax, \n",
    "    nbin=5, \n",
    "    per_decade=True, \n",
    "    name=\"energy\"\n",
    ")\n",
    "# print(energy_reco)"
   ]
  },
  {
   "cell_type": "code",
   "execution_count": 23,
   "id": "8f4df87d",
   "metadata": {},
   "outputs": [],
   "source": [
    "# Defines the on region:\n",
    "on_region_radius = Angle(\"0.11 deg\")\n",
    "\n",
    "on_region = CircleSkyRegion(\n",
    "    center=src_pos, \n",
    "    radius=on_region_radius\n",
    ")\n",
    "# print(on_region)"
   ]
  },
  {
   "cell_type": "code",
   "execution_count": 24,
   "id": "11618e5c",
   "metadata": {},
   "outputs": [],
   "source": [
    "#Defines the geometry:\n",
    "geom = RegionGeom.create(\n",
    "    region=on_region, \n",
    "    axes=[energy_reco]\n",
    ")"
   ]
  },
  {
   "cell_type": "markdown",
   "id": "aacadc10",
   "metadata": {},
   "source": [
    "<a id='step4.2'></a>\n",
    "### Step 4.2: Setting the Model on the Dataset"
   ]
  },
  {
   "cell_type": "code",
   "execution_count": 25,
   "id": "53aabe70",
   "metadata": {},
   "outputs": [],
   "source": [
    "# Defines the true energy axis:\n",
    "# true energy axis should be wider than reco energy axis\n",
    "energy_true = MapAxis.from_energy_bounds(\n",
    "    0.3*emin, \n",
    "    3*emax, \n",
    "    nbin=8, \n",
    "    per_decade=True, \n",
    "    name=\"energy_true\"\n",
    ")\n",
    "# print(energy_true)"
   ]
  },
  {
   "cell_type": "code",
   "execution_count": 26,
   "id": "d54d2ed2",
   "metadata": {},
   "outputs": [],
   "source": [
    "# Create a MapDataset object with zero filled maps.\n",
    "dataset_empty = SpectrumDataset.create(\n",
    "    geom=geom, \n",
    "    energy_axis_true=energy_true,\n",
    "    name=\"obs-0\"\n",
    ")"
   ]
  },
  {
   "cell_type": "code",
   "execution_count": 27,
   "id": "d59c8e31",
   "metadata": {},
   "outputs": [],
   "source": [
    "# Make spectrum for a single IACT observation:\n",
    "# The irfs and background are computed at a single fixed offset, which is recommended only for point-sources.\n",
    "maker = SpectrumDatasetMaker(\n",
    "    containment_correction=True, # Apply containment correction for point sources and circular on regions.\n",
    "    selection=[\"edisp\", \"background\", \"exposure\"] # Selecting which maps to make\n",
    ")\n",
    "safe_maker = SafeMaskMaker(methods=[\"bkg-peak\"]) # Make safe data range mask for a given observation."
   ]
  },
  {
   "cell_type": "code",
   "execution_count": 28,
   "id": "dc9b92e8",
   "metadata": {},
   "outputs": [],
   "source": [
    "# Make map dataset:\n",
    "dataset = maker.run(dataset_empty, obs) \n",
    "dataset = safe_maker.run(dataset, obs)"
   ]
  },
  {
   "cell_type": "code",
   "execution_count": 29,
   "id": "15fa2605",
   "metadata": {},
   "outputs": [],
   "source": [
    "# Set the model on the dataset, and fake\n",
    "dataset.models = skymodel\n",
    "dataset.fake(random_state=42)\n",
    "# print(dataset)"
   ]
  },
  {
   "cell_type": "markdown",
   "id": "a16aaedc",
   "metadata": {},
   "source": [
    "You can see that background counts are now simulated."
   ]
  },
  {
   "cell_type": "markdown",
   "id": "f5833551",
   "metadata": {},
   "source": [
    "___"
   ]
  },
  {
   "cell_type": "markdown",
   "id": "3091a851",
   "metadata": {},
   "source": [
    "🔝 [Back to Top](#intro)<br>"
   ]
  },
  {
   "cell_type": "markdown",
   "id": "e9184705",
   "metadata": {},
   "source": [
    "<a id='step5'></a>\n",
    "### Step 5.0: On-Off Analysis\n",
    "\n",
    "To do an on off spectral analysis, which is the usual science case, the\n",
    "standard would be to use `SpectrumDatasetOnOff`, which uses the\n",
    "acceptance to fake off-counts"
   ]
  },
  {
   "cell_type": "markdown",
   "id": "bc2e9496",
   "metadata": {},
   "source": [
    "<a id='step5.1'></a>\n",
    "### Step 5.1: Simulating the Observations"
   ]
  },
  {
   "cell_type": "code",
   "execution_count": 30,
   "id": "cec597d4",
   "metadata": {},
   "outputs": [],
   "source": [
    "# Spectrum dataset for on-off likelihood fitting.\n",
    "dataset_onoff = SpectrumDatasetOnOff.from_spectrum_dataset(\n",
    "    dataset=dataset, \n",
    "    acceptance=1, \n",
    "    acceptance_off=5\n",
    ")\n",
    "\n",
    "# Simulate fake counts (on and off) for the current model and reduced IRFs.\n",
    "dataset_onoff.fake(\n",
    "    random_state='random-seed', \n",
    "    npred_background=dataset.npred_background()\n",
    ")\n",
    "\n",
    "# print(dataset_onoff)"
   ]
  },
  {
   "cell_type": "code",
   "execution_count": 31,
   "id": "68a76332",
   "metadata": {},
   "outputs": [],
   "source": [
    "# Class to compute statistics for Poisson distributed variable with unknown background.\n",
    "significance = WStatCountsStatistic(\n",
    "    n_on=sum(dataset_onoff.counts.data), \n",
    "    n_off=sum(dataset_onoff.counts_off.data), \n",
    "    alpha=0.2).sqrt_ts\n",
    "# print(significance)"
   ]
  },
  {
   "cell_type": "code",
   "execution_count": 32,
   "id": "2c521f88",
   "metadata": {},
   "outputs": [],
   "source": [
    "n_obs = 10 # We simulate each observation n_obs times, to randomize the renortets"
   ]
  },
  {
   "cell_type": "code",
   "execution_count": 33,
   "id": "c9fb961f",
   "metadata": {},
   "outputs": [],
   "source": [
    "datasets = Datasets()\n",
    "\n",
    "for idx in range(n_obs):\n",
    "    dataset_onoff.fake(\n",
    "        random_state=idx, \n",
    "        npred_background=dataset.npred_background()\n",
    "    )\n",
    "    dataset_fake = dataset_onoff.copy(name=f\"obs-{idx}\")\n",
    "    dataset_fake.meta_table[\"OBS_ID\"] = [idx]\n",
    "    datasets.append(dataset_fake)\n",
    "\n",
    "table = datasets.info_table()\n",
    "# print(table)"
   ]
  },
  {
   "cell_type": "markdown",
   "id": "ea41dc95",
   "metadata": {},
   "source": [
    "<a id='step5.2'></a>\n",
    "### Step 5.2: Plotting Counts, Excess and Significance"
   ]
  },
  {
   "cell_type": "code",
   "execution_count": 34,
   "id": "8029e147",
   "metadata": {},
   "outputs": [
    {
     "data": {
      "image/png": "[encoded data removed]",
      "text/plain": [
       "<Figure size 1200x400 with 4 Axes>"
      ]
     },
     "metadata": {},
     "output_type": "display_data"
    }
   ],
   "source": [
    "fix, axes = plt.subplots(1, 4, figsize=(12, 4))\n",
    "axes[0].hist(table[\"counts\"])\n",
    "axes[0].set_xlabel(\"Counts\")\n",
    "axes[0].set_ylabel(\"Frequency\");\n",
    "\n",
    "axes[1].hist(table[\"counts_off\"])\n",
    "axes[1].set_xlabel(\"Counts Off\");\n",
    "\n",
    "axes[2].hist(table[\"excess\"])\n",
    "axes[2].set_xlabel(\"excess\");\n",
    "\n",
    "axes[3].hist(table[\"sqrt_ts\"])\n",
    "axes[3].set_xlabel(r\"significance ($\\sigma$)\");\n",
    "\n",
    "path_counts = mkdir_base_child(\"analysis\", \"counts\")\n",
    "\n",
    "plt_savefig(path_counts, \"counts\")"
   ]
  },
  {
   "cell_type": "markdown",
   "id": "5714f61c",
   "metadata": {},
   "source": [
    "<a id='step5.3'></a>\n",
    "### Step 5.3: Computing the Sensitivity"
   ]
  },
  {
   "cell_type": "code",
   "execution_count": 35,
   "id": "43c839f9",
   "metadata": {},
   "outputs": [
    {
     "name": "stderr",
     "output_type": "stream",
     "text": [
      "WARNING:root:Table column name energy will be deprecated by e_ref since v1.2\n"
     ]
    },
    {
     "name": "stdout",
     "output_type": "stream",
     "text": [
      "  energy    e_ref     e_min     e_max   ...  excess background  criterion  \n",
      "   TeV       TeV       TeV       TeV    ...                                \n",
      "--------- --------- --------- --------- ... ------- ---------- ------------\n",
      "0.0310979 0.0310979     0.025 0.0386832 ... 2781.94    27819.4          bkg\n",
      "0.0481186 0.0481186 0.0386832 0.0598555 ... 2071.62    20716.2          bkg\n",
      "0.0744552 0.0744552 0.0598555 0.0926161 ... 1411.46    14114.6          bkg\n",
      " 0.115207  0.115207 0.0926161  0.143307 ...  850.04     8500.4          bkg\n",
      " 0.178262  0.178262  0.143307  0.221743 ...  407.74     4077.4          bkg\n",
      "  0.27583   0.27583  0.221743  0.343109 ...   198.3       1983          bkg\n",
      "      ...       ...       ...       ... ...     ...        ...          ...\n",
      "  5.85755   5.85755   4.70896   7.28631 ... 14.4531       14.2 significance\n",
      "  9.06355   9.06355   7.28631   11.2743 ... 11.9241          9 significance\n",
      "  14.0243   14.0243   11.2743    17.445 ... 9.83814        5.6 significance\n",
      "  21.7001   21.7001    17.445   26.9932 ... 7.14856        2.4 significance\n",
      "  33.5772   33.5772   26.9932   41.7672 ... 5.94707        1.4 significance\n",
      "  51.9549   51.9549   41.7672   64.6276 ... 6.21488        1.6 significance\n",
      "  80.3913   80.3913   64.6276       100 ... 5.34791          1 significance\n",
      "Length = 19 rows\n"
     ]
    },
    {
     "data": {
      "image/png": "[encoded data removed]",
      "text/plain": [
       "<Figure size 500x300 with 1 Axes>"
      ]
     },
     "metadata": {},
     "output_type": "display_data"
    }
   ],
   "source": [
    "sensitivity_estimator = SensitivityEstimator(\n",
    "    gamma_min=5, \n",
    "    n_sigma=3, \n",
    "    bkg_syst_fraction=0.10\n",
    ")\n",
    "sensitivity_table = sensitivity_estimator.run(dataset_onoff)\n",
    "print(sensitivity_table)\n",
    "\n",
    "# Plot the sensitivity curve\n",
    "t = sensitivity_table\n",
    "\n",
    "fix, axes = plt.subplots(figsize=(5, 3))\n",
    "\n",
    "axes.plot(t[\"energy\"], t[\"e2dnde\"], \"s-\", color=\"red\")\n",
    "axes.loglog()\n",
    "\n",
    "axes.set_xlabel(f\"Energy ({t['energy'].unit})\", size=12)\n",
    "axes.set_ylabel(f\"Sensitivity ({t['e2dnde'].unit})\", size=12)\n",
    "\n",
    "path_sens = mkdir_base_child(\"analysis\", \"sensitivity\")\n",
    "\n",
    "plt_savefig(path_sens, \"sensitivity\")"
   ]
  },
  {
   "cell_type": "code",
   "execution_count": 40,
   "id": "9eadaf8a",
   "metadata": {},
   "outputs": [
    {
     "data": {
      "text/html": [
       "<div><i>Table length=19</i>\n",
       "<table id=\"table136292719430096\" class=\"table-striped table-bordered table-condensed\">\n",
       "<thead><tr><th>energy</th><th>e2dnde</th></tr></thead>\n",
       "<thead><tr><th>TeV</th><th>erg / (s cm2)</th></tr></thead>\n",
       "<thead><tr><th>float64</th><th>float64</th></tr></thead>\n",
       "<tr><td>0.0310979</td><td>3.24458e-11</td></tr>\n",
       "<tr><td>0.0481186</td><td>1.80199e-11</td></tr>\n",
       "<tr><td>0.0744552</td><td>5.02297e-12</td></tr>\n",
       "<tr><td>0.115207</td><td>1.86464e-12</td></tr>\n",
       "<tr><td>0.178262</td><td>7.68459e-13</td></tr>\n",
       "<tr><td>0.27583</td><td>3.46646e-13</td></tr>\n",
       "<tr><td>...</td><td>...</td></tr>\n",
       "<tr><td>9.06355</td><td>1.39078e-13</td></tr>\n",
       "<tr><td>14.0243</td><td>1.66216e-13</td></tr>\n",
       "<tr><td>21.7001</td><td>2.1519e-13</td></tr>\n",
       "<tr><td>33.5772</td><td>2.62569e-13</td></tr>\n",
       "<tr><td>51.9549</td><td>5.53086e-13</td></tr>\n",
       "<tr><td>80.3913</td><td>5.79058e-13</td></tr>\n",
       "</table></div>"
      ],
      "text/plain": [
       "<Table length=19>\n",
       "  energy      e2dnde   \n",
       "   TeV    erg / (s cm2)\n",
       " float64     float64   \n",
       "--------- -------------\n",
       "0.0310979   3.24458e-11\n",
       "0.0481186   1.80199e-11\n",
       "0.0744552   5.02297e-12\n",
       " 0.115207   1.86464e-12\n",
       " 0.178262   7.68459e-13\n",
       "  0.27583   3.46646e-13\n",
       "      ...           ...\n",
       "  9.06355   1.39078e-13\n",
       "  14.0243   1.66216e-13\n",
       "  21.7001    2.1519e-13\n",
       "  33.5772   2.62569e-13\n",
       "  51.9549   5.53086e-13\n",
       "  80.3913   5.79058e-13"
      ]
     },
     "execution_count": 40,
     "metadata": {},
     "output_type": "execute_result"
    }
   ],
   "source": [
    "sensitivity_table[[\"energy\", \"e2dnde\"]]"
   ]
  },
  {
   "cell_type": "markdown",
   "id": "013ea681",
   "metadata": {},
   "source": [
    "<a id='step5.4'></a>\n",
    "### Step 5.4:  Computing the Flux Points\n",
    "\n",
    "We can now compute some flux points using the `~gammapy.estimators.FluxPointsEstimator`. \n",
    "\n",
    "Besides the list of datasets to use, we must provide it the energy intervals on which to compute flux points as well as the model component name. "
   ]
  },
  {
   "cell_type": "code",
   "execution_count": 36,
   "id": "0b6306e7",
   "metadata": {
    "scrolled": true
   },
   "outputs": [
    {
     "data": {
      "text/html": [
       "<div><i>Table length=12</i>\n",
       "<table id=\"table136292704338848\" class=\"table-striped table-bordered table-condensed\">\n",
       "<thead><tr><th>e_ref</th><th>e_min</th><th>e_max</th><th>dnde</th><th>dnde_err</th><th>dnde_errp</th><th>dnde_errn</th><th>dnde_ul</th><th>ts</th><th>sqrt_ts</th><th>npred</th><th>npred_excess</th><th>stat</th><th>is_ul</th><th>counts</th><th>success</th><th>norm_scan</th><th>stat_scan</th></tr></thead>\n",
       "<thead><tr><th>TeV</th><th>TeV</th><th>TeV</th><th>1 / (TeV s cm2)</th><th>1 / (TeV s cm2)</th><th>1 / (TeV s cm2)</th><th>1 / (TeV s cm2)</th><th>1 / (TeV s cm2)</th><th></th><th></th><th></th><th></th><th></th><th></th><th></th><th></th><th></th><th></th></tr></thead>\n",
       "<thead><tr><th>float64</th><th>float64</th><th>float64</th><th>float64</th><th>float64</th><th>float64</th><th>float64</th><th>float64</th><th>float64</th><th>float64</th><th>float64[10]</th><th>float32[10]</th><th>float64</th><th>bool</th><th>float64[10]</th><th>bool</th><th>float64[11]</th><th>float64[11]</th></tr></thead>\n",
       "<tr><td>0.115</td><td>0.093</td><td>0.143</td><td>3.754e-15</td><td>5.541e-19</td><td>nan</td><td>nan</td><td>nan</td><td>0.001</td><td>0.028</td><td>8449.871347276221 .. 8479.871492008097</td><td>0.04567958 .. 0.04567958</td><td>8.222</td><td>True</td><td>8508.0 .. 8377.0</td><td>True</td><td>0.200 .. 5.000</td><td>8.223 .. 8.223</td></tr>\n",
       "<tr><td>0.178</td><td>0.143</td><td>0.222</td><td>1.187e-13</td><td>6.761e-13</td><td>nan</td><td>nan</td><td>nan</td><td>0.031</td><td>0.176</td><td>4020.557519064038 .. 4072.2245207407213</td><td>3.8608494 .. 3.8608494</td><td>8.384</td><td>True</td><td>3978.0 .. 4027.0</td><td>True</td><td>0.200 .. 5.000</td><td>8.415 .. 8.415</td></tr>\n",
       "<tr><td>0.276</td><td>0.222</td><td>0.343</td><td>9.142e-14</td><td>1.881e-13</td><td>nan</td><td>nan</td><td>nan</td><td>0.237</td><td>0.487</td><td>2000.0489478481732 .. 1988.740392161454</td><td>7.481894 .. 7.481894</td><td>5.372</td><td>True</td><td>2031.0 .. 1980.0</td><td>True</td><td>0.200 .. 5.000</td><td>5.609 .. 5.609</td></tr>\n",
       "<tr><td>0.531</td><td>0.343</td><td>0.821</td><td>-1.039e-14</td><td>1.655e-14</td><td>nan</td><td>nan</td><td>nan</td><td>0.389</td><td>-0.624</td><td>1420.9605268176126 .. 1425.6004594988374</td><td>-6.0910993 .. -6.0910993</td><td>13.703</td><td>True</td><td>1466.0 .. 1410.0</td><td>True</td><td>0.200 .. 5.000</td><td>14.092 .. 14.092</td></tr>\n",
       "<tr><td>1.022</td><td>0.821</td><td>1.271</td><td>4.525e-15</td><td>6.762e-15</td><td>nan</td><td>nan</td><td>nan</td><td>0.460</td><td>0.678</td><td>253.7560559480496 .. 251.7220614010277</td><td>3.6789782 .. 3.6789782</td><td>1.605</td><td>True</td><td>244.0 .. 256.0</td><td>True</td><td>0.200 .. 5.000</td><td>2.065 .. 2.062</td></tr>\n",
       "<tr><td>1.581</td><td>1.271</td><td>1.967</td><td>2.223e-15</td><td>2.978e-15</td><td>nan</td><td>nan</td><td>nan</td><td>0.563</td><td>0.750</td><td>143.77679101385618 .. 146.93632089977007</td><td>3.0943704 .. 3.0943704</td><td>14.440</td><td>True</td><td>135.0 .. 140.0</td><td>True</td><td>0.200 .. 5.000</td><td>15.003 .. 14.993</td></tr>\n",
       "<tr><td>2.447</td><td>1.967</td><td>3.043</td><td>-2.509e-16</td><td>1.207e-15</td><td>nan</td><td>nan</td><td>nan</td><td>0.043</td><td>-0.206</td><td>68.99005346609826 .. 77.32162878070228</td><td>-0.6119535 .. -0.6119535</td><td>12.798</td><td>True</td><td>69.0 .. 76.0</td><td>True</td><td>0.200 .. 5.000</td><td>12.841 .. 12.852</td></tr>\n",
       "<tr><td>3.786</td><td>3.043</td><td>4.709</td><td>-3.864e-16</td><td>4.388e-16</td><td>nan</td><td>nan</td><td>nan</td><td>0.759</td><td>-0.871</td><td>29.149734634088684 .. 42.11967985902176</td><td>-1.7466214 .. -1.7466214</td><td>13.952</td><td>True</td><td>23.0 .. 53.0</td><td>True</td><td>0.200 .. 5.000</td><td>14.719 .. 14.898</td></tr>\n",
       "<tr><td>5.858</td><td>4.709</td><td>7.286</td><td>1.150e-16</td><td>1.932e-16</td><td>nan</td><td>nan</td><td>nan</td><td>0.364</td><td>0.603</td><td>15.679070036695208 .. 14.2223477650006</td><td>0.81823367 .. 0.81823367</td><td>9.431</td><td>True</td><td>16.0 .. 10.0</td><td>True</td><td>0.200 .. 5.000</td><td>9.778 .. 9.494</td></tr>\n",
       "<tr><td>9.064</td><td>7.286</td><td>11.274</td><td>5.675e-17</td><td>7.764e-17</td><td>nan</td><td>nan</td><td>nan</td><td>0.555</td><td>0.745</td><td>8.145491260407363 .. 9.033968383463156</td><td>0.7718323 .. 0.7718323</td><td>14.886</td><td>True</td><td>8.0 .. 5.0</td><td>True</td><td>0.200 .. 5.000</td><td>15.367 .. 15.147</td></tr>\n",
       "<tr><td>14.024</td><td>11.274</td><td>17.445</td><td>2.597e-18</td><td>3.680e-17</td><td>3.815e-17</td><td>nan</td><td>8.177e-17</td><td>0.005</td><td>0.071</td><td>4.715828648955473 .. 5.214495398914368</td><td>0.05290125 .. 0.05290125</td><td>10.920</td><td>True</td><td>2.0 .. 3.0</td><td>True</td><td>0.200 .. 5.000</td><td>10.926 .. 20.789</td></tr>\n",
       "<tr><td>21.700</td><td>17.445</td><td>26.993</td><td>2.129e-17</td><td>2.317e-17</td><td>2.439e-17</td><td>nan</td><td>7.264e-17</td><td>0.929</td><td>0.964</td><td>2.6532847132304767 .. 2.5192338348521277</td><td>0.5192338 .. 0.5192338</td><td>9.630</td><td>True</td><td>1.0 .. 0.0</td><td>True</td><td>0.200 .. 5.000</td><td>10.117 .. 27.163</td></tr>\n",
       "</table></div>"
      ],
      "text/plain": [
       "<Table length=12>\n",
       " e_ref   e_min   e_max  ... success   norm_scan       stat_scan    \n",
       "  TeV     TeV     TeV   ...                                        \n",
       "float64 float64 float64 ...   bool   float64[11]     float64[11]   \n",
       "------- ------- ------- ... ------- -------------- ----------------\n",
       "  0.115   0.093   0.143 ...    True 0.200 .. 5.000   8.223 .. 8.223\n",
       "  0.178   0.143   0.222 ...    True 0.200 .. 5.000   8.415 .. 8.415\n",
       "  0.276   0.222   0.343 ...    True 0.200 .. 5.000   5.609 .. 5.609\n",
       "  0.531   0.343   0.821 ...    True 0.200 .. 5.000 14.092 .. 14.092\n",
       "  1.022   0.821   1.271 ...    True 0.200 .. 5.000   2.065 .. 2.062\n",
       "  1.581   1.271   1.967 ...    True 0.200 .. 5.000 15.003 .. 14.993\n",
       "  2.447   1.967   3.043 ...    True 0.200 .. 5.000 12.841 .. 12.852\n",
       "  3.786   3.043   4.709 ...    True 0.200 .. 5.000 14.719 .. 14.898\n",
       "  5.858   4.709   7.286 ...    True 0.200 .. 5.000   9.778 .. 9.494\n",
       "  9.064   7.286  11.274 ...    True 0.200 .. 5.000 15.367 .. 15.147\n",
       " 14.024  11.274  17.445 ...    True 0.200 .. 5.000 10.926 .. 20.789\n",
       " 21.700  17.445  26.993 ...    True 0.200 .. 5.000 10.117 .. 27.163"
      ]
     },
     "metadata": {},
     "output_type": "display_data"
    }
   ],
   "source": [
    "#Compute flux points\n",
    "datasets.models = [skymodel]\n",
    "\n",
    "fit_joint = Fit()\n",
    "result_joint = fit_joint.run(datasets=datasets)\n",
    "\n",
    "# we make a copy here to compare it later\n",
    "model_best_joint = skymodel.copy()\n",
    "\n",
    "energy_edges = MapAxis.from_energy_bounds(\"0.1 TeV\", \"30 TeV\", nbin=12).edges\n",
    "\n",
    "fpe = FluxPointsEstimator(energy_edges=energy_edges, source=\"model_simu\", selection_optional=\"all\")\n",
    "flux_points = fpe.run(datasets=datasets)\n",
    "\n",
    "display(flux_points.to_table(sed_type=\"dnde\", formatted=True))"
   ]
  },
  {
   "cell_type": "code",
   "execution_count": 37,
   "id": "b1f76197",
   "metadata": {},
   "outputs": [
    {
     "data": {
      "text/html": [
       "<div><i>Table length=12</i>\n",
       "<table id=\"table136292707029104\" class=\"table-striped table-bordered table-condensed\">\n",
       "<thead><tr><th>e_ref</th><th>e_min</th><th>e_max</th><th>ref_dnde</th><th>ref_flux</th><th>ref_eflux</th><th>norm</th><th>norm_err</th><th>norm_errn</th><th>norm_errp</th><th>norm_ul</th><th>ts</th><th>sqrt_ts</th><th>npred</th><th>npred_excess</th><th>stat</th><th>is_ul</th><th>counts</th><th>success</th><th>stat_scan</th><th>norm_scan</th></tr></thead>\n",
       "<thead><tr><th>TeV</th><th>TeV</th><th>TeV</th><th>1 / (TeV s cm2)</th><th>1 / (s cm2)</th><th>TeV / (s cm2)</th><th></th><th></th><th></th><th></th><th></th><th></th><th></th><th></th><th></th><th></th><th></th><th></th><th></th><th></th><th></th></tr></thead>\n",
       "<thead><tr><th>float64</th><th>float64</th><th>float64</th><th>float64</th><th>float64</th><th>float64</th><th>float64</th><th>float64</th><th>float64</th><th>float64</th><th>float64</th><th>float64</th><th>float64</th><th>float64[10]</th><th>float32[10]</th><th>float64</th><th>bool</th><th>float64[10]</th><th>bool</th><th>float64[11]</th><th>float64[11]</th></tr></thead>\n",
       "<tr><td>0.11520660415588542</td><td>0.0926160645759766</td><td>0.14330733768376508</td><td>3.9179509196307457e-19</td><td>2.0283394245511335e-20</td><td>2.4265159584631285e-21</td><td>9582.56778506148</td><td>1.4142135623730951</td><td>nan</td><td>nan</td><td>nan</td><td>0.0008011511527001858</td><td>0.02830461362923341</td><td>8449.871347276221 .. 8479.871492008097</td><td>0.04567958 .. 0.04567958</td><td>8.222461080760695</td><td>True</td><td>8508.0 .. 8377.0</td><td>True</td><td>8.223262214916758 .. 8.223261812934652</td><td>0.2 .. 4.999999999999999</td></tr>\n",
       "<tr><td>0.17826228960121232</td><td>0.14330733768376508</td><td>0.22174331340932085</td><td>5.847079196552556e-19</td><td>4.682967378770695e-20</td><td>8.668046713405079e-21</td><td>202925.85126137114</td><td>1156255.6825209537</td><td>nan</td><td>nan</td><td>nan</td><td>0.030813385266810656</td><td>0.17553741842356763</td><td>4020.557519064038 .. 4072.2245207407213</td><td>3.8608494 .. 3.8608494</td><td>8.38417287968332</td><td>True</td><td>3978.0 .. 4027.0</td><td>True</td><td>8.41498620423954 .. 8.414984746021219</td><td>0.2 .. 4.999999999999999</td></tr>\n",
       "<tr><td>0.2758300544200454</td><td>0.22174331340932085</td><td>0.3431094167016588</td><td>8.70412987339792e-19</td><td>1.0785248822161783e-19</td><td>3.0886128347931164e-20</td><td>105035.78573679455</td><td>216113.31354277872</td><td>nan</td><td>nan</td><td>nan</td><td>0.23712536547100171</td><td>0.48695519862817127</td><td>2000.0489478481732 .. 1988.740392161454</td><td>7.481894 .. 7.481894</td><td>5.371716365596512</td><td>True</td><td>2031.0 .. 1980.0</td><td>True</td><td>5.608840829343535 .. 5.6088191869203</td><td>0.2 .. 4.999999999999999</td></tr>\n",
       "<tr><td>0.5309024656452349</td><td>0.3431094167016588</td><td>0.8214797213603471</td><td>1.5690307075678243e-18</td><td>8.124322565602142e-19</td><td>4.969126241524602e-19</td><td>-6625.057242501978</td><td>10544.989070147205</td><td>nan</td><td>nan</td><td>nan</td><td>0.38916725662420504</td><td>-0.6238327152564259</td><td>1420.9605268176126 .. 1425.6004594988374</td><td>-6.0910993 .. -6.0910993</td><td>13.70260546982172</td><td>True</td><td>1466.0 .. 1410.0</td><td>True</td><td>14.091796365843038 .. 14.092363926276448</td><td>0.2 .. 4.999999999999999</td></tr>\n",
       "<tr><td>1.0218517652864825</td><td>0.8214797213603471</td><td>1.2710977557546597</td><td>2.8084447993614583e-18</td><td>1.2882452685728551e-18</td><td>1.3663382014794198e-18</td><td>1611.142554291624</td><td>2407.905295452538</td><td>nan</td><td>nan</td><td>nan</td><td>0.45960209033364663</td><td>0.6779395919502317</td><td>253.7560559480496 .. 251.7220614010277</td><td>3.6789782 .. 3.6789782</td><td>1.605012661220826</td><td>True</td><td>244.0 .. 256.0</td><td>True</td><td>2.06450140101515 .. 2.0617852090617816</td><td>0.2 .. 4.999999999999999</td></tr>\n",
       "<tr><td>1.5811388300841898</td><td>1.2710977557546597</td><td>1.9668038816697717</td><td>4.144904599972218e-18</td><td>2.9440517431720237e-18</td><td>4.8321786559057855e-18</td><td>536.2349592819381</td><td>718.5291816672635</td><td>nan</td><td>nan</td><td>nan</td><td>0.5625936220785661</td><td>0.7500624121221954</td><td>143.77679101385618 .. 146.93632089977007</td><td>3.0943704 .. 3.0943704</td><td>14.440425474120275</td><td>True</td><td>135.0 .. 140.0</td><td>True</td><td>15.0025975685694 .. 14.992528750583006</td><td>0.2 .. 4.999999999999999</td></tr>\n",
       "<tr><td>2.4465388081989654</td><td>1.9668038816697717</td><td>3.0432887568546065</td><td>6.140747561860971e-18</td><td>6.749254052929943e-18</td><td>1.7141947280040672e-17</td><td>-40.865845448310424</td><td>196.53325052912575</td><td>nan</td><td>nan</td><td>nan</td><td>0.04256844536121207</td><td>-0.20632121888262503</td><td>68.99005346609826 .. 77.32162878070228</td><td>-0.6119535 .. -0.6119535</td><td>12.798384209111646</td><td>True</td><td>69.0 .. 76.0</td><td>True</td><td>12.841372033329208 .. 12.852051241427489</td><td>0.2 .. 4.999999999999999</td></tr>\n",
       "<tr><td>3.785595563233942</td><td>3.0432887568546065</td><td>4.708962873174102</td><td>9.08354936354676e-18</td><td>1.5440919754041322e-17</td><td>6.067171263509886e-17</td><td>-42.535612494713185</td><td>48.30568493095885</td><td>nan</td><td>nan</td><td>nan</td><td>0.7594931241071663</td><td>-0.8714890269574059</td><td>29.149734634088684 .. 42.11967985902176</td><td>-1.7466214 .. -1.7466214</td><td>13.952407379705164</td><td>True</td><td>23.0 .. 53.0</td><td>True</td><td>14.718965058190633 .. 14.898066743413438</td><td>0.2 .. 4.999999999999999</td></tr>\n",
       "<tr><td>5.857554239626456</td><td>4.708962873174102</td><td>7.286305412520357</td><td>1.3353096892940901e-17</td><td>3.507675853662478e-17</td><td>2.1319896541496954e-16</td><td>8.615319572758182</td><td>14.464839923811532</td><td>nan</td><td>nan</td><td>nan</td><td>0.36375805483555723</td><td>0.6031235817272917</td><td>15.679070036695208 .. 14.2223477650006</td><td>0.81823367 .. 0.81823367</td><td>9.431079248378012</td><td>True</td><td>16.0 .. 10.0</td><td>True</td><td>9.777967654864199 .. 9.494410044261315</td><td>0.2 .. 4.999999999999999</td></tr>\n",
       "<tr><td>9.063551849911526</td><td>7.286305412520357</td><td>11.274297121127594</td><td>1.9396568514297905e-17</td><td>7.839210047165457e-17</td><td>7.365652758988918e-16</td><td>2.925863577539365</td><td>4.002835943366744</td><td>nan</td><td>nan</td><td>nan</td><td>0.5552748569768369</td><td>0.7451676703781752</td><td>8.145491260407363 .. 9.033968383463156</td><td>0.7718323 .. 0.7718323</td><td>14.886415170031569</td><td>True</td><td>8.0 .. 5.0</td><td>True</td><td>15.367205984004244 .. 15.147450346779863</td><td>0.2 .. 4.999999999999999</td></tr>\n",
       "<tr><td>14.02427852572021</td><td>11.274297121127594</td><td>17.445024381910745</td><td>2.6476610023831175e-17</td><td>1.6402084600599743e-16</td><td>2.3744941557545353e-15</td><td>0.09809637577558657</td><td>1.3897582980727339</td><td>nan</td><td>1.4409550441671792</td><td>3.0885674255617657</td><td>0.005016929678262727</td><td>0.07083028785952183</td><td>4.715828648955473 .. 5.214495398914368</td><td>0.05290125 .. 0.05290125</td><td>10.920383011056444</td><td>True</td><td>2.0 .. 3.0</td><td>True</td><td>10.9257216710024 .. 20.789159784384125</td><td>0.2 .. 4.999999999999999</td></tr>\n",
       "<tr><td>21.70014486858117</td><td>17.445024381910745</td><td>26.993157304250936</td><td>2.829408659286383e-17</td><td>2.654630406189439e-16</td><td>5.8587983060557065e-15</td><td>0.7523968310425537</td><td>0.8189245399547778</td><td>nan</td><td>0.8620134975208424</td><td>2.567236646294782</td><td>0.9285551355137578</td><td>0.9636156575698414</td><td>2.6532847132304767 .. 2.5192338348521277</td><td>0.5192338 .. 0.5192338</td><td>9.629760578662898</td><td>True</td><td>1.0 .. 0.0</td><td>True</td><td>10.117065564089689 .. 27.16344285143621</td><td>0.2 .. 4.999999999999999</td></tr>\n",
       "</table></div>"
      ],
      "text/plain": [
       "<Table length=12>\n",
       "       e_ref               e_min        ...        norm_scan        \n",
       "        TeV                 TeV         ...                         \n",
       "      float64             float64       ...       float64[11]       \n",
       "------------------- ------------------- ... ------------------------\n",
       "0.11520660415588542  0.0926160645759766 ... 0.2 .. 4.999999999999999\n",
       "0.17826228960121232 0.14330733768376508 ... 0.2 .. 4.999999999999999\n",
       " 0.2758300544200454 0.22174331340932085 ... 0.2 .. 4.999999999999999\n",
       " 0.5309024656452349  0.3431094167016588 ... 0.2 .. 4.999999999999999\n",
       " 1.0218517652864825  0.8214797213603471 ... 0.2 .. 4.999999999999999\n",
       " 1.5811388300841898  1.2710977557546597 ... 0.2 .. 4.999999999999999\n",
       " 2.4465388081989654  1.9668038816697717 ... 0.2 .. 4.999999999999999\n",
       "  3.785595563233942  3.0432887568546065 ... 0.2 .. 4.999999999999999\n",
       "  5.857554239626456   4.708962873174102 ... 0.2 .. 4.999999999999999\n",
       "  9.063551849911526   7.286305412520357 ... 0.2 .. 4.999999999999999\n",
       "  14.02427852572021  11.274297121127594 ... 0.2 .. 4.999999999999999\n",
       "  21.70014486858117  17.445024381910745 ... 0.2 .. 4.999999999999999"
      ]
     },
     "metadata": {},
     "output_type": "display_data"
    }
   ],
   "source": [
    "display(flux_points.to_table())"
   ]
  },
  {
   "cell_type": "code",
   "execution_count": 38,
   "id": "d0390bfd",
   "metadata": {},
   "outputs": [
    {
     "ename": "NameError",
     "evalue": "name 'j' is not defined",
     "output_type": "error",
     "traceback": [
      "\u001b[0;31m---------------------------------------------------------------------------\u001b[0m",
      "\u001b[0;31mNameError\u001b[0m                                 Traceback (most recent call last)",
      "Cell \u001b[0;32mIn[38], line 1\u001b[0m\n\u001b[0;32m----> 1\u001b[0m flux_points[\u001b[38;5;124m\"\u001b[39m\u001b[38;5;124mdnde\u001b[39m\u001b[38;5;124m\"\u001b[39m]\u001b[38;5;241m.\u001b[39mdata[\u001b[43mj\u001b[49m]\n",
      "\u001b[0;31mNameError\u001b[0m: name 'j' is not defined"
     ]
    }
   ],
   "source": [
    "flux_points[\"dnde\"].data[j]"
   ]
  },
  {
   "cell_type": "code",
   "execution_count": null,
   "id": "c8297cab",
   "metadata": {},
   "outputs": [],
   "source": [
    "dnde"
   ]
  },
  {
   "cell_type": "code",
   "execution_count": null,
   "id": "5b7cca55",
   "metadata": {
    "scrolled": true
   },
   "outputs": [],
   "source": [
    "e_ref = []\n",
    "e_min = []\n",
    "e_max = []\n",
    "dnde = []\n",
    "dnde_err = []\n",
    "subtract_emin = []\n",
    "subtract_emax = []\n",
    "\n",
    "for j in range(len(flux_points[\"energy_max\"].value)):\n",
    "    if flux_points[\"dnde\"].data[j] > 0:\n",
    "        e_ref.append(flux_points[\"energy_ref\"].value[j])\n",
    "        e_min.append(flux_points[\"energy_min\"].value[j])\n",
    "        e_max.append(flux_points[\"energy_max\"].value[j])\n",
    "        dnde.append(flux_points[\"dnde\"].data[j][0])\n",
    "        dnde_err.append(flux_points[\"dnde_err\"].data[j][0])\n",
    "        \n",
    "flux_TEV = np.hstack((dnde))#*1e+06\n",
    "flux_err_TEV = np.hstack((dnde_err))#*1e+06  \n",
    "energy = np.hstack((e_ref))\n",
    "\n",
    "#print(len(energy), len(flux_TEV))\n",
    "#print(energy)\n",
    "#print(np.asarray(flux_TEV))\n",
    "#print(np.hstack((e_ref))-np.hstack((e_min)), np.hstack((e_max))-np.hstack((e_ref)))\n",
    "\n",
    "energy_bounds = [0.1, 50] * u.TeV\n",
    "plt.figure()\n",
    "absspecmodel.plot(\n",
    "    energy_bounds, \n",
    "    label='intrinsic spectrum + EBL'\n",
    ")\n",
    "\n",
    "xerr = [np.hstack((e_ref))-np.hstack((e_min)), np.hstack((e_max))-np.hstack((e_ref))]\n",
    "plt.errorbar(\n",
    "    e_ref, \n",
    "    flux_TEV, \n",
    "    color='red', \n",
    "    marker='o', \n",
    "    xerr = xerr, \n",
    "    yerr = flux_err_TEV, \n",
    "    linestyle='', \n",
    "    label='measured spectrum')\n",
    "plt.grid(which=\"both\")\n",
    "plt.ylim(1e-24, 1e-8)\n",
    "plt.legend(loc=\"best\")\n",
    "plt.title(\"M87\")\n",
    "\n",
    "path_flux = mkdir_base_child(\"analysis\", \"flux_point\")\n",
    "\n",
    "plt_savefig(path_flux, \"flux_point\")\n",
    "\n",
    "plt.savefig('./spectrum_srcM87.png', bbox_inches='tight')\n",
    "\n",
    "plt.savefig('./M87_gammapy_flux_point.png', bbox_inches='tight')\n",
    "plt.savefig('./M87_gammapy_flux_point.pdf', bbox_inches='tight')\n",
    "\n",
    "plt.show()\n"
   ]
  },
  {
   "cell_type": "markdown",
   "id": "e63ae483",
   "metadata": {},
   "source": [
    "___"
   ]
  },
  {
   "cell_type": "markdown",
   "id": "6803c7ef",
   "metadata": {},
   "source": [
    "🔝 [Back to Top](#intro)<br>"
   ]
  }
 ],
 "metadata": {
  "kernelspec": {
   "display_name": "Python 3 (ipykernel)",
   "language": "python",
   "name": "python3"
  },
  "language_info": {
   "codemirror_mode": {
    "name": "ipython",
    "version": 3
   },
   "file_extension": ".py",
   "mimetype": "text/x-python",
   "name": "python",
   "nbconvert_exporter": "python",
   "pygments_lexer": "ipython3",
   "version": "3.9.18"
  }
 },
 "nbformat": 4,
 "nbformat_minor": 5
}
