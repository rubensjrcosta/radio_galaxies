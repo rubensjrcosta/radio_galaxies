{
 "cells": [
  {
   "cell_type": "markdown",
   "id": "c0b5edd3",
   "metadata": {},
   "source": [
    "<a id='intro'></a>\n",
    "## Simulation of a Single Spectrum\n",
    "\n",
    "We will simulate the energy spectrum of 3FHL J1230.8+1223 from the Fermi-LAT 3FHL source catalog considering the Dominguez EBL absorption spectral model. To do a simulation, we need to define the observational parameters like\n",
    "the livetime, the offset, the assumed integration radius, the energy\n",
    "range to perform the simulation for and the choice of spectral model. We\n",
    "then use an in-memory observation which is convolved with the IRFs to\n",
    "get the predicted number of counts. This is Poission fluctuated using\n",
    "the `fake()` to get the simulated counts for each observation."
   ]
  },
  {
   "cell_type": "markdown",
   "id": "44805999",
   "metadata": {},
   "source": [
    "<a id='indice'></a>\n",
    "### Indice\n",
    "[Step 0.0:  Setting the Engine Tools](#step0)<br>\n",
    "$\\;\\;\\;\\;\\;$[Step 0.1:  Importing the Python Necessary Tools](#step0.1)<br>\n",
    "$\\;\\;\\;\\;\\;$[Step 0.2:  Defining Functions](#step0.2)<br>\n",
    "[Step 1.0: Source Information](#step1)<br>\n",
    "[Step 2.0: Creates the Observation](#step2)<br>\n",
    "[Step 3.0: Defining the Skymodel](#step3)<br>\n",
    "[Step 4.0: Simulating the Spectrum](#step4)<br>\n",
    "$\\;\\;\\;\\;\\;$[Step 4.1: Defines the geometry](#step4.1)<br> \n",
    "$\\;\\;\\;\\;\\;$[Step 4.2: Setting the Model on the Dataset](#step4.2)<br> \n",
    "[Step 5.0: On-Off Analysis](#step5)<br>\n",
    "$\\;\\;\\;\\;\\;$[Step 5.1: Simulating the Observations](#step5.1)<br>\n",
    "$\\;\\;\\;\\;\\;$[Step 5.2: Plotting Counts, Excess and Significance](#step5.2)<br>\n",
    "$\\;\\;\\;\\;\\;$[Step 5.3: Computing the Sensitivity](#step5.3)<br>\n",
    "$\\;\\;\\;\\;\\;$[Step 5.4 Computing the Flux Points](#step5.4)<br>"
   ]
  },
  {
   "cell_type": "markdown",
   "id": "3bdb2877",
   "metadata": {},
   "source": [
    "<a id='step0'></a>\n",
    "## Step 0.0:  Setting the Engine Tools\n",
    "\n",
    "<a id='step0.1'></a>\n",
    "### Step 0.1: Importing the Python Necessary Tools"
   ]
  },
  {
   "cell_type": "code",
   "execution_count": 1,
   "id": "59ef12b1",
   "metadata": {},
   "outputs": [],
   "source": [
    "import gammapy\n",
    "from astropy import units as u\n",
    "import numpy as np\n",
    "from astropy.io import ascii\n",
    "import collections\n",
    "import sys, os\n",
    "import matplotlib.pyplot as plt\n",
    "\n",
    "from gammapy.catalog import SourceCatalog3FHL\n",
    "from gammapy.makers import SpectrumDatasetMaker, SafeMaskMaker, ReflectedRegionsBackgroundMaker\n",
    "from gammapy.modeling import Fit\n",
    "from gammapy.data import Observation, Observations, observatory_locations\n",
    "from gammapy.datasets import SpectrumDatasetOnOff, SpectrumDataset, Datasets\n",
    "from gammapy.irf import load_cta_irfs\n",
    "from gammapy.maps import MapAxis, RegionGeom\n",
    "\n",
    "from gammapy.modeling.models import (\n",
    "    EBLAbsorptionNormSpectralModel,\n",
    "    Models,\n",
    "    PowerLawSpectralModel,\n",
    "    SkyModel,\n",
    ")\n",
    "\n",
    "from gammapy.irf import EffectiveAreaTable2D\n",
    "\n",
    "from numpy.random import RandomState\n",
    "\n",
    "from scipy.stats import chi2, norm\n",
    "\n",
    "from gammapy.estimators import FluxPointsEstimator\n",
    "from gammapy.estimators import FluxPoints\n",
    "from gammapy.datasets import FluxPointsDataset\n",
    "\n",
    "# astropy imports\n",
    "from astropy.coordinates import SkyCoord, Angle\n",
    "from astropy import units as u\n",
    "from astropy.io import fits\n",
    "from astropy.table import Table, Column\n",
    "\n",
    "from gammapy.estimators import SensitivityEstimator\n",
    "\n",
    "# astropy affiliated packages imports\n",
    "from regions import CircleSkyRegion\n",
    "\n",
    "from gammapy.stats import WStatCountsStatistic\n",
    "from gammapy.stats import CashCountsStatistic\n",
    "from scipy.stats import sem\n",
    "from gammapy.maps import Map\n",
    "from regions import PointSkyRegion\n",
    "\n",
    "import math\n",
    "\n",
    "from pathlib import Path"
   ]
  },
  {
   "cell_type": "markdown",
   "id": "d6e287e3",
   "metadata": {},
   "source": [
    "<a id='step0.2'></a>\n",
    "### Step 0.2: Defining Functions"
   ]
  },
  {
   "cell_type": "code",
   "execution_count": 2,
   "id": "6e973926",
   "metadata": {},
   "outputs": [],
   "source": [
    "def mkdir_base_child(base_dir, child_dir):\n",
    "    '''Creates a directory: base_dir/child_dir and returs the path \n",
    "    mkdir_base_child(base_dir, child_dir)\n",
    "    >>> path_child\n",
    "    '''\n",
    "    path_base = Path(f\"{base_dir}\")\n",
    "    path_base.mkdir(exist_ok=True)\n",
    "\n",
    "    path_child = Path(f\"{path_base}/{child_dir}\")\n",
    "    path_child.mkdir(exist_ok=True)\n",
    "    \n",
    "    return path_child"
   ]
  },
  {
   "cell_type": "code",
   "execution_count": 3,
   "id": "486cbaac",
   "metadata": {},
   "outputs": [],
   "source": [
    "def plt_savefig(path_child, child_name):\n",
    "    ''' Saves figures (.png and .pdf) in the path_child directoty    \n",
    "    plt_savefig(path_child, child_name)\n",
    "    >>> plt.savefig(file, bbox_inches='tight')\n",
    "    '''\n",
    "    formats_file = [\".png\", \".pdf\"]\n",
    "    for format_file in formats_file: \n",
    "        file = path_child / f'{src_id}_{child_name}_{ebl_ref}{format_file}'\n",
    "        plt.savefig(file, bbox_inches='tight')\n"
   ]
  },
  {
   "cell_type": "markdown",
   "id": "19987720",
   "metadata": {},
   "source": [
    "___"
   ]
  },
  {
   "cell_type": "markdown",
   "id": "32463b2e",
   "metadata": {},
   "source": [
    "🔝 [Back to Top](#intro)<br>"
   ]
  },
  {
   "cell_type": "markdown",
   "id": "a784cfbd",
   "metadata": {},
   "source": [
    "<a id='step1'></a>\n",
    "## Step 1.0:  Source Information"
   ]
  },
  {
   "cell_type": "code",
   "execution_count": 4,
   "id": "63da27bf",
   "metadata": {},
   "outputs": [],
   "source": [
    "SourceCatalog = SourceCatalog3FHL() # Fermi-LAT 3FHL source catalog\n",
    "# display(SourceCatalog.table)"
   ]
  },
  {
   "cell_type": "code",
   "execution_count": 5,
   "id": "c02760d7",
   "metadata": {},
   "outputs": [],
   "source": [
    "src_name = \"3FHL J1230.8+1223\"  # Official source name 3FHL JHHMM.m+DDMM"
   ]
  },
  {
   "cell_type": "code",
   "execution_count": 6,
   "id": "81403bcc",
   "metadata": {},
   "outputs": [],
   "source": [
    "src_data = SourceCatalog[src_name].data\n",
    "# src_data"
   ]
  },
  {
   "cell_type": "code",
   "execution_count": 7,
   "id": "b3bf058b",
   "metadata": {},
   "outputs": [],
   "source": [
    "src_id  = src_data[\"ASSOC1\"].replace(\" \", \"\") # Name of identified or likely associated source\n",
    "\n",
    "src_ra  = src_data[\"RAJ2000\"]  # Right Ascension (deg)\n",
    "src_de  = src_data[\"DEJ2000\"]  # Declination (deg)\n",
    "\n",
    "src_red = src_data[\"Redshift\"] # Redshift of counterpart, if known"
   ]
  },
  {
   "cell_type": "code",
   "execution_count": 8,
   "id": "45e38604",
   "metadata": {},
   "outputs": [
    {
     "name": "stdout",
     "output_type": "stream",
     "text": [
      "M87 Source Information:\n",
      "(RAJ2000, DEJ2000) = (187.703 deg, 12.389 deg); Redshift = 0.004\n"
     ]
    }
   ],
   "source": [
    "print(f\"{src_id} Source Information:\")\n",
    "print(f\"(RAJ2000, DEJ2000) = ({src_ra:.3f}, {src_de:.3f}); Redshift = {src_red:.3f}\" )"
   ]
  },
  {
   "cell_type": "markdown",
   "id": "3528d87a",
   "metadata": {},
   "source": [
    "___"
   ]
  },
  {
   "cell_type": "markdown",
   "id": "dbd6b4ba",
   "metadata": {},
   "source": [
    "🔝 [Back to Top](#intro)<br>"
   ]
  },
  {
   "cell_type": "markdown",
   "id": "cb47a787",
   "metadata": {},
   "source": [
    "<a id='step2'></a>\n",
    "## Step 2.0:  Creates the Observation"
   ]
  },
  {
   "cell_type": "markdown",
   "id": "7ad701bb",
   "metadata": {},
   "source": [
    "Define the source position:"
   ]
  },
  {
   "cell_type": "code",
   "execution_count": 9,
   "id": "9e294533",
   "metadata": {},
   "outputs": [],
   "source": [
    "frame  = \"icrs\" # International Celestial Reference System (ICRS)\n",
    "unit   = \"deg\"  # Degrees units"
   ]
  },
  {
   "cell_type": "code",
   "execution_count": 10,
   "id": "c6834e14",
   "metadata": {},
   "outputs": [],
   "source": [
    "src_pos = SkyCoord(src_ra, src_de, unit=unit, frame=frame) # Source Position"
   ]
  },
  {
   "cell_type": "markdown",
   "id": "e991ac82",
   "metadata": {},
   "source": [
    "Define the observation parameters (typically the observation duration and the pointing position):\n"
   ]
  },
  {
   "cell_type": "code",
   "execution_count": 11,
   "id": "2d8151b9",
   "metadata": {},
   "outputs": [],
   "source": [
    "livetime = 5 * u.h # Livetime exposure of the simulated observation\n",
    "\n",
    "offset = 0.5 * u.deg # Pointing position  offset\n",
    "pointing = SkyCoord(src_pos.ra, src_pos.dec + offset, unit=unit, frame=frame)\n",
    "# print(pointing)"
   ]
  },
  {
   "cell_type": "markdown",
   "id": "91751de7",
   "metadata": {},
   "source": [
    "Load the IRFs:"
   ]
  },
  {
   "cell_type": "code",
   "execution_count": 12,
   "id": "b9fe17ab",
   "metadata": {},
   "outputs": [
    {
     "name": "stderr",
     "output_type": "stream",
     "text": [
      "WARNING: UnitsWarning: '1/(MeV s sr)' did not parse as fits unit: Numeric factor not supported by FITS If this is meant to be a custom unit, define it with 'u.def_unit'. To have it recognized inside a file reader or other code, enable it with 'u.add_enabled_units'. For details, see https://docs.astropy.org/en/latest/units/combining_and_defining.html [astropy.units.core]\n",
      "Invalid unit found in background table! Assuming (s-1 MeV-1 sr-1)\n"
     ]
    }
   ],
   "source": [
    "# In this simulation, we use the CTA-1DC irfs shipped with gammapy\n",
    "base_name = '/home/bornagain/Documents/GitHub/gammapy/gammapy-notebooks/0.20.1/tutorials/data/caldb/data/cta/prod3b-v2/bcf'\n",
    "irfs = load_cta_irfs(base_name + '/North_z20_5h/irf_file.fits')"
   ]
  },
  {
   "cell_type": "markdown",
   "id": "1ba185c7",
   "metadata": {},
   "source": [
    "Creates a observation:"
   ]
  },
  {
   "cell_type": "code",
   "execution_count": 13,
   "id": "ae83bd1a",
   "metadata": {},
   "outputs": [],
   "source": [
    "location = observatory_locations[\"cta_north\"]\n",
    "obs = Observation.create(\n",
    "    pointing=pointing,\n",
    "    livetime=livetime,\n",
    "    irfs=irfs,\n",
    "    location=location,\n",
    ")\n",
    "# print(obs)"
   ]
  },
  {
   "cell_type": "markdown",
   "id": "4ce16ebf",
   "metadata": {},
   "source": [
    "___"
   ]
  },
  {
   "cell_type": "markdown",
   "id": "74e31167",
   "metadata": {},
   "source": [
    "🔝 [Back to Top](#intro)<br>"
   ]
  },
  {
   "cell_type": "markdown",
   "id": "fc40f6bf",
   "metadata": {},
   "source": [
    "<a id='step3'></a>\n",
    "## Step 3.0:  Defining the Skymodel\n",
    "Define spectral model:"
   ]
  },
  {
   "cell_type": "code",
   "execution_count": 14,
   "id": "0728d768",
   "metadata": {},
   "outputs": [],
   "source": [
    "# A simple Power Law\n",
    "index=2.24\n",
    "amplitude=6.47e-13 * u.Unit(\"cm-2 s-1 TeV-1\")\n",
    "reference=0.1 * u.TeV\n",
    "    \n",
    "pwl = PowerLawSpectralModel(\n",
    "    index=index,\n",
    "    amplitude=amplitude,\n",
    "    reference=reference,\n",
    ")\n",
    "# print(pwl)"
   ]
  },
  {
   "cell_type": "markdown",
   "id": "44d70888",
   "metadata": {},
   "source": [
    "Define absorption model:"
   ]
  },
  {
   "cell_type": "code",
   "execution_count": 15,
   "id": "f04f4df6",
   "metadata": {
    "scrolled": true
   },
   "outputs": [],
   "source": [
    "ebl_models = ['franceschini', 'dominguez', 'finke'] # Available models in gammapy-data:{'franceschini', 'dominguez', 'finke'}\n",
    "\n",
    "ebl_ref = ebl_models[1] # dominguez\n",
    "\n",
    "absorption = EBLAbsorptionNormSpectralModel.read_builtin(\n",
    "    reference = ebl_ref, \n",
    "    redshift=src_red\n",
    ")\n",
    "# print(absorption)"
   ]
  },
  {
   "cell_type": "markdown",
   "id": "5dc48eb3",
   "metadata": {},
   "source": [
    "The compound spectral model:"
   ]
  },
  {
   "cell_type": "code",
   "execution_count": 16,
   "id": "4758a3f5",
   "metadata": {},
   "outputs": [],
   "source": [
    "absspecmodel = pwl * absorption # CompoundSpectralModel\n",
    "# print(absspecmodel)"
   ]
  },
  {
   "cell_type": "markdown",
   "id": "3d21f4b0",
   "metadata": {},
   "source": [
    "Setting the sky model used in the dataset:"
   ]
  },
  {
   "cell_type": "code",
   "execution_count": 17,
   "id": "81ef12a6",
   "metadata": {},
   "outputs": [],
   "source": [
    "skymodel = SkyModel(\n",
    "    spectral_model=absspecmodel, \n",
    "    name=\"model_simu\"\n",
    ")\n",
    "# print(skymodel)"
   ]
  },
  {
   "cell_type": "markdown",
   "id": "644e3b64",
   "metadata": {},
   "source": [
    "___"
   ]
  },
  {
   "cell_type": "markdown",
   "id": "c2986b6a",
   "metadata": {},
   "source": [
    "🔝 [Back to Top](#intro)<br>"
   ]
  },
  {
   "cell_type": "markdown",
   "id": "38344d22",
   "metadata": {},
   "source": [
    "<a id='step4'></a>\n",
    "## Step 4.0:  Simulating the Spectrum\n",
    "<a id='step4.1'></a>\n",
    "### Step 4.1: Defines the geometry"
   ]
  },
  {
   "cell_type": "code",
   "execution_count": 18,
   "id": "465303cf",
   "metadata": {},
   "outputs": [],
   "source": [
    "# Defines the energy range\n",
    "emin = 25 * u.GeV   # Minimum energy\n",
    "emax = 100. * u.TeV # Maximum energy"
   ]
  },
  {
   "cell_type": "code",
   "execution_count": 19,
   "id": "2d570029",
   "metadata": {},
   "outputs": [],
   "source": [
    "# Reconstructed energy axis\n",
    "energy_reco = MapAxis.from_energy_bounds(\n",
    "    emin, \n",
    "    emax, \n",
    "    nbin=5, \n",
    "    per_decade=True, \n",
    "    name=\"energy\"\n",
    ")\n",
    "# print(energy_reco)"
   ]
  },
  {
   "cell_type": "code",
   "execution_count": 20,
   "id": "8f4df87d",
   "metadata": {},
   "outputs": [],
   "source": [
    "# Defines the on region:\n",
    "on_region_radius = Angle(\"0.11 deg\")\n",
    "\n",
    "on_region = CircleSkyRegion(\n",
    "    center=src_pos, \n",
    "    radius=on_region_radius\n",
    ")\n",
    "# print(on_region)"
   ]
  },
  {
   "cell_type": "code",
   "execution_count": 21,
   "id": "11618e5c",
   "metadata": {},
   "outputs": [],
   "source": [
    "#Defines the geometry:\n",
    "geom = RegionGeom.create(\n",
    "    region=on_region, \n",
    "    axes=[energy_reco]\n",
    ")"
   ]
  },
  {
   "cell_type": "markdown",
   "id": "aacadc10",
   "metadata": {},
   "source": [
    "<a id='step4.2'></a>\n",
    "### Step 4.2: Setting the Model on the Dataset"
   ]
  },
  {
   "cell_type": "code",
   "execution_count": 22,
   "id": "53aabe70",
   "metadata": {},
   "outputs": [],
   "source": [
    "# Defines the true energy axis:\n",
    "# true energy axis should be wider than reco energy axis\n",
    "energy_true = MapAxis.from_energy_bounds(\n",
    "    0.3*emin, \n",
    "    3*emax, \n",
    "    nbin=8, \n",
    "    per_decade=True, \n",
    "    name=\"energy_true\"\n",
    ")\n",
    "# print(energy_true)"
   ]
  },
  {
   "cell_type": "code",
   "execution_count": 23,
   "id": "d54d2ed2",
   "metadata": {},
   "outputs": [],
   "source": [
    "# Create a MapDataset object with zero filled maps.\n",
    "dataset_empty = SpectrumDataset.create(\n",
    "    geom=geom, \n",
    "    energy_axis_true=energy_true,\n",
    "    name=\"obs-0\"\n",
    ")"
   ]
  },
  {
   "cell_type": "code",
   "execution_count": 24,
   "id": "d59c8e31",
   "metadata": {},
   "outputs": [],
   "source": [
    "# Make spectrum for a single IACT observation:\n",
    "# The irfs and background are computed at a single fixed offset, which is recommended only for point-sources.\n",
    "maker = SpectrumDatasetMaker(\n",
    "    containment_correction=True, # Apply containment correction for point sources and circular on regions.\n",
    "    selection=[\"edisp\", \"background\", \"exposure\"] # Selecting which maps to make\n",
    ")\n",
    "safe_maker = SafeMaskMaker(methods=[\"bkg-peak\"]) # Make safe data range mask for a given observation."
   ]
  },
  {
   "cell_type": "code",
   "execution_count": 25,
   "id": "dc9b92e8",
   "metadata": {},
   "outputs": [],
   "source": [
    "# Make map dataset:\n",
    "dataset = maker.run(dataset_empty, obs) \n",
    "dataset = safe_maker.run(dataset, obs)"
   ]
  },
  {
   "cell_type": "code",
   "execution_count": 26,
   "id": "15fa2605",
   "metadata": {},
   "outputs": [],
   "source": [
    "# Set the model on the dataset, and fake\n",
    "dataset.models = skymodel\n",
    "dataset.fake(random_state=42)\n",
    "# print(dataset)"
   ]
  },
  {
   "cell_type": "markdown",
   "id": "a16aaedc",
   "metadata": {},
   "source": [
    "You can see that background counts are now simulated."
   ]
  },
  {
   "cell_type": "markdown",
   "id": "f5833551",
   "metadata": {},
   "source": [
    "___"
   ]
  },
  {
   "cell_type": "markdown",
   "id": "3091a851",
   "metadata": {},
   "source": [
    "🔝 [Back to Top](#intro)<br>"
   ]
  },
  {
   "cell_type": "markdown",
   "id": "e9184705",
   "metadata": {},
   "source": [
    "<a id='step5'></a>\n",
    "### Step 5.0: On-Off Analysis\n",
    "\n",
    "To do an on off spectral analysis, which is the usual science case, the\n",
    "standard would be to use `SpectrumDatasetOnOff`, which uses the\n",
    "acceptance to fake off-counts"
   ]
  },
  {
   "cell_type": "markdown",
   "id": "bc2e9496",
   "metadata": {},
   "source": [
    "<a id='step5.1'></a>\n",
    "### Step 5.1: Simulating the Observations"
   ]
  },
  {
   "cell_type": "code",
   "execution_count": 27,
   "id": "cec597d4",
   "metadata": {},
   "outputs": [],
   "source": [
    "# Spectrum dataset for on-off likelihood fitting.\n",
    "dataset_onoff = SpectrumDatasetOnOff.from_spectrum_dataset(\n",
    "    dataset=dataset, \n",
    "    acceptance=1, \n",
    "    acceptance_off=5\n",
    ")\n",
    "\n",
    "# Simulate fake counts (on and off) for the current model and reduced IRFs.\n",
    "dataset_onoff.fake(\n",
    "    random_state='random-seed', \n",
    "    npred_background=dataset.npred_background()\n",
    ")\n",
    "\n",
    "# print(dataset_onoff)"
   ]
  },
  {
   "cell_type": "code",
   "execution_count": 28,
   "id": "68a76332",
   "metadata": {},
   "outputs": [],
   "source": [
    "# Class to compute statistics for Poisson distributed variable with unknown background.\n",
    "significance = WStatCountsStatistic(\n",
    "    n_on=sum(dataset_onoff.counts.data), \n",
    "    n_off=sum(dataset_onoff.counts_off.data), \n",
    "    alpha=0.2).sqrt_ts\n",
    "# print(significance)"
   ]
  },
  {
   "cell_type": "code",
   "execution_count": 29,
   "id": "2c521f88",
   "metadata": {},
   "outputs": [],
   "source": [
    "n_obs = 100 # We simulate each observation n_obs times, to randomize the renortets"
   ]
  },
  {
   "cell_type": "code",
   "execution_count": 30,
   "id": "c9fb961f",
   "metadata": {},
   "outputs": [],
   "source": [
    "datasets = Datasets()\n",
    "\n",
    "for idx in range(n_obs):\n",
    "    dataset_onoff.fake(\n",
    "        random_state=idx, \n",
    "        npred_background=dataset.npred_background()\n",
    "    )\n",
    "    dataset_fake = dataset_onoff.copy(name=f\"obs-{idx}\")\n",
    "    dataset_fake.meta_table[\"OBS_ID\"] = [idx]\n",
    "    datasets.append(dataset_fake)\n",
    "\n",
    "table = datasets.info_table()\n",
    "# print(table)"
   ]
  },
  {
   "cell_type": "markdown",
   "id": "ea41dc95",
   "metadata": {},
   "source": [
    "<a id='step5.2'></a>\n",
    "### Step 5.2: Plotting Counts, Excess and Significance"
   ]
  },
  {
   "cell_type": "code",
   "execution_count": 31,
   "id": "8029e147",
   "metadata": {},
   "outputs": [
    {
     "data": {
      "image/png": "[encoded data removed]",
      "text/plain": [
       "<Figure size 1200x400 with 4 Axes>"
      ]
     },
     "metadata": {},
     "output_type": "display_data"
    }
   ],
   "source": [
    "fix, axes = plt.subplots(1, 4, figsize=(12, 4))\n",
    "axes[0].hist(table[\"counts\"])\n",
    "axes[0].set_xlabel(\"Counts\")\n",
    "axes[0].set_ylabel(\"Frequency\");\n",
    "\n",
    "axes[1].hist(table[\"counts_off\"])\n",
    "axes[1].set_xlabel(\"Counts Off\");\n",
    "\n",
    "axes[2].hist(table[\"excess\"])\n",
    "axes[2].set_xlabel(\"excess\");\n",
    "\n",
    "axes[3].hist(table[\"sqrt_ts\"])\n",
    "axes[3].set_xlabel(r\"significance ($\\sigma$)\");\n",
    "\n",
    "path_counts = mkdir_base_child(\"analysis\", \"counts\")\n",
    "\n",
    "plt_savefig(path_counts, \"counts\")"
   ]
  },
  {
   "cell_type": "markdown",
   "id": "5714f61c",
   "metadata": {},
   "source": [
    "<a id='step5.3'></a>\n",
    "### Step 5.3: Computing the Sensitivity"
   ]
  },
  {
   "cell_type": "code",
   "execution_count": 32,
   "id": "43c839f9",
   "metadata": {},
   "outputs": [
    {
     "name": "stdout",
     "output_type": "stream",
     "text": [
      "  energy      e2dnde     excess background  criterion  \n",
      "   TeV    erg / (cm2 s)                                \n",
      "--------- ------------- ------- ---------- ------------\n",
      "0.0310979   1.47177e-11 109.282     1063.8 significance\n",
      "0.0481186   9.37735e-12  98.793      865.8 significance\n",
      "0.0744552   3.55955e-12 81.3885      582.2 significance\n",
      " 0.115207   1.81252e-12 66.7582      387.2 significance\n",
      " 0.178262   1.05371e-12 47.3399      189.6 significance\n",
      "  0.27583   7.14114e-13 34.9483        100 significance\n",
      " 0.426799   5.46062e-13  24.753       47.6 significance\n",
      " 0.660398   4.50178e-13 16.3967         19 significance\n",
      "  1.02185   3.85243e-13 12.8667       10.8 significance\n",
      "  1.58114   4.48755e-13 10.6325        6.8 significance\n",
      "  2.44654   4.08401e-13 8.11803        3.4 significance\n",
      "   3.7856   3.50064e-13       5        0.6        gamma\n",
      "  5.85755   5.06931e-13 5.34791          1 significance\n",
      "  9.06355   7.08978e-13       5        0.2        gamma\n",
      "  14.0243   9.38878e-13       5        0.2        gamma\n",
      "  21.7001   1.61486e-12       5          0        gamma\n",
      "  33.5772    2.8365e-12       5          0        gamma\n",
      "  51.9549   4.49308e-12       5          0        gamma\n",
      "  80.3913   4.15087e-12       5          0        gamma\n"
     ]
    },
    {
     "data": {
      "image/png": "[encoded data removed]",
      "text/plain": [
       "<Figure size 500x300 with 1 Axes>"
      ]
     },
     "metadata": {},
     "output_type": "display_data"
    }
   ],
   "source": [
    "sensitivity_estimator = SensitivityEstimator(\n",
    "    gamma_min=5, \n",
    "    n_sigma=3, \n",
    "    bkg_syst_fraction=0.10\n",
    ")\n",
    "sensitivity_table = sensitivity_estimator.run(dataset_onoff)\n",
    "print(sensitivity_table)\n",
    "\n",
    "# Plot the sensitivity curve\n",
    "t = sensitivity_table\n",
    "\n",
    "fix, axes = plt.subplots(figsize=(5, 3))\n",
    "\n",
    "axes.plot(t[\"energy\"], t[\"e2dnde\"], \"s-\", color=\"red\")\n",
    "axes.loglog()\n",
    "\n",
    "axes.set_xlabel(f\"Energy ({t['energy'].unit})\", size=12)\n",
    "axes.set_ylabel(f\"Sensitivity ({t['e2dnde'].unit})\", size=12)\n",
    "\n",
    "path_sens = mkdir_base_child(\"analysis\", \"sensitivity\")\n",
    "\n",
    "plt_savefig(path_sens, \"sensitivity\")"
   ]
  },
  {
   "cell_type": "markdown",
   "id": "013ea681",
   "metadata": {},
   "source": [
    "<a id='step5.4'></a>\n",
    "### Step 5.4:  Computing the Flux Points\n",
    "\n",
    "We can now compute some flux points using the `~gammapy.estimators.FluxPointsEstimator`. \n",
    "\n",
    "Besides the list of datasets to use, we must provide it the energy intervals on which to compute flux points as well as the model component name. "
   ]
  },
  {
   "cell_type": "code",
   "execution_count": 33,
   "id": "0b6306e7",
   "metadata": {
    "scrolled": true
   },
   "outputs": [
    {
     "name": "stdout",
     "output_type": "stream",
     "text": [
      "e_ref  e_min  e_max        dnde          dnde_err       dnde_errp       dnde_errn    ...   stat  is_ul     counts     success   norm_scan        stat_scan     \n",
      " TeV    TeV    TeV   1 / (cm2 s TeV) 1 / (cm2 s TeV) 1 / (cm2 s TeV) 1 / (cm2 s TeV) ...                                                                       \n",
      "------ ------ ------ --------------- --------------- --------------- --------------- ... ------- ----- -------------- ------- -------------- ------------------\n",
      " 0.115  0.093  0.143      -9.964e-13       2.721e-12       2.724e-12             nan ...  93.430  True 417.0 .. 372.0    True 0.200 .. 5.000   93.589 .. 94.939\n",
      " 0.178  0.143  0.222      -1.369e-13       6.712e-13       6.724e-13             nan ... 108.214  True 193.0 .. 180.0    True 0.200 .. 5.000 108.279 .. 110.511\n",
      " 0.276  0.222  0.343       2.217e-14       1.838e-13       1.843e-13             nan ...  98.664  True  108.0 .. 99.0    True 0.200 .. 5.000  98.666 .. 101.465\n",
      " 0.531  0.343  0.821       8.114e-15       2.325e-14       2.333e-14             nan ... 238.908  True   71.0 .. 68.0    True 0.200 .. 5.000 238.957 .. 247.112\n",
      " 1.022  0.821  1.271      -4.521e-15       6.151e-15       6.198e-15             nan ...  70.797  True   12.0 .. 11.0    True 0.200 .. 5.000   71.505 .. 82.444\n",
      " 1.581  1.271  1.967       3.370e-15       2.796e-15       2.825e-15       2.768e-15 ...  89.988  True     5.0 .. 8.0    True 0.200 .. 5.000   91.261 .. 91.079\n",
      " 2.447  1.967  3.043      -2.622e-16       9.673e-16       9.805e-16             nan ... 129.712  True     1.0 .. 4.0    True 0.200 .. 5.000 129.847 .. 136.541\n",
      " 3.786  3.043  4.709      -6.527e-16       4.041e-16       4.108e-16       4.108e-16 ... 126.078  True     1.0 .. 3.0    True 0.200 .. 5.000 128.818 .. 138.761\n",
      " 5.858  4.709  7.286       1.442e-16       1.803e-16             nan             nan ...  98.978  True     0.0 .. 0.0    True 0.200 .. 5.000   99.531 .. 99.946\n",
      " 9.064  7.286 11.274       1.010e-16       1.214e-16             nan             nan ...  88.802  True     1.0 .. 0.0    True 0.200 .. 5.000   89.454 .. 88.823\n",
      "14.024 11.274 17.445       8.479e-21       4.265e-19       1.575e-17             nan ...  75.393  True     0.0 .. 1.0    True 0.200 .. 5.000   75.492 .. 78.160\n",
      "21.700 17.445 26.993       2.619e-23       2.619e-20       6.728e-18             nan ...  54.328  True     0.0 .. 0.0    True 0.200 .. 5.000   54.392 .. 55.966\n"
     ]
    }
   ],
   "source": [
    "#Compute flux points\n",
    "datasets.models = [skymodel]\n",
    "\n",
    "#fit_joint = Fit()\n",
    "#result_joint = fit_joint.run(datasets=datasets)\n",
    "\n",
    "# we make a copy here to compare it later\n",
    "model_best_joint = skymodel.copy()\n",
    "\n",
    "energy_edges = MapAxis.from_energy_bounds(\"0.1 TeV\", \"30 TeV\", nbin=12).edges\n",
    "\n",
    "fpe = FluxPointsEstimator(energy_edges=energy_edges, source=\"model_simu\", selection_optional=\"all\")\n",
    "flux_points = fpe.run(datasets=datasets)\n",
    "\n",
    "print(flux_points.to_table(sed_type=\"dnde\", formatted=True))"
   ]
  },
  {
   "cell_type": "code",
   "execution_count": 34,
   "id": "5b7cca55",
   "metadata": {
    "scrolled": true
   },
   "outputs": [
    {
     "data": {
      "image/png": "[encoded data removed]",
      "text/plain": [
       "<Figure size 640x480 with 1 Axes>"
      ]
     },
     "metadata": {},
     "output_type": "display_data"
    }
   ],
   "source": [
    "e_ref = []\n",
    "e_min = []\n",
    "e_max = []\n",
    "dnde = []\n",
    "dnde_err = []\n",
    "subtract_emin = []\n",
    "subtract_emax = []\n",
    "\n",
    "for j in range(len(flux_points[\"energy_max\"].value)):\n",
    "    if flux_points[\"dnde\"].data[j] > 0:\n",
    "        e_ref.append(flux_points[\"energy_ref\"].value[j])\n",
    "        e_min.append(flux_points[\"energy_min\"].value[j])\n",
    "        e_max.append(flux_points[\"energy_max\"].value[j])\n",
    "        dnde.append(flux_points[\"dnde\"].data[j][0])\n",
    "        dnde_err.append(flux_points[\"dnde_err\"].data[j][0])\n",
    "       \n",
    "\n",
    "flux_TEV = np.hstack((dnde))#*1e+06\n",
    "flux_err_TEV = np.hstack((dnde_err))#*1e+06  \n",
    "energy = np.hstack((e_ref))\n",
    "\n",
    "#print(len(energy), len(flux_TEV))\n",
    "#print(energy)\n",
    "#print(np.asarray(flux_TEV))\n",
    "#print(np.hstack((e_ref))-np.hstack((e_min)), np.hstack((e_max))-np.hstack((e_ref)))\n",
    "\n",
    "energy_bounds = [0.1, 50] * u.TeV\n",
    "plt.figure()\n",
    "absspecmodel.plot(\n",
    "    energy_bounds, \n",
    "    label='intrinsic spectrum + EBL'\n",
    ")\n",
    "\n",
    "xerr = [np.hstack((e_ref))-np.hstack((e_min)), np.hstack((e_max))-np.hstack((e_ref))]\n",
    "plt.errorbar(\n",
    "    e_ref, \n",
    "    flux_TEV, \n",
    "    color='red', \n",
    "    marker='o', \n",
    "    xerr = xerr, \n",
    "    yerr = flux_err_TEV, \n",
    "    linestyle='', \n",
    "    label='measured spectrum')\n",
    "plt.grid(which=\"both\")\n",
    "plt.ylim(1e-24, 1e-8)\n",
    "plt.legend(loc=\"best\")\n",
    "plt.title(\"M87\")\n",
    "\n",
    "path_flux = mkdir_base_child(\"analysis\", \"flux_point\")\n",
    "\n",
    "plt_savefig(path_flux, \"flux_point\")\n",
    "\n",
    "plt.savefig('./spectrum_srcM87.png', bbox_inches='tight')\n",
    "\n",
    "plt.savefig('./M87_gammapy_flux_point.png', bbox_inches='tight')\n",
    "plt.savefig('./M87_gammapy_flux_point.pdf', bbox_inches='tight')\n",
    "\n",
    "plt.show()\n"
   ]
  },
  {
   "cell_type": "markdown",
   "id": "e63ae483",
   "metadata": {},
   "source": [
    "___"
   ]
  },
  {
   "cell_type": "markdown",
   "id": "6803c7ef",
   "metadata": {},
   "source": [
    "🔝 [Back to Top](#intro)<br>"
   ]
  }
 ],
 "metadata": {
  "kernelspec": {
   "display_name": "Python 3 (ipykernel)",
   "language": "python",
   "name": "python3"
  },
  "language_info": {
   "codemirror_mode": {
    "name": "ipython",
    "version": 3
   },
   "file_extension": ".py",
   "mimetype": "text/x-python",
   "name": "python",
   "nbconvert_exporter": "python",
   "pygments_lexer": "ipython3",
   "version": "3.9.15"
  }
 },
 "nbformat": 4,
 "nbformat_minor": 5
}
