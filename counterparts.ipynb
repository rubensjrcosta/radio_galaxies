{
 "cells": [
  {
   "cell_type": "markdown",
   "id": "a71e54a0",
   "metadata": {},
   "source": []
  },
  {
   "cell_type": "markdown",
   "id": "482e702a",
   "metadata": {},
   "source": [
    "### Centaurus A\n",
    "[TeVCat Gamma-Ray Source Summary](http://tevcat.uchicago.edu/?mode=1;id=122)</br>\n",
    "\n",
    "[NASA/IPAC Extragalactic Database](https://ned.ipac.caltech.edu/byname?objname=Centaurus+A&hconst=67.8&omegam=0.308&omegav=0.692&wmap=4&corr_z=1)"
   ]
  },
  {
   "cell_type": "code",
   "execution_count": null,
   "id": "9196dff4",
   "metadata": {},
   "outputs": [],
   "source": []
  },
  {
   "cell_type": "markdown",
   "id": "3e61cca3",
   "metadata": {},
   "source": [
    "### NGC 1275\n",
    "http://tevcat.uchicago.edu/?mode=1;id=212</br>\n",
    "\n",
    "https://ned.ipac.caltech.edu/byname?objname=NGC+1275&hconst=67.8&omegam=0.308&omegav=0.692&wmap=4&corr_z=1"
   ]
  },
  {
   "cell_type": "code",
   "execution_count": 23,
   "id": "459247b6",
   "metadata": {},
   "outputs": [],
   "source": [
    "# from .core import \n",
    "\n",
    "import matplotlib.pyplot as plt # A collection of command style functions\n",
    "\n",
    "import numpy as np\n",
    "\n",
    "from astropy import units as u\n",
    "from astropy.units import  Quantity\n",
    "from astropy.table import Table, Column\n",
    "from astropy.coordinates import SkyCoord\n",
    "\n",
    "from feupy.utils.string_handling import name_to_txt\n",
    "from feupy.utils.units import Jy_to_erg_by_cm2_s\n",
    "from feupy.catalog import CATALOG_REGISTRY\n",
    "from feupy.analysis.config_cntr import CounterpartsConfig\n",
    "from feupy.analysis.core_cntr import Counterparts\n",
    "\n",
    "from feupy.plotters import generate_marker_set\n",
    "from feupy.target import Target\n",
    "from feupy.roi import ROI\n",
    "from feupy.utils.table import write_tables_csv\n",
    "\n",
    "from gammapy.utils.scripts import make_path\n",
    "\n",
    "from gammapy.modeling.models import Models, LogParabolaSpectralModel, SkyModel\n",
    "from gammapy.modeling import Fit"
   ]
  },
  {
   "cell_type": "code",
   "execution_count": 24,
   "id": "2a3984c4",
   "metadata": {},
   "outputs": [],
   "source": [
    "from feupy.scripts.ipynb_to_gallery import convert_ipynb_to_gallery "
   ]
  },
  {
   "cell_type": "code",
   "execution_count": 25,
   "id": "9d405003",
   "metadata": {},
   "outputs": [],
   "source": [
    "%matplotlib inline"
   ]
  },
  {
   "cell_type": "code",
   "execution_count": 26,
   "id": "18795b04",
   "metadata": {},
   "outputs": [],
   "source": [
    "import matplotlib.pyplot as plt # A collection of command style functions"
   ]
  },
  {
   "cell_type": "code",
   "execution_count": 27,
   "id": "5358c887",
   "metadata": {},
   "outputs": [],
   "source": [
    "from astropy import units as u\n",
    "from astropy.units import  Quantity\n",
    "from astropy.coordinates import SkyCoord\n",
    "from astropy.table import Table\n",
    "\n",
    "from gammapy.utils.scripts import make_path\n",
    "from gammapy.datasets import Datasets, FluxPointsDataset\n",
    "\n",
    "from gammapy.estimators import FluxPoints\n",
    "from gammapy.modeling.models import Models, LogParabolaSpectralModel, SkyModel\n",
    "from gammapy.modeling import Fit\n",
    "\n",
    "from feupy.utils.string_handling import name_to_txt\n",
    "from feupy.catalog import CATALOG_REGISTRY\n",
    "from feupy.analysis.config_cntr import CounterpartsConfig\n",
    "from feupy.analysis.core_cntr import Counterparts\n",
    "from feupy.plotters import generate_marker_set\n",
    "from feupy.target import Target\n",
    "from feupy.roi import ROI\n",
    "\n",
    "from core import get_data_VizieR_byname"
   ]
  },
  {
   "cell_type": "code",
   "execution_count": null,
   "id": "2eaa22c9",
   "metadata": {},
   "outputs": [],
   "source": []
  },
  {
   "cell_type": "code",
   "execution_count": null,
   "id": "3c2debe1",
   "metadata": {},
   "outputs": [],
   "source": []
  },
  {
   "cell_type": "code",
   "execution_count": 4,
   "id": "66126bad",
   "metadata": {},
   "outputs": [],
   "source": [
    "source_name = 'NGC 1275'\n",
    "name_file = name_to_txt(source_name)\n",
    "position = SkyCoord.from_name(source_name)"
   ]
  },
  {
   "cell_type": "code",
   "execution_count": 5,
   "id": "59d13bb0",
   "metadata": {},
   "outputs": [],
   "source": [
    "outdir = f\"./{name_file}\"\n",
    "outdir_path = make_path(outdir)\n",
    "outdir_path.mkdir(parents=True, exist_ok=True)\n",
    "\n",
    "datasets_path = make_path(f\"{outdir_path}/datasets/\")\n",
    "datasets_path.mkdir(parents=True, exist_ok=True)\n",
    "\n",
    "figures_path = make_path(f\"{outdir_path}/figures/\")\n",
    "figures_path.mkdir(parents=True, exist_ok=True)\n",
    "\n",
    "data_path = make_path(f\"./data/{outdir}\")\n",
    "data_path.mkdir(parents=True, exist_ok=True)"
   ]
  },
  {
   "cell_type": "code",
   "execution_count": 6,
   "id": "c25f64dc",
   "metadata": {},
   "outputs": [],
   "source": [
    "config = CounterpartsConfig()\n",
    "\n",
    "config.general.outdir = outdir\n",
    "config.general.datasets_file = f\"{datasets_path}/datasets.yaml\"\n",
    "config.general.models_file = f\"{datasets_path}/models.yaml\""
   ]
  },
  {
   "cell_type": "code",
   "execution_count": 7,
   "id": "a61dd308",
   "metadata": {},
   "outputs": [],
   "source": [
    "# catalog = CATALOG_REGISTRY.get_cls(\"gamma-cat\")()\n",
    "# source = catalog[source_name]\n",
    "# print(source.info())"
   ]
  },
  {
   "cell_type": "code",
   "execution_count": 8,
   "id": "68376c86",
   "metadata": {
    "scrolled": true
   },
   "outputs": [
    {
     "data": {
      "text/html": [
       "<div><i>Table length=556</i>\n",
       "<table id=\"table131931225477712\" class=\"table-striped table-bordered table-condensed\">\n",
       "<thead><tr><th>No.</th><th>Observed Passband</th><th>Photometry Measurement</th><th>Uncertainty</th><th>Units</th><th>Frequency</th><th>Flux Density</th><th>Upper limit of uncertainty</th><th>Lower limit of uncertainty</th><th>Upper limit of Flux Density</th><th>Lower limit of Flux Density</th><th>NED Uncertainty</th><th>NED Units</th><th>Refcode</th><th>Significance</th><th>Published frequency</th><th>Frequency Mode</th><th>Coordinates Targeted</th><th>Spatial Mode</th><th>Qualifiers</th><th>Comments</th></tr></thead>\n",
       "<thead><tr><th>int64</th><th>str20</th><th>float64</th><th>str13</th><th>str20</th><th>float64</th><th>float64</th><th>float64</th><th>float64</th><th>float64</th><th>int64</th><th>str11</th><th>str2</th><th>str19</th><th>str23</th><th>str18</th><th>str64</th><th>str37</th><th>str57</th><th>str40</th><th>str163</th></tr></thead>\n",
       "<tr><td>1</td><td>50 GeV-2 TeV (Fermi)</td><td>8.06e-12</td><td>+/-2.72E-12</td><td>erg/cm^2^/s</td><td>2.48e+26</td><td>3.25e-15</td><td>1.1e-15</td><td>1.1e-15</td><td>--</td><td>--</td><td>+/-1.10E-15</td><td>Jy</td><td>2016ApJS..222....5A</td><td>1 sigma</td><td>1.025 TeV</td><td>Broad-band measurement</td><td>049.9670 +41.5219 (J2000)</td><td>Flux integrated from map</td><td>--</td><td>From new raw data; NED frequency assigned to mid-point ofband in keV</td></tr>\n",
       "<tr><td>2</td><td>0.01-1 TeV (Fermi)</td><td>4.8e-11</td><td>+/-3.16E-12</td><td>erg/cm^2^/s</td><td>1.22e+26</td><td>3.93e-14</td><td>2.59e-15</td><td>2.59e-15</td><td>--</td><td>--</td><td>+/-2.59E-15</td><td>Jy</td><td>2017ApJS..232...18A</td><td>1 sigma</td><td>0.51 TeV</td><td>Broad-band measurement</td><td>049.959995 +41.512283 (J2000)</td><td>From fitting to map</td><td>--</td><td>From reprocessed raw data; NED frequency assigned tomid-point of band in keV</td></tr>\n",
       "<tr><td>3</td><td>400 GeV (Whipple)</td><td>--</td><td>&lt;0.29E-11</td><td>erg cm^-2^ s^-1^</td><td>9.67e+25</td><td>--</td><td>--</td><td>--</td><td>3e-15</td><td>--</td><td>&lt;3.00E-15</td><td>Jy</td><td>2006ApJ...644..148P</td><td>90% confidence</td><td>400   GeV</td><td>Broad-band measurement</td><td>03 19 48 +41 30 42 (J2000)</td><td>Flux integrated from map</td><td>--</td><td>From new raw data</td></tr>\n",
       "<tr><td>4</td><td>100 MeV-100 GeV LAT</td><td>1.741e-10</td><td>+/-8.1E-12</td><td>erg/s/cm^2^</td><td>1.21e+25</td><td>1.44e-12</td><td>6.69e-14</td><td>6.69e-14</td><td>--</td><td>--</td><td>+/-6.69E-14</td><td>Jy</td><td>2010ApJS..188..405A</td><td>uncertainty</td><td>50050 MeV</td><td>Broad-band measurement</td><td>049.941 +41.508 (J2000)</td><td>From fitting to map</td><td>--</td><td>From new raw data; NED frequency assigned to mid-point ofband in keV</td></tr>\n",
       "<tr><td>5</td><td>0.1-100 GeV (Fermi)</td><td>1.737e-10</td><td>+/-6.2E-12</td><td>erg/cm^2^/s</td><td>1.21e+25</td><td>1.44e-12</td><td>5.12e-14</td><td>5.12e-14</td><td>--</td><td>--</td><td>+/-5.12E-14</td><td>Jy</td><td>2012ApJS..199...31N</td><td>1 sigma</td><td>50.05 GeV</td><td>Broad-band measurement</td><td>049.965 +41.513 (J2000)</td><td>Modelled datum</td><td>Variable</td><td>From new raw data; NED frequency assigned to mid-point ofband in keV</td></tr>\n",
       "<tr><td>6</td><td>0.1-100 GeV (Fermi)</td><td>1.991e-10</td><td>+/-3.9E-12</td><td>erg/cm^2^/s</td><td>1.21e+25</td><td>1.65e-12</td><td>3.22e-23</td><td>3.22e-23</td><td>--</td><td>--</td><td>+/-3.22E-23</td><td>Jy</td><td>2015ApJS..218...23A</td><td>1 sigma</td><td>50.05 GeV</td><td>Broad-band measurement</td><td>049.959 +41.514 (J2000)</td><td>From fitting to map</td><td>Variable; Gamma=2.08; Mod=LP</td><td>From new raw data; NED frequency assigned to mid-point ofband in keV</td></tr>\n",
       "<tr><td>...</td><td>...</td><td>...</td><td>...</td><td>...</td><td>...</td><td>...</td><td>...</td><td>...</td><td>...</td><td>...</td><td>...</td><td>...</td><td>...</td><td>...</td><td>...</td><td>...</td><td>...</td><td>...</td><td>...</td><td>...</td></tr>\n",
       "<tr><td>651</td><td>16.7 MHz (UTR-1)</td><td>1.55e-23</td><td>+/-14  %</td><td>W m^-2^ Hz^-1^</td><td>16700000.0</td><td>1550.0</td><td>217.0</td><td>217.0</td><td>--</td><td>--</td><td>+/-2.17E+02</td><td>Jy</td><td>1969MNRAS.143..289B</td><td>uncertainty</td><td>16.7   MHz</td><td>Broad-band measurement</td><td>03 16 28.6 +41 19.8 (B1950)</td><td>Total flux</td><td>--</td><td>From new raw data</td></tr>\n",
       "<tr><td>652</td><td>16.7 MHz</td><td>1550.0</td><td>+/-14  %</td><td>Jy</td><td>16700000.0</td><td>1550.0</td><td>217.0</td><td>217.0</td><td>--</td><td>--</td><td>+/-2.17E+02</td><td>Jy</td><td>1969MNRAS.143..289B</td><td>estimated error</td><td>16.7       MHz</td><td>Broad-band measurement</td><td>--</td><td>Total flux</td><td>--</td><td>From new raw data</td></tr>\n",
       "<tr><td>653</td><td>14.7 MHz</td><td>1670.0</td><td>+/-13  %</td><td>Jy</td><td>14700000.0</td><td>1670.0</td><td>217.0</td><td>217.0</td><td>--</td><td>--</td><td>+/-2.17E+02</td><td>Jy</td><td>1969MNRAS.143..289B</td><td>estimated error</td><td>14.7       MHz</td><td>Broad-band measurement</td><td>--</td><td>Total flux</td><td>--</td><td>From new raw data</td></tr>\n",
       "<tr><td>654</td><td>14.7 MHz (UTR-1)</td><td>1.67e-23</td><td>+/-13  %</td><td>W m^-2^ Hz^-1^</td><td>14700000.0</td><td>1670.0</td><td>217.0</td><td>217.0</td><td>--</td><td>--</td><td>+/-2.17E+02</td><td>Jy</td><td>1969MNRAS.143..289B</td><td>uncertainty</td><td>14.7   MHz</td><td>Broad-band measurement</td><td>03 16 28.6 +41 19.8 (B1950)</td><td>Total flux</td><td>--</td><td>From new raw data</td></tr>\n",
       "<tr><td>655</td><td>12.6 MHz</td><td>1900.0</td><td>+/-13  %</td><td>Jy</td><td>12600000.0</td><td>1900.0</td><td>247.0</td><td>247.0</td><td>--</td><td>--</td><td>+/-2.47E+02</td><td>Jy</td><td>1969MNRAS.143..289B</td><td>estimated error</td><td>12.6       MHz</td><td>Broad-band measurement</td><td>--</td><td>Total flux</td><td>--</td><td>From new raw data</td></tr>\n",
       "<tr><td>656</td><td>12.6 MHz (UTR-1)</td><td>1.9e-23</td><td>+/-13  %</td><td>W m^-2^ Hz^-1^</td><td>12600000.0</td><td>1900.0</td><td>247.0</td><td>247.0</td><td>--</td><td>--</td><td>+/-2.47E+02</td><td>Jy</td><td>1969MNRAS.143..289B</td><td>uncertainty</td><td>12.6   MHz</td><td>Broad-band measurement</td><td>03 16 28.6 +41 19.8 (B1950)</td><td>Total flux</td><td>--</td><td>From new raw data</td></tr>\n",
       "<tr><td>657</td><td>10 MHz</td><td>1704.0</td><td>+/-384.000</td><td>Jy</td><td>10000000.0</td><td>1700.0</td><td>384.0</td><td>384.0</td><td>--</td><td>--</td><td>+/-3.84E+02</td><td>Jy</td><td>1980MNRAS.190..903L</td><td>uncertainty</td><td>10         MHz</td><td>Broad-band measurement</td><td>--</td><td>Total flux</td><td>--</td><td>Homogenized from previously published data</td></tr>\n",
       "</table></div>"
      ],
      "text/plain": [
       "<Table length=556>\n",
       " No.  ...\n",
       "int64 ...\n",
       "----- ...\n",
       "    1 ...\n",
       "    2 ...\n",
       "    3 ...\n",
       "    4 ...\n",
       "    5 ...\n",
       "    6 ...\n",
       "  ... ...\n",
       "  651 ...\n",
       "  652 ...\n",
       "  653 ...\n",
       "  654 ...\n",
       "  655 ...\n",
       "  656 ...\n",
       "  657 ..."
      ]
     },
     "execution_count": 8,
     "metadata": {},
     "output_type": "execute_result"
    }
   ],
   "source": [
    "file = f'{data_path}/table_photandseds.csv'\n",
    "table = Table.read(file)\n",
    "table"
   ]
  },
  {
   "cell_type": "code",
   "execution_count": null,
   "id": "fb99bfdb",
   "metadata": {},
   "outputs": [],
   "source": []
  },
  {
   "cell_type": "code",
   "execution_count": null,
   "id": "ab5018ea",
   "metadata": {},
   "outputs": [],
   "source": [
    "file = f'{data_path}/table_qlphot.csv'\n",
    "table = Table.read(file)\n",
    "table"
   ]
  },
  {
   "cell_type": "code",
   "execution_count": null,
   "id": "f96579f2",
   "metadata": {},
   "outputs": [],
   "source": [
    "columns = ['Spectral Region',\n",
    " 'Band',\n",
    " 'Apparent Mag or Flux',\n",
    " 'Reference code',\n",
    " 'Absolute Mag or νLν [W]',\n",
    " 'νLν [L☉(Bolometric)]']"
   ]
  },
  {
   "cell_type": "code",
   "execution_count": null,
   "id": "cc7d8603",
   "metadata": {},
   "outputs": [],
   "source": [
    "table_ =  table[columns]\n",
    "table_"
   ]
  },
  {
   "cell_type": "code",
   "execution_count": null,
   "id": "835f2269",
   "metadata": {},
   "outputs": [],
   "source": [
    "write_tables_csv(table_, path_file=data_path, file_name= 'table_qlphot_')"
   ]
  },
  {
   "cell_type": "code",
   "execution_count": null,
   "id": "7d8f02f1",
   "metadata": {},
   "outputs": [],
   "source": [
    "file = f'{data_path}/table_qlphot_.csv'\n",
    "table_ = Table.read(file)\n",
    "table_"
   ]
  },
  {
   "cell_type": "code",
   "execution_count": null,
   "id": "35478a6e",
   "metadata": {},
   "outputs": [],
   "source": [
    "!pip install pylatex"
   ]
  },
  {
   "cell_type": "code",
   "execution_count": null,
   "id": "4935de9e",
   "metadata": {},
   "outputs": [],
   "source": [
    "\n",
    "\n",
    "import csv\n",
    "def csv_to_latex(csv_file):\n",
    "    with open(csv_file, 'r') as file:\n",
    "        reader = csv.reader(file)\n",
    "        headers = next(reader)\n",
    "        latex_table = \"\\\\begin{tabular}{lcr}\\n\" + \" & \".join(headers) + \" \\\\\\\\\\n\\\\hline\\n\"\n",
    "        for row in reader:\n",
    "            latex_table += \" & \".join(row) + \" \\\\\\\\\\n\"\n",
    "        latex_table += \"\\\\end{tabular}\"\n",
    "    return latex_table\n",
    "\n",
    "table = \n",
    "print(csv_to_latex(f'{data_path}/table_qlphot.csv'))"
   ]
  },
  {
   "cell_type": "code",
   "execution_count": null,
   "id": "4572e8e3",
   "metadata": {},
   "outputs": [],
   "source": []
  },
  {
   "cell_type": "code",
   "execution_count": null,
   "id": "358dc6f9",
   "metadata": {},
   "outputs": [],
   "source": [
    "datasets_VizieR = get_data_VizieR_byname(table)"
   ]
  },
  {
   "cell_type": "code",
   "execution_count": null,
   "id": "a96feaad",
   "metadata": {},
   "outputs": [],
   "source": [
    "datasets = Datasets(datasets_VizieR)"
   ]
  },
  {
   "cell_type": "code",
   "execution_count": null,
   "id": "476b0f37",
   "metadata": {},
   "outputs": [],
   "source": []
  },
  {
   "cell_type": "code",
   "execution_count": null,
   "id": "7afda0c9",
   "metadata": {},
   "outputs": [],
   "source": [
    "xaxis_label = r'$\\rm{E\\ [TeV] }$'\n",
    "xaxis_units = u.Unit('TeV')\n",
    "\n",
    "yaxis_label = r'$\\rm{E^2\\ J(E)\\ [erg\\ cm^{-2}\\ s^{-1}] }$'\n",
    "yaxis_units = u.Unit('erg cm-2 s-1')\n",
    "\n",
    "energy_bounds = [1e-22, 1e3] * u.TeV\n",
    "ylim = [1e-16, 1e-8]\n",
    "\n",
    "leg_place = dict(\n",
    "    bbox_to_anchor = (1, 0.5), # Set legend outside plot\n",
    "    ncol=1, \n",
    "#     loc='upper left', \n",
    ")\n",
    "markers = generate_marker_set(datasets.names, 5)"
   ]
  },
  {
   "cell_type": "code",
   "execution_count": null,
   "id": "7157fd3d",
   "metadata": {},
   "outputs": [],
   "source": [
    "markers"
   ]
  },
  {
   "cell_type": "code",
   "execution_count": null,
   "id": "0da38f53",
   "metadata": {},
   "outputs": [],
   "source": [
    "markers"
   ]
  },
  {
   "cell_type": "code",
   "execution_count": null,
   "id": "bed93c3b",
   "metadata": {},
   "outputs": [],
   "source": [
    "fig, ax = plt.subplots(1, 1, figsize=(8, 5))\n",
    "\n",
    "kwargs = {\"ax\": ax, \"sed_type\": \"e2dnde\"}\n",
    "\n",
    "for index, d in enumerate(datasets):\n",
    "    marker=markers['marker'][index] \n",
    "    label=markers['label'][index] \n",
    "    markersize=markers['markersize'][index] \n",
    "    color=markers['color'][index] \n",
    "\n",
    "    d.data.plot(\n",
    "        label=d.name, \n",
    "        c=color,\n",
    "        marker=marker,\n",
    "        markersize=markersize,\n",
    "        ls='None',\n",
    "        mec='k',\n",
    "        mew=0.5,\n",
    "        elinewidth=0.7,\n",
    "        capsize=1.5,\n",
    "        **kwargs\n",
    "    )\n",
    "    \n",
    "ax.yaxis.set_units(yaxis_units)\n",
    "ax.xaxis.set_units(xaxis_units)\n",
    "\n",
    "ax.set_xlabel(xaxis_label)\n",
    "ax.set_ylabel(yaxis_label)\n",
    "\n",
    "ax.set_xlim(energy_bounds)\n",
    "ax.set_ylim(ylim)\n",
    "\n",
    "ax.legend(loc='upper left', ncol=1, fontsize=5, bbox_to_anchor=(1,1))\n",
    "\n",
    "plt.title(f\"{source_name}\")\n",
    "\n",
    "plt.savefig(f\"{figures_path}/flux_points_VizieR_{name_file}\")\n",
    "plt.show()\n"
   ]
  },
  {
   "cell_type": "code",
   "execution_count": null,
   "id": "14d1f731",
   "metadata": {},
   "outputs": [],
   "source": []
  },
  {
   "cell_type": "code",
   "execution_count": 9,
   "id": "2f2dd029",
   "metadata": {
    "scrolled": true
   },
   "outputs": [
    {
     "name": "stderr",
     "output_type": "stream",
     "text": [
      "Setting logging config: {'level': 'INFO', 'filename': None, 'filemode': None, 'format': None, 'datefmt': None}\n"
     ]
    },
    {
     "name": "stdout",
     "output_type": "stream",
     "text": [
      "SourceCatalogGammaCat:\n",
      "    name: gamma-cat\n",
      "    description: An open catalog of gamma-ray sources\n",
      "    sources: 162\n",
      "\n",
      "SourceCatalogHGPS:\n",
      "    name: hgps\n",
      "    description: H.E.S.S. Galactic plane survey (HGPS) source catalog\n",
      "    sources: 78\n",
      "\n",
      "SourceCatalog2HWC:\n",
      "    name: 2hwc\n",
      "    description: 2HWC catalog from the HAWC observatory\n",
      "    sources: 40\n",
      "\n",
      "SourceCatalog3FGL:\n",
      "    name: 3fgl\n",
      "    description: LAT 4-year point source catalog\n",
      "    sources: 3034\n",
      "\n",
      "SourceCatalog4FGL:\n",
      "    name: 4fgl\n",
      "    description: LAT 8-year point source catalog\n",
      "    sources: 6659\n",
      "\n",
      "SourceCatalog2FHL:\n",
      "    name: 2fhl\n",
      "    description: LAT second high-energy source catalog\n",
      "    sources: 360\n",
      "\n",
      "SourceCatalog3FHL:\n",
      "    name: 3fhl\n",
      "    description: LAT third high-energy source catalog\n",
      "    sources: 1556\n",
      "\n",
      "SourceCatalog3HWC:\n",
      "    name: 3hwc\n",
      "    description: 3HWC catalog from the HAWC observatory\n",
      "    sources: 65\n",
      "\n",
      "SourceCatalogExtraHAWC:\n",
      "    name: extraHAWC\n",
      "    description: extraHAWC catalog from the HAWC observatory\n",
      "    sources: 8\n",
      "\n",
      "SourceCatalogPublishNatureLHAASO:\n",
      "    name: publish-nature-lhaaso\n",
      "    description: LHAASO first 12 PeVatrons Catalogue\n",
      "    sources: 12\n",
      "\n",
      "SourceCatalogATNF:\n",
      "    name: ATNF\n",
      "    description: A comprehensive database of all published pulsars\n",
      "    sources: 3389\n",
      "\n",
      "SourceCatalog1LHAASO:\n",
      "    name: 1LHAASO\n",
      "    description: 1LHAASO catalog from the LHAASO observatory\n",
      "    sources: 90\n",
      "\n",
      "The error is: (NGC 1275) 'NoneType' object is not callable\n",
      "Total number of gamma sources: 4\n",
      "Total number of flux points tables: 4\n",
      "Total number of pulsars: 0\n"
     ]
    }
   ],
   "source": [
    "target = Target(\n",
    "    name=source_name, \n",
    "    pos_ra=position.ra, \n",
    "    pos_dec=position.dec,\n",
    ")\n",
    "\n",
    "radius_roi = 0.25 * u.Unit(\"deg\")\n",
    "\n",
    "roi = ROI(target=target, radius=radius_roi)\n",
    "\n",
    "config.roi = roi.dict\n",
    "config.roi.catalogs = \"all\"\n",
    "\n",
    "analysis = Counterparts(config)\n",
    "analysis.run()\n"
   ]
  },
  {
   "cell_type": "code",
   "execution_count": 10,
   "id": "ff044cbe",
   "metadata": {},
   "outputs": [
    {
     "data": {
      "text/html": [
       "<div>\n",
       "<style scoped>\n",
       "    .dataframe tbody tr th:only-of-type {\n",
       "        vertical-align: middle;\n",
       "    }\n",
       "\n",
       "    .dataframe tbody tr th {\n",
       "        vertical-align: top;\n",
       "    }\n",
       "\n",
       "    .dataframe thead th {\n",
       "        text-align: right;\n",
       "    }\n",
       "</style>\n",
       "<table border=\"1\" class=\"dataframe\">\n",
       "  <thead>\n",
       "    <tr style=\"text-align: right;\">\n",
       "      <th></th>\n",
       "      <th>Source name</th>\n",
       "      <th>RA(deg)</th>\n",
       "      <th>dec.(deg)</th>\n",
       "      <th>Sep.(deg)</th>\n",
       "    </tr>\n",
       "  </thead>\n",
       "  <tbody>\n",
       "    <tr>\n",
       "      <th>0</th>\n",
       "      <td>3FGL J0319.8+4130</td>\n",
       "      <td>49.958599</td>\n",
       "      <td>41.513699</td>\n",
       "      <td>0.006268</td>\n",
       "    </tr>\n",
       "    <tr>\n",
       "      <th>1</th>\n",
       "      <td>4FGL J0319.8+4130</td>\n",
       "      <td>49.957500</td>\n",
       "      <td>41.512100</td>\n",
       "      <td>0.005133</td>\n",
       "    </tr>\n",
       "    <tr>\n",
       "      <th>2</th>\n",
       "      <td>2FHL J0319.8+4131</td>\n",
       "      <td>49.966999</td>\n",
       "      <td>41.521900</td>\n",
       "      <td>0.015927</td>\n",
       "    </tr>\n",
       "    <tr>\n",
       "      <th>3</th>\n",
       "      <td>3FHL J0319.8+4130</td>\n",
       "      <td>49.959995</td>\n",
       "      <td>41.512283</td>\n",
       "      <td>0.007010</td>\n",
       "    </tr>\n",
       "  </tbody>\n",
       "</table>\n",
       "</div>"
      ],
      "text/plain": [
       "         Source name    RA(deg)  dec.(deg)  Sep.(deg)\n",
       "0  3FGL J0319.8+4130  49.958599  41.513699   0.006268\n",
       "1  4FGL J0319.8+4130  49.957500  41.512100   0.005133\n",
       "2  2FHL J0319.8+4131  49.966999  41.521900   0.015927\n",
       "3  3FHL J0319.8+4130  49.959995  41.512283   0.007010"
      ]
     },
     "execution_count": 10,
     "metadata": {},
     "output_type": "execute_result"
    }
   ],
   "source": [
    "analysis.df_sep"
   ]
  },
  {
   "cell_type": "code",
   "execution_count": 11,
   "id": "a4642166",
   "metadata": {},
   "outputs": [],
   "source": [
    "# analysis.datasets.names"
   ]
  },
  {
   "cell_type": "code",
   "execution_count": 12,
   "id": "47c08889",
   "metadata": {},
   "outputs": [],
   "source": [
    "# analysis.write_datasets()\n",
    "# analysis.write_models()"
   ]
  },
  {
   "cell_type": "code",
   "execution_count": 13,
   "id": "0b0c2245",
   "metadata": {},
   "outputs": [],
   "source": [
    "models = Models()\n",
    "datasets = Datasets()"
   ]
  },
  {
   "cell_type": "code",
   "execution_count": 14,
   "id": "ec9d00d8",
   "metadata": {},
   "outputs": [],
   "source": [
    "# path_dir = datasets_dir\n",
    "# datasets_HE = Datasets.read(filename=f'{path_dir}/datasets.yaml', filename_models=f'{path_dir}/models.yaml')\n",
    "\n",
    "datasets_HE = analysis.datasets.copy()\n",
    "models.extend(datasets_HE.models)\n",
    "datasets.extend(datasets_HE.copy())"
   ]
  },
  {
   "cell_type": "code",
   "execution_count": null,
   "id": "b19af570",
   "metadata": {},
   "outputs": [],
   "source": []
  },
  {
   "cell_type": "code",
   "execution_count": 15,
   "id": "1911d7f2",
   "metadata": {},
   "outputs": [
    {
     "name": "stdout",
     "output_type": "stream",
     "text": [
      "4 unique markers generated\n"
     ]
    }
   ],
   "source": [
    "xaxis_label = r'$\\rm{E\\ [MeV] }$'\n",
    "xaxis_units = u.Unit('MeV')\n",
    "\n",
    "yaxis_label = r'$\\rm{E^2\\ J(E)\\ [erg\\ cm^{-2}\\ s^{-1}] }$'\n",
    "yaxis_units = u.Unit('erg cm-2 s-1')\n",
    "\n",
    "energy_bounds = [1e1, 1e7] * u.MeV\n",
    "ylim = [1e-15, 1e-8]\n",
    "\n",
    "leg_place = dict(\n",
    "    bbox_to_anchor = (1, 0.5), # Set legend outside plot\n",
    "    ncol=1, \n",
    "#     loc='upper left', \n",
    ")\n",
    "markers = generate_marker_set(datasets.names, 5)"
   ]
  },
  {
   "cell_type": "code",
   "execution_count": 16,
   "id": "b5f5a732",
   "metadata": {},
   "outputs": [
    {
     "data": {
      "text/html": [
       "<div><i>Table length=4</i>\n",
       "<table id=\"table131930166954016\" class=\"table-striped table-bordered table-condensed\">\n",
       "<thead><tr><th>type</th><th>name</th><th>value</th><th>unit</th><th>error</th><th>min</th><th>max</th><th>frozen</th><th>is_norm</th><th>link</th></tr></thead>\n",
       "<thead><tr><th>str8</th><th>str9</th><th>float64</th><th>str14</th><th>float64</th><th>float64</th><th>float64</th><th>bool</th><th>bool</th><th>str1</th></tr></thead>\n",
       "<tr><td>spectral</td><td>amplitude</td><td>4.7113e-11</td><td>MeV-1 s-1 cm-2</td><td>3.947e-13</td><td>nan</td><td>nan</td><td>False</td><td>True</td><td></td></tr>\n",
       "<tr><td>spectral</td><td>reference</td><td>9.1798e+02</td><td>MeV</td><td>0.000e+00</td><td>nan</td><td>nan</td><td>True</td><td>False</td><td></td></tr>\n",
       "<tr><td>spectral</td><td>alpha</td><td>2.0492e+00</td><td></td><td>6.619e-03</td><td>nan</td><td>nan</td><td>False</td><td>False</td><td></td></tr>\n",
       "<tr><td>spectral</td><td>beta</td><td>6.8538e-02</td><td></td><td>3.523e-03</td><td>nan</td><td>nan</td><td>False</td><td>False</td><td></td></tr>\n",
       "</table></div>"
      ],
      "text/plain": [
       "<Table length=4>\n",
       "  type      name     value         unit      ...   max   frozen is_norm link\n",
       "  str8      str9    float64       str14      ... float64  bool    bool  str1\n",
       "-------- --------- ---------- -------------- ... ------- ------ ------- ----\n",
       "spectral amplitude 4.7113e-11 MeV-1 s-1 cm-2 ...     nan  False    True     \n",
       "spectral reference 9.1798e+02            MeV ...     nan   True   False     \n",
       "spectral     alpha 2.0492e+00                ...     nan  False   False     \n",
       "spectral      beta 6.8538e-02                ...     nan  False   False     "
      ]
     },
     "metadata": {},
     "output_type": "display_data"
    }
   ],
   "source": [
    "spectral_model = datasets_HE.models[1].spectral_model\n",
    "\n",
    "model_fit = SkyModel(\n",
    "#     spatial_model=spatial_model,\n",
    "    spectral_model=spectral_model,\n",
    "    name=\"model-fit\",\n",
    ")\n",
    "models.append(model_fit)\n",
    "display(model_fit.parameters.to_table())"
   ]
  },
  {
   "cell_type": "code",
   "execution_count": 17,
   "id": "69cb7069",
   "metadata": {},
   "outputs": [
    {
     "data": {
      "text/html": [
       "<div><i>Table length=4</i>\n",
       "<table id=\"table131930166952096\" class=\"table-striped table-bordered table-condensed\">\n",
       "<thead><tr><th>type</th><th>name</th><th>value</th><th>unit</th><th>error</th><th>min</th><th>max</th><th>frozen</th><th>is_norm</th><th>link</th></tr></thead>\n",
       "<thead><tr><th>str8</th><th>str9</th><th>float64</th><th>str14</th><th>float64</th><th>float64</th><th>float64</th><th>bool</th><th>bool</th><th>str1</th></tr></thead>\n",
       "<tr><td>spectral</td><td>amplitude</td><td>4.7113e-11</td><td>MeV-1 s-1 cm-2</td><td>3.947e-13</td><td>nan</td><td>nan</td><td>False</td><td>True</td><td></td></tr>\n",
       "<tr><td>spectral</td><td>reference</td><td>9.1798e+02</td><td>MeV</td><td>0.000e+00</td><td>nan</td><td>nan</td><td>True</td><td>False</td><td></td></tr>\n",
       "<tr><td>spectral</td><td>alpha</td><td>2.0492e+00</td><td></td><td>6.619e-03</td><td>nan</td><td>nan</td><td>False</td><td>False</td><td></td></tr>\n",
       "<tr><td>spectral</td><td>beta</td><td>6.8538e-02</td><td></td><td>3.523e-03</td><td>nan</td><td>nan</td><td>False</td><td>False</td><td></td></tr>\n",
       "</table></div>"
      ],
      "text/plain": [
       "<Table length=4>\n",
       "  type      name     value         unit      ...   max   frozen is_norm link\n",
       "  str8      str9    float64       str14      ... float64  bool    bool  str1\n",
       "-------- --------- ---------- -------------- ... ------- ------ ------- ----\n",
       "spectral amplitude 4.7113e-11 MeV-1 s-1 cm-2 ...     nan  False    True     \n",
       "spectral reference 9.1798e+02            MeV ...     nan   True   False     \n",
       "spectral     alpha 2.0492e+00                ...     nan  False   False     \n",
       "spectral      beta 6.8538e-02                ...     nan  False   False     "
      ]
     },
     "metadata": {},
     "output_type": "display_data"
    }
   ],
   "source": [
    "display(model_fit.parameters.to_table())"
   ]
  },
  {
   "cell_type": "code",
   "execution_count": 18,
   "id": "b8f76403",
   "metadata": {},
   "outputs": [
    {
     "data": {
      "text/html": [
       "<div><i>Table length=4</i>\n",
       "<table id=\"table131930166935408\" class=\"table-striped table-bordered table-condensed\">\n",
       "<thead><tr><th>type</th><th>name</th><th>value</th><th>unit</th><th>error</th><th>min</th><th>max</th><th>frozen</th><th>is_norm</th><th>link</th></tr></thead>\n",
       "<thead><tr><th>str8</th><th>str9</th><th>float64</th><th>str14</th><th>float64</th><th>float64</th><th>float64</th><th>bool</th><th>bool</th><th>str1</th></tr></thead>\n",
       "<tr><td>spectral</td><td>amplitude</td><td>3.8931e-11</td><td>MeV-1 s-1 cm-2</td><td>2.933e-13</td><td>nan</td><td>nan</td><td>False</td><td>True</td><td></td></tr>\n",
       "<tr><td>spectral</td><td>reference</td><td>9.1798e+02</td><td>MeV</td><td>0.000e+00</td><td>nan</td><td>nan</td><td>True</td><td>False</td><td></td></tr>\n",
       "<tr><td>spectral</td><td>alpha</td><td>1.9613e+00</td><td></td><td>7.311e-03</td><td>nan</td><td>nan</td><td>False</td><td>False</td><td></td></tr>\n",
       "<tr><td>spectral</td><td>beta</td><td>9.6899e-02</td><td></td><td>2.859e-03</td><td>nan</td><td>nan</td><td>False</td><td>False</td><td></td></tr>\n",
       "</table></div>"
      ],
      "text/plain": [
       "<Table length=4>\n",
       "  type      name     value         unit      ...   max   frozen is_norm link\n",
       "  str8      str9    float64       str14      ... float64  bool    bool  str1\n",
       "-------- --------- ---------- -------------- ... ------- ------ ------- ----\n",
       "spectral amplitude 3.8931e-11 MeV-1 s-1 cm-2 ...     nan  False    True     \n",
       "spectral reference 9.1798e+02            MeV ...     nan   True   False     \n",
       "spectral     alpha 1.9613e+00                ...     nan  False   False     \n",
       "spectral      beta 9.6899e-02                ...     nan  False   False     "
      ]
     },
     "metadata": {},
     "output_type": "display_data"
    }
   ],
   "source": [
    "datasets.models = model_fit\n",
    "fitter = Fit()\n",
    "result_fit = fitter.run(datasets=datasets)\n",
    "display(model_fit.parameters.to_table())"
   ]
  },
  {
   "cell_type": "code",
   "execution_count": 19,
   "id": "0c603744",
   "metadata": {},
   "outputs": [
    {
     "data": {
      "text/plain": [
       "True"
      ]
     },
     "execution_count": 19,
     "metadata": {},
     "output_type": "execute_result"
    }
   ],
   "source": [
    "result_fit.success"
   ]
  },
  {
   "cell_type": "code",
   "execution_count": 20,
   "id": "2b3d7c4b",
   "metadata": {},
   "outputs": [
    {
     "data": {
      "text/plain": [
       "['3FGL J0319.8+4130',\n",
       " '4FGL J0319.8+4130',\n",
       " '2FHL J0319.8+4131',\n",
       " '3FHL J0319.8+4130']"
      ]
     },
     "execution_count": 20,
     "metadata": {},
     "output_type": "execute_result"
    }
   ],
   "source": [
    "datasets.names"
   ]
  },
  {
   "cell_type": "code",
   "execution_count": 21,
   "id": "00e74760",
   "metadata": {},
   "outputs": [],
   "source": [
    "energy_bounds = [1e1, 1e7] * u.MeV\n",
    "ylim = [1e-15, 1e-8]"
   ]
  },
  {
   "cell_type": "code",
   "execution_count": 28,
   "id": "510e0a21",
   "metadata": {},
   "outputs": [
    {
     "data": {
      "image/png": "[encoded data removed]",
      "text/plain": [
       "<Figure size 2400x1500 with 1 Axes>"
      ]
     },
     "metadata": {},
     "output_type": "display_data"
    }
   ],
   "source": [
    "fig, ax = plt.subplots(1, 1, figsize=(8, 5))\n",
    "\n",
    "kwargs = {\"ax\": ax, \"sed_type\": \"e2dnde\"}\n",
    "\n",
    "for index, d in enumerate(datasets):\n",
    "    marker=markers['marker'][index] \n",
    "    label=markers['label'][index] \n",
    "    markersize=markers['markersize'][index] \n",
    "    color=markers['color'][index] \n",
    "\n",
    "    d.data.plot(\n",
    "        label=d.name, \n",
    "        c=color,\n",
    "        marker=marker,\n",
    "        markersize=markersize,\n",
    "        ls='None',\n",
    "        mec='k',\n",
    "        mew=0.5,\n",
    "        elinewidth=0.7,\n",
    "        capsize=1.5,\n",
    "        **kwargs\n",
    "    )\n",
    "    \n",
    "model_fit.spectral_model.plot(energy_bounds=energy_bounds, label=model_fit.name, color=\"k\", **kwargs)\n",
    "model_fit.spectral_model.plot_error(energy_bounds=energy_bounds, **kwargs)\n",
    "ax.yaxis.set_units(yaxis_units)\n",
    "ax.xaxis.set_units(xaxis_units)\n",
    "\n",
    "ax.set_xlabel(xaxis_label)\n",
    "ax.set_ylabel(yaxis_label)\n",
    "\n",
    "ax.set_xlim(energy_bounds)\n",
    "ax.set_ylim(ylim)\n",
    "\n",
    "ax.legend(loc='upper left', ncol=1, fontsize=5, bbox_to_anchor=(1,1))\n",
    "\n",
    "plt.title(f\"{source_name}\")\n",
    "\n",
    "plt.savefig(f\"{figures_path}/SED_HE_{name_file}\")\n",
    "plt.show()\n"
   ]
  },
  {
   "cell_type": "code",
   "execution_count": 29,
   "id": "fd493906",
   "metadata": {},
   "outputs": [],
   "source": [
    "analysis.datasets.models = models"
   ]
  },
  {
   "cell_type": "code",
   "execution_count": 30,
   "id": "66fb7d92",
   "metadata": {},
   "outputs": [],
   "source": [
    "datasets.models = models"
   ]
  },
  {
   "cell_type": "code",
   "execution_count": 31,
   "id": "c62ee3cf",
   "metadata": {},
   "outputs": [
    {
     "ename": "NameError",
     "evalue": "name 'datasets_VizieR' is not defined",
     "output_type": "error",
     "traceback": [
      "\u001b[0;31m---------------------------------------------------------------------------\u001b[0m",
      "\u001b[0;31mNameError\u001b[0m                                 Traceback (most recent call last)",
      "Cell \u001b[0;32mIn[31], line 1\u001b[0m\n\u001b[0;32m----> 1\u001b[0m datasets\u001b[38;5;241m.\u001b[39mextend(\u001b[43mdatasets_VizieR\u001b[49m)\n\u001b[1;32m      2\u001b[0m analysis\u001b[38;5;241m.\u001b[39mdatasets \u001b[38;5;241m=\u001b[39m datasets\n",
      "\u001b[0;31mNameError\u001b[0m: name 'datasets_VizieR' is not defined"
     ]
    }
   ],
   "source": [
    "datasets.extend(datasets_VizieR)\n",
    "analysis.datasets = datasets"
   ]
  },
  {
   "cell_type": "code",
   "execution_count": null,
   "id": "7f285670",
   "metadata": {},
   "outputs": [],
   "source": [
    "display(models['model-fit'].parameters.to_table())"
   ]
  },
  {
   "cell_type": "code",
   "execution_count": null,
   "id": "2984b42f",
   "metadata": {},
   "outputs": [],
   "source": [
    "display(datasets.models['model-fit'].parameters.to_table())"
   ]
  },
  {
   "cell_type": "code",
   "execution_count": null,
   "id": "8b0c7de9",
   "metadata": {},
   "outputs": [],
   "source": [
    "datasets.models[0]"
   ]
  },
  {
   "cell_type": "code",
   "execution_count": null,
   "id": "807715b1",
   "metadata": {},
   "outputs": [],
   "source": [
    "datasets.write()"
   ]
  },
  {
   "cell_type": "code",
   "execution_count": null,
   "id": "cc2260df",
   "metadata": {},
   "outputs": [],
   "source": [
    "config.write(path=f'{outdir}/config.yaml', overwrite=True)"
   ]
  },
  {
   "cell_type": "code",
   "execution_count": null,
   "id": "266429b4",
   "metadata": {},
   "outputs": [],
   "source": [
    "# config.read(config.general.config_file)"
   ]
  },
  {
   "cell_type": "code",
   "execution_count": 32,
   "id": "6af8dca2",
   "metadata": {},
   "outputs": [],
   "source": [
    "datasets.write(filename=config.general.datasets_file, filename_models=config.general.models_file, overwrite=True)"
   ]
  },
  {
   "cell_type": "code",
   "execution_count": null,
   "id": "fc4eb7ca",
   "metadata": {},
   "outputs": [],
   "source": [
    "!jupyter nbconvert counterparts.ipynb  --to notebook --output 'counterparts_{source_name}' --output-dir '.'"
   ]
  },
  {
   "cell_type": "code",
   "execution_count": null,
   "id": "409754fc",
   "metadata": {},
   "outputs": [],
   "source": [
    "convert_ipynb_to_gallery('counterparts.ipynb', output_file_name=f'{outdir}/counterparts_{source_name}')"
   ]
  },
  {
   "cell_type": "code",
   "execution_count": null,
   "id": "8df21e81",
   "metadata": {},
   "outputs": [],
   "source": []
  }
 ],
 "metadata": {
  "kernelspec": {
   "display_name": "Python 3 (ipykernel)",
   "language": "python",
   "name": "python3"
  },
  "language_info": {
   "codemirror_mode": {
    "name": "ipython",
    "version": 3
   },
   "file_extension": ".py",
   "mimetype": "text/x-python",
   "name": "python",
   "nbconvert_exporter": "python",
   "pygments_lexer": "ipython3",
   "version": "3.9.18"
  }
 },
 "nbformat": 4,
 "nbformat_minor": 5
}
